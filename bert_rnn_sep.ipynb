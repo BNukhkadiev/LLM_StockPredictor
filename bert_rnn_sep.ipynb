{
 "cells": [
  {
   "cell_type": "code",
   "execution_count": 1,
   "id": "fda13211-51f3-4192-aefc-846657dbace9",
   "metadata": {},
   "outputs": [
    {
     "name": "stdout",
     "output_type": "stream",
     "text": [
      "Train shapes:  (1551, 60, 768) (1551, 60) (1551,)\n",
      "Test shapes:  (318, 60, 768) (318, 60) (318,)\n"
     ]
    }
   ],
   "source": [
    "import torch\n",
    "import numpy as np\n",
    "import pandas as pd\n",
    "import torch.nn as nn\n",
    "from torch.utils.data import TensorDataset, DataLoader\n",
    "from utils import create_sequences\n",
    "\n",
    "# import all data\n",
    "df = pd.read_csv('data/upload_DJIA_table.csv', parse_dates=['Date'], index_col='Date')\n",
    "df = df[['Close']]\n",
    "df = df.sort_index()\n",
    "\n",
    "train_data = df[:'2014']\n",
    "test_data = df['2015':]\n",
    "\n",
    "bert_embeddings = np.load('bert_embeddings.npy')\n",
    "\n",
    "bert_embeddings_train = bert_embeddings[:train_data.shape[0]].reshape(-1, 768)\n",
    "bert_embeddings_test = bert_embeddings[train_data.shape[0]:].reshape(-1, 768)\n",
    "    \n",
    "\n",
    "X_train_emb, X_train_pr, y_train = create_sequences(train_data, 60, bert_embeddings_train)\n",
    "X_test_emb, X_test_pr, y_test = create_sequences(test_data, 60, bert_embeddings_test)\n",
    "\n",
    "\n",
    "print(\"Train shapes: \", X_train_emb.shape, X_train_pr.shape, y_train.shape)\n",
    "print(\"Test shapes: \", X_test_emb.shape, X_test_pr.shape, y_test.shape)\n",
    "\n",
    "# convert to torch dataset\n",
    "dataset_train = TensorDataset(\n",
    "    torch.from_numpy(X_train_emb).float(),\n",
    "    torch.from_numpy(X_train_pr).float(),\n",
    "    torch.from_numpy(y_train).float()\n",
    ")\n",
    "dataset_test = TensorDataset(\n",
    "    torch.from_numpy(X_test_emb).float(),\n",
    "    torch.from_numpy(X_test_pr).float(),\n",
    "    torch.from_numpy(y_test).float()\n",
    ")\n",
    "\n",
    "dataloader_train = DataLoader(dataset_train, batch_size=32, shuffle=True)\n",
    "dataloader_test = DataLoader(dataset_test, batch_size=32, shuffle=True)"
   ]
  },
  {
   "cell_type": "code",
   "execution_count": 2,
   "id": "2cc49abb-d4bd-422e-98a4-b10c91bfa35c",
   "metadata": {},
   "outputs": [
    {
     "name": "stderr",
     "output_type": "stream",
     "text": [
      "/Users/ignatiocalvin/anaconda3/envs/dowJones/lib/python3.9/site-packages/tqdm/auto.py:21: TqdmWarning: IProgress not found. Please update jupyter and ipywidgets. See https://ipywidgets.readthedocs.io/en/stable/user_install.html\n",
      "  from .autonotebook import tqdm as notebook_tqdm\n"
     ]
    }
   ],
   "source": [
    "from models import StockPredictor\n",
    "\n",
    "# Model parameters\n",
    "embedding_dim = 768  # Size of BERT embeddings\n",
    "price_dim = 1        # Each stock price is a single number\n",
    "hidden_dim = 128\n",
    "num_layers = 2\n",
    "\n",
    "model = StockPredictor(embedding_dim, price_dim, hidden_dim, num_layers)"
   ]
  },
  {
   "cell_type": "code",
   "execution_count": 3,
   "id": "85838d3d",
   "metadata": {},
   "outputs": [
    {
     "name": "stdout",
     "output_type": "stream",
     "text": [
      "Epoch 1, Loss: 160156768.0, MAE: 12655.30592281356\n",
      "Epoch 2, Loss: 164208880.0, MAE: 12814.401273567173\n",
      "Epoch 3, Loss: 126178272.0, MAE: 11232.910219529042\n",
      "Epoch 4, Loss: 46271344.0, MAE: 6802.304315450758\n",
      "Epoch 5, Loss: 17988900.0, MAE: 4241.332337839137\n",
      "Epoch 6, Loss: 6537196.5, MAE: 2556.794184129806\n",
      "Epoch 7, Loss: 7154466.0, MAE: 2674.783355713131\n",
      "Epoch 8, Loss: 11508705.0, MAE: 3392.448230997785\n",
      "Epoch 9, Loss: 6419246.0, MAE: 2533.6230974633936\n",
      "Epoch 10, Loss: 12088799.0, MAE: 3476.8950228616336\n"
     ]
    }
   ],
   "source": [
    "from models import BertRnnTrainer\n",
    "\n",
    "# Assuming you have a model instance 'model' and DataLoaders 'dataloader_train' and 'dataloader_test'\n",
    "trainer = BertRnnTrainer(model, dataloader_train, dataloader_test, num_epochs=10, learning_rate=0.001)\n",
    "trainer.train()"
   ]
  },
  {
   "cell_type": "code",
   "execution_count": 4,
   "id": "928d431c",
   "metadata": {},
   "outputs": [
    {
     "name": "stdout",
     "output_type": "stream",
     "text": [
      "Test MSE:  tensor(23333504.)\n",
      "Test MAE:  tensor(4830.4766)\n"
     ]
    }
   ],
   "source": [
    "trainer.test()"
   ]
  }
 ],
 "metadata": {
  "kernelspec": {
   "display_name": "Python 3 (ipykernel)",
   "language": "python",
   "name": "python3"
  },
  "language_info": {
   "codemirror_mode": {
    "name": "ipython",
    "version": 3
   },
   "file_extension": ".py",
   "mimetype": "text/x-python",
   "name": "python",
   "nbconvert_exporter": "python",
   "pygments_lexer": "ipython3",
   "version": "3.9.18"
  }
 },
 "nbformat": 4,
 "nbformat_minor": 5
}
