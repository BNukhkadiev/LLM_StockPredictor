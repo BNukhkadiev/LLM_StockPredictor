{
 "cells": [
  {
   "cell_type": "code",
   "execution_count": 1,
   "id": "2e5cbf7d-d260-4d1f-919a-69ac96a87a02",
   "metadata": {},
   "outputs": [],
   "source": [
    "import pandas as pd\n",
    "import numpy as np\n",
    "import math\n",
    "import matplotlib.pyplot as plt # Visualization \n",
    "import matplotlib.dates as mdates # Formatting dates\n",
    "import seaborn as sns # Visualization\n",
    "from sklearn.preprocessing import MinMaxScaler\n",
    "import torch # Library for implementing Deep Neural Network \n",
    "import torch.nn as nn\n",
    "import torch.nn.functional as F\n",
    "import torch.optim as optim\n",
    "from torch.utils.data import Dataset, DataLoader"
   ]
  },
  {
   "cell_type": "code",
   "execution_count": 3,
   "id": "560677c9-3e25-4534-88e5-67a68d016f4f",
   "metadata": {},
   "outputs": [
    {
     "name": "stdout",
     "output_type": "stream",
     "text": [
      "(1592, 1) (397, 1)\n"
     ]
    }
   ],
   "source": [
    "import math\n",
    "\n",
    "# import all data\n",
    "df = pd.read_csv('../data/upload_DJIA_table.csv', parse_dates=['Date'], index_col='Date')\n",
    "df = df[['Close']]\n",
    "df = df.sort_index()\n",
    "\n",
    "training_data_len = math.ceil(len(df) * .8)\n",
    "training_data_len\n",
    "\n",
    "train_data = df[:training_data_len].iloc[:,:1]\n",
    "test_data = df[training_data_len:].iloc[:,:1]\n",
    "print(train_data.shape, test_data.shape)\n"
   ]
  },
  {
   "cell_type": "code",
   "execution_count": 5,
   "id": "7b6278f7-f76f-4752-9b61-d9d3d887de91",
   "metadata": {},
   "outputs": [
    {
     "name": "stdout",
     "output_type": "stream",
     "text": [
      "(1592, 1, 768) (397, 1, 768)\n"
     ]
    }
   ],
   "source": [
    "bert_embeddings = np.load('../bert_embeddings.npy')\n",
    "\n",
    "bert_train = bert_embeddings[:training_data_len]\n",
    "bert_test = bert_embeddings[training_data_len:]\n",
    "print(bert_train.shape, bert_test.shape)"
   ]
  },
  {
   "cell_type": "code",
   "execution_count": 11,
   "id": "093ea82f-2d1b-4095-8680-798418f48cda",
   "metadata": {},
   "outputs": [
    {
     "data": {
      "text/plain": [
       "((397, 1), (1592, 1))"
      ]
     },
     "execution_count": 11,
     "metadata": {},
     "output_type": "execute_result"
    }
   ],
   "source": [
    "# Selecting Open Price values\n",
    "dataset_train = train_data.values\n",
    "dataset_test = test_data.values\n",
    "\n",
    "dataset_test.shape, dataset_train.shape"
   ]
  },
  {
   "cell_type": "code",
   "execution_count": 13,
   "id": "5f890661-7e52-4a93-8212-ede0b5f42256",
   "metadata": {},
   "outputs": [
    {
     "name": "stdout",
     "output_type": "stream",
     "text": [
      "[[0.45640217]\n",
      " [0.46062803]\n",
      " [0.44832069]\n",
      " [0.43868547]\n",
      " [0.44598557]]\n",
      "[0.84454818] [0.86667668] [0.82659367] [0.80725839] [0.70619221]\n"
     ]
    }
   ],
   "source": [
    "from sklearn.preprocessing import MinMaxScaler\n",
    "scaler = MinMaxScaler(feature_range=(0,1))\n",
    "# scaling dataset\n",
    "scaled_train = scaler.fit_transform(dataset_train)\n",
    "\n",
    "print(scaled_train[:5])\n",
    "# Normalizing values between 0 and 1\n",
    "scaled_test = scaler.fit_transform(dataset_test)\n",
    "print(*scaled_test[:5]) #prints the first 5 rows of scaled_test\n"
   ]
  },
  {
   "cell_type": "code",
   "execution_count": 10,
   "id": "f57e1242-265d-46ce-9ab0-81f5f6c83429",
   "metadata": {},
   "outputs": [],
   "source": [
    "class LSTMModel(nn.Module):\n",
    "\t# input_size : number of features in input at each time step\n",
    "\t# hidden_size : Number of LSTM units \n",
    "\t# num_layers : number of LSTM layers \n",
    "\tdef __init__(self, input_size, hidden_size, num_layers): \n",
    "\t\tsuper(LSTMModel, self).__init__() #initializes the parent class nn.Module\n",
    "\t\tself.lstm = nn.LSTM(input_size, hidden_size, num_layers, batch_first=True)\n",
    "\t\tself.linear = nn.Linear(hidden_size, 1)\n",
    "\n",
    "\tdef forward(self, x): # defines forward pass of the neural network\n",
    "\t\tout, _ = self.lstm(x)\n",
    "\t\tout = self.linear(out)\n",
    "\t\treturn out\n"
   ]
  },
  {
   "cell_type": "code",
   "execution_count": 11,
   "id": "fc959d6c-794c-46f0-91b4-79cc00cad5c5",
   "metadata": {},
   "outputs": [
    {
     "name": "stdout",
     "output_type": "stream",
     "text": [
      "cpu\n"
     ]
    }
   ],
   "source": [
    "device = torch.device('cuda' if torch.cuda.is_available() else 'cpu')\n",
    "print(device)\n"
   ]
  },
  {
   "cell_type": "code",
   "execution_count": 14,
   "id": "331351b7-eeb4-48ac-a391-fc79cfc70ae6",
   "metadata": {},
   "outputs": [
    {
     "name": "stdout",
     "output_type": "stream",
     "text": [
      "LSTMModel(\n",
      "  (lstm): LSTM(768, 64, num_layers=2, batch_first=True)\n",
      "  (linear): Linear(in_features=64, out_features=1, bias=True)\n",
      ")\n"
     ]
    }
   ],
   "source": [
    "input_size = 768\n",
    "num_layers = 2\n",
    "hidden_size = 64\n",
    "output_size = 1\n",
    "\n",
    "# Define the model, loss function, and optimizer\n",
    "model = LSTMModel(input_size, hidden_size, num_layers).to(device)\n",
    "\n",
    "loss_fn = torch.nn.MSELoss(reduction='mean')\n",
    "\n",
    "optimizer = torch.optim.Adam(model.parameters(), lr=1e-3)\n",
    "print(model)\n"
   ]
  },
  {
   "cell_type": "code",
   "execution_count": 21,
   "id": "7a38d8c5-fbb8-44ce-8b0e-c5a1b496e4f9",
   "metadata": {},
   "outputs": [
    {
     "data": {
      "text/plain": [
       "(torch.Size([397, 1, 768]), torch.Size([397, 1]))"
      ]
     },
     "execution_count": 21,
     "metadata": {},
     "output_type": "execute_result"
    }
   ],
   "source": [
    "# Create sequences and labels for training data\n",
    "\n",
    "X_train, y_train = bert_train, scaled_train\n",
    "X_test, y_test = bert_test, scaled_test\n",
    "\n",
    "# Convert data to PyTorch tensors\n",
    "X_train = torch.tensor(X_train, dtype=torch.float32).float()\n",
    "y_train = torch.tensor(y_train, dtype=torch.float32).float()\n",
    "\n",
    "# Convert data to PyTorch tensors\n",
    "X_test = torch.tensor(X_test, dtype=torch.float32)\n",
    "y_test = torch.tensor(y_test, dtype=torch.float32)\n",
    "\n",
    "X_test.shape, y_test.shape"
   ]
  },
  {
   "cell_type": "code",
   "execution_count": 22,
   "id": "bff97499-a4a4-4484-9d6d-13df4172cedb",
   "metadata": {},
   "outputs": [],
   "source": [
    "from torch.utils.data import TensorDataset, DataLoader\n",
    "\n",
    "\n",
    "batch_size = 16\n",
    "# Create DataLoader for batch training\n",
    "train_dataset = TensorDataset(X_train, y_train)\n",
    "train_loader = DataLoader(train_dataset, batch_size=batch_size, shuffle=True)\n",
    "\n",
    "# Create DataLoader for batch training\n",
    "test_dataset = TensorDataset(X_test, y_test)\n",
    "test_loader = DataLoader(test_dataset, batch_size=batch_size, shuffle=False)\n"
   ]
  },
  {
   "cell_type": "code",
   "execution_count": null,
   "id": "18de15e4-d69d-4ec7-9e86-00f491490d0e",
   "metadata": {},
   "outputs": [],
   "source": [
    "from torch.utils.data import TensorDataset, DataLoader\n",
    "\n",
    "\n",
    "batch_size = 16\n",
    "# Create DataLoader for batch training\n",
    "train_dataset = TensorDataset(X_train, y_train)\n",
    "train_loader = DataLoader(train_dataset, batch_size=batch_size, shuffle=True)\n",
    "\n",
    "# Create DataLoader for batch training\n",
    "test_dataset = TensorDataset(X_test, y_test)\n",
    "test_loader = DataLoader(test_dataset, batch_size=batch_size, shuffle=False)\n"
   ]
  },
  {
   "cell_type": "code",
   "execution_count": 23,
   "id": "196df065-af1e-4cdd-838a-cf2c4fc51ba6",
   "metadata": {},
   "outputs": [
    {
     "name": "stderr",
     "output_type": "stream",
     "text": [
      "/Users/baga_nuhkadiev/opt/anaconda3/lib/python3.8/site-packages/torch/nn/modules/loss.py:535: UserWarning: Using a target size (torch.Size([16, 1])) that is different to the input size (torch.Size([16, 1, 1])). This will likely lead to incorrect results due to broadcasting. Please ensure they have the same size.\n",
      "  return F.mse_loss(input, target, reduction=self.reduction)\n",
      "/Users/baga_nuhkadiev/opt/anaconda3/lib/python3.8/site-packages/torch/nn/modules/loss.py:535: UserWarning: Using a target size (torch.Size([8, 1])) that is different to the input size (torch.Size([8, 1, 1])). This will likely lead to incorrect results due to broadcasting. Please ensure they have the same size.\n",
      "  return F.mse_loss(input, target, reduction=self.reduction)\n",
      "/Users/baga_nuhkadiev/opt/anaconda3/lib/python3.8/site-packages/torch/nn/modules/loss.py:535: UserWarning: Using a target size (torch.Size([13, 1])) that is different to the input size (torch.Size([13, 1, 1])). This will likely lead to incorrect results due to broadcasting. Please ensure they have the same size.\n",
      "  return F.mse_loss(input, target, reduction=self.reduction)\n"
     ]
    },
    {
     "name": "stdout",
     "output_type": "stream",
     "text": [
      "Epoch [10/50] - Training Loss: 0.0575, Test Loss: 0.0873\n",
      "Epoch [20/50] - Training Loss: 0.0560, Test Loss: 0.0770\n",
      "Epoch [30/50] - Training Loss: 0.0567, Test Loss: 0.0790\n",
      "Epoch [40/50] - Training Loss: 0.0563, Test Loss: 0.0899\n",
      "Epoch [50/50] - Training Loss: 0.0560, Test Loss: 0.0843\n"
     ]
    }
   ],
   "source": [
    "num_epochs = 50\n",
    "train_hist =[]\n",
    "test_hist =[]\n",
    "# Training loop\n",
    "for epoch in range(num_epochs):\n",
    "\ttotal_loss = 0.0\n",
    "\n",
    "\t# Training\n",
    "\tmodel.train()\n",
    "\tfor batch_X, batch_y in train_loader:\n",
    "\t\tbatch_X, batch_y = batch_X.to(device), batch_y.to(device)\n",
    "\t\tpredictions = model(batch_X)\n",
    "\t\tloss = loss_fn(predictions, batch_y)\n",
    "\n",
    "\t\toptimizer.zero_grad()\n",
    "\t\tloss.backward()\n",
    "\t\toptimizer.step()\n",
    "\n",
    "\t\ttotal_loss += loss.item()\n",
    "\n",
    "\t# Calculate average training loss and accuracy\n",
    "\taverage_loss = total_loss / len(train_loader)\n",
    "\ttrain_hist.append(average_loss)\n",
    "\n",
    "\t# Validation on test data\n",
    "\tmodel.eval()\n",
    "\twith torch.no_grad():\n",
    "\t\ttotal_test_loss = 0.0\n",
    "\n",
    "\t\tfor batch_X_test, batch_y_test in test_loader:\n",
    "\t\t\tbatch_X_test, batch_y_test = batch_X_test.to(device), batch_y_test.to(device)\n",
    "\t\t\tpredictions_test = model(batch_X_test)\n",
    "\t\t\ttest_loss = loss_fn(predictions_test, batch_y_test)\n",
    "\n",
    "\t\t\ttotal_test_loss += test_loss.item()\n",
    "\n",
    "\t\t# Calculate average test loss and accuracy\n",
    "\t\taverage_test_loss = total_test_loss / len(test_loader)\n",
    "\t\ttest_hist.append(average_test_loss)\n",
    "\tif (epoch+1)%10==0:\n",
    "\t\tprint(f'Epoch [{epoch+1}/{num_epochs}] - Training Loss: {average_loss:.4f}, Test Loss: {average_test_loss:.4f}')\n"
   ]
  },
  {
   "cell_type": "code",
   "execution_count": 26,
   "id": "55ad590a-5d32-4df3-a4c3-0a5d14cb9095",
   "metadata": {},
   "outputs": [
    {
     "data": {
      "image/png": "[encoded data removed]",
      "text/plain": [
       "<Figure size 432x288 with 1 Axes>"
      ]
     },
     "metadata": {
      "needs_background": "light"
     },
     "output_type": "display_data"
    }
   ],
   "source": [
    "x = np.linspace(1,num_epochs,num_epochs)\n",
    "plt.plot(x,train_hist,scalex=True, label=\"Training loss\")\n",
    "plt.plot(x, test_hist, label=\"Test loss\")\n",
    "plt.legend()\n",
    "plt.show()\n"
   ]
  },
  {
   "cell_type": "code",
   "execution_count": 29,
   "id": "846975c7-e62e-41b3-b64a-c781931ce12a",
   "metadata": {},
   "outputs": [],
   "source": [
    "### Lets Do the prediction and check performance metrics\n",
    "with torch.no_grad():\n",
    "    train_predict=model(X_train)\n",
    "    test_predict=model(X_test)\n"
   ]
  },
  {
   "cell_type": "code",
   "execution_count": 37,
   "id": "1107bee2-67c3-43cd-b1ac-32b1313c62a2",
   "metadata": {},
   "outputs": [],
   "source": [
    "##Transformback to original form\n",
    "train_predict=scaler.inverse_transform(train_predict.reshape(-1, 1))\n",
    "test_predict=scaler.inverse_transform(test_predict.reshape(-1, 1))"
   ]
  },
  {
   "cell_type": "code",
   "execution_count": 38,
   "id": "79ab1f26-3a15-4802-99a8-2c781ad110f2",
   "metadata": {},
   "outputs": [
    {
     "data": {
      "text/plain": [
       "17014.845632250996"
      ]
     },
     "execution_count": 38,
     "metadata": {},
     "output_type": "execute_result"
    }
   ],
   "source": [
    "### Calculate RMSE performance metrics\n",
    "import math\n",
    "from sklearn.metrics import mean_squared_error\n",
    "math.sqrt(mean_squared_error(y_train,train_predict))"
   ]
  },
  {
   "cell_type": "code",
   "execution_count": 42,
   "id": "29ffe417-b3d5-4c00-bb67-c9998e410bbf",
   "metadata": {},
   "outputs": [
    {
     "data": {
      "text/plain": [
       "((397, 1), (1592, 1))"
      ]
     },
     "execution_count": 42,
     "metadata": {},
     "output_type": "execute_result"
    }
   ],
   "source": [
    "test_predict.shape, train_predict.shape"
   ]
  },
  {
   "cell_type": "code",
   "execution_count": 48,
   "id": "fc236c33-266e-46f5-97bd-be69ef23c230",
   "metadata": {},
   "outputs": [
    {
     "data": {
      "text/plain": [
       "array([[nan],\n",
       "       [nan],\n",
       "       [nan],\n",
       "       ...,\n",
       "       [nan],\n",
       "       [nan],\n",
       "       [nan]])"
      ]
     },
     "execution_count": 48,
     "metadata": {},
     "output_type": "execute_result"
    }
   ],
   "source": [
    "trainPredictPlot = np.empty_like(df)\n",
    "trainPredictPlot[:, :] = np.nan\n",
    "trainPredictPlot"
   ]
  },
  {
   "cell_type": "code",
   "execution_count": 51,
   "id": "b75f1fd7-80bb-40ad-85b0-07115ce39eac",
   "metadata": {},
   "outputs": [],
   "source": [
    "trainPredictPlot[:len(train_predict), :] = train_predict\n",
    "testPredictPlot[len(train_predict):, :] = test_predict\n"
   ]
  },
  {
   "cell_type": "code",
   "execution_count": 56,
   "id": "35af13d0-ac03-44fa-bd97-6363a89bc22d",
   "metadata": {},
   "outputs": [
    {
     "data": {
      "text/plain": [
       "[<matplotlib.lines.Line2D at 0x7ff6d1840cd0>]"
      ]
     },
     "execution_count": 56,
     "metadata": {},
     "output_type": "execute_result"
    },
    {
     "data": {
      "image/png": "[encoded data removed]",
      "text/plain": [
       "<Figure size 432x288 with 1 Axes>"
      ]
     },
     "metadata": {
      "needs_background": "light"
     },
     "output_type": "display_data"
    }
   ],
   "source": [
    "plt.plot(train_predict)"
   ]
  },
  {
   "cell_type": "code",
   "execution_count": 60,
   "id": "f769732e-25e2-4259-a8a0-5b6413acec6d",
   "metadata": {},
   "outputs": [
    {
     "data": {
      "text/plain": [
       "array([[11734.320312],\n",
       "       [11782.349609],\n",
       "       [11642.469727],\n",
       "       ...,\n",
       "       [17694.679688],\n",
       "       [17929.990234],\n",
       "       [17949.369141]])"
      ]
     },
     "execution_count": 60,
     "metadata": {},
     "output_type": "execute_result"
    }
   ],
   "source": [
    "df.values"
   ]
  },
  {
   "cell_type": "code",
   "execution_count": 61,
   "id": "48471416-0bb0-4675-89ed-e1a1397df9c6",
   "metadata": {},
   "outputs": [
    {
     "data": {
      "image/png": "[encoded data removed]",
      "text/plain": [
       "<Figure size 432x288 with 1 Axes>"
      ]
     },
     "metadata": {
      "needs_background": "light"
     },
     "output_type": "display_data"
    }
   ],
   "source": [
    "plt.plot(df.values)\n",
    "plt.plot(trainPredictPlot)\n",
    "plt.plot(testPredictPlot)\n",
    "plt.show()"
   ]
  },
  {
   "cell_type": "code",
   "execution_count": 63,
   "id": "0a3cc0c2-0259-45f5-aca5-2f3124ff49b7",
   "metadata": {},
   "outputs": [
    {
     "data": {
      "image/png": "[encoded data removed]",
      "text/plain": [
       "<Figure size 432x288 with 1 Axes>"
      ]
     },
     "metadata": {
      "needs_background": "light"
     },
     "output_type": "display_data"
    }
   ],
   "source": [
    "### Plotting \n",
    "# shift train predictions for plotting\n",
    "look_back=0\n",
    "trainPredictPlot = np.empty_like(df)\n",
    "trainPredictPlot[:, :] = np.nan\n",
    "trainPredictPlot[:len(train_predict), :] = train_predict\n",
    "\n",
    "# shift test predictions for plotting\n",
    "testPredictPlot = np.empty_like(df)\n",
    "testPredictPlot[:, :] = np.nan\n",
    "testPredictPlot[len(train_predict):, :] = test_predict\n",
    "# plot baseline and predictions\n",
    "plt.plot(df.values)\n",
    "plt.plot(trainPredictPlot)\n",
    "plt.plot(testPredictPlot)\n",
    "plt.show()"
   ]
  }
 ],
 "metadata": {
  "kernelspec": {
   "display_name": "Python 3 (ipykernel)",
   "language": "python",
   "name": "python3"
  },
  "language_info": {
   "codemirror_mode": {
    "name": "ipython",
    "version": 3
   },
   "file_extension": ".py",
   "mimetype": "text/x-python",
   "name": "python",
   "nbconvert_exporter": "python",
   "pygments_lexer": "ipython3",
   "version": "3.9.18"
  }
 },
 "nbformat": 4,
 "nbformat_minor": 5
}
