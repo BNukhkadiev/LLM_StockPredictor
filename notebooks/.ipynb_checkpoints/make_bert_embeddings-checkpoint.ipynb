{
 "cells": [
  {
   "cell_type": "code",
   "execution_count": null,
   "id": "36ccfe91-a69d-4077-8c03-32f97e3ac02a",
   "metadata": {},
   "outputs": [],
   "source": [
    "import os\n",
    "os.environ['TRANSFORMERS_CACHE'] = '/Users/baga_nuhkadiev/.cache/huggingface'"
   ]
  },
  {
   "cell_type": "code",
   "execution_count": null,
   "id": "d50e667e-3209-42f9-8612-6e64405c5107",
   "metadata": {},
   "outputs": [],
   "source": [
    "from transformers import BertTokenizer, BertModel\n",
    "\n",
    "tokenizer = BertTokenizer.from_pretrained('bert-base-uncased')\n",
    "model = BertModel.from_pretrained('bert-base-uncased')\n",
    "\n",
    "def get_bert_embeddings(text):\n",
    "    inputs = tokenizer(text, return_tensors='pt', truncation=True, padding=True, max_length=512)\n",
    "    outputs = model(**inputs)\n",
    "    # Get the embeddings from the last hidden state\n",
    "    embeddings = outputs.last_hidden_state\n",
    "    # Pool the embeddings (use mean pooling for simplicity)\n",
    "    pooled_embeddings = torch.mean(embeddings, dim=1)\n",
    "    return pooled_embeddings.detach().numpy()\n"
   ]
  },
  {
   "cell_type": "code",
   "execution_count": null,
   "id": "3df9f25b-1dbb-496b-b037-ffe692ef3831",
   "metadata": {},
   "outputs": [],
   "source": [
    "headlines = data['Text'].values\n",
    "embeddings = [get_bert_embeddings(headline) for headline in headlines]\n"
   ]
  },
  {
   "cell_type": "code",
   "execution_count": null,
   "id": "7b42119a-45a4-4bfd-9013-e7005ebd18f1",
   "metadata": {},
   "outputs": [],
   "source": [
    "bert_embeddings = np.array(embeddings)\n",
    "bert_embeddings.shape"
   ]
  },
  {
   "cell_type": "code",
   "execution_count": null,
   "id": "c0489af6-64dc-4386-a1e9-049f2dcee9ac",
   "metadata": {},
   "outputs": [],
   "source": [
    "with open('../bert_embeddings.npy', 'wb') as f:\n",
    "    np.save(f, bert_embeddings)\n"
   ]
  }
 ],
 "metadata": {
  "kernelspec": {
   "display_name": "Python 3 (ipykernel)",
   "language": "python",
   "name": "python3"
  },
  "language_info": {
   "codemirror_mode": {
    "name": "ipython",
    "version": 3
   },
   "file_extension": ".py",
   "mimetype": "text/x-python",
   "name": "python",
   "nbconvert_exporter": "python",
   "pygments_lexer": "ipython3",
   "version": "3.8.3"
  }
 },
 "nbformat": 4,
 "nbformat_minor": 5
}
