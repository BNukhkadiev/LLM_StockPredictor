{
 "cells": [
  {
   "cell_type": "code",
   "execution_count": 26,
   "id": "3157edc0-005c-49a1-8e59-415e25d556ab",
   "metadata": {},
   "outputs": [
    {
     "data": {
      "text/html": [
       "<div>\n",
       "<style scoped>\n",
       "    .dataframe tbody tr th:only-of-type {\n",
       "        vertical-align: middle;\n",
       "    }\n",
       "\n",
       "    .dataframe tbody tr th {\n",
       "        vertical-align: top;\n",
       "    }\n",
       "\n",
       "    .dataframe thead th {\n",
       "        text-align: right;\n",
       "    }\n",
       "</style>\n",
       "<table border=\"1\" class=\"dataframe\">\n",
       "  <thead>\n",
       "    <tr style=\"text-align: right;\">\n",
       "      <th></th>\n",
       "      <th>Date</th>\n",
       "      <th>Open</th>\n",
       "      <th>High</th>\n",
       "      <th>Low</th>\n",
       "      <th>Close</th>\n",
       "      <th>Volume</th>\n",
       "      <th>Adj Close</th>\n",
       "    </tr>\n",
       "  </thead>\n",
       "  <tbody>\n",
       "    <tr>\n",
       "      <th>1988</th>\n",
       "      <td>2008-08-08</td>\n",
       "      <td>11432.089844</td>\n",
       "      <td>11759.959961</td>\n",
       "      <td>11388.040039</td>\n",
       "      <td>11734.320312</td>\n",
       "      <td>212830000</td>\n",
       "      <td>11734.320312</td>\n",
       "    </tr>\n",
       "    <tr>\n",
       "      <th>1987</th>\n",
       "      <td>2008-08-11</td>\n",
       "      <td>11729.669922</td>\n",
       "      <td>11867.110352</td>\n",
       "      <td>11675.530273</td>\n",
       "      <td>11782.349609</td>\n",
       "      <td>183190000</td>\n",
       "      <td>11782.349609</td>\n",
       "    </tr>\n",
       "    <tr>\n",
       "      <th>1986</th>\n",
       "      <td>2008-08-12</td>\n",
       "      <td>11781.700195</td>\n",
       "      <td>11782.349609</td>\n",
       "      <td>11601.519531</td>\n",
       "      <td>11642.469727</td>\n",
       "      <td>173590000</td>\n",
       "      <td>11642.469727</td>\n",
       "    </tr>\n",
       "    <tr>\n",
       "      <th>1985</th>\n",
       "      <td>2008-08-13</td>\n",
       "      <td>11632.809570</td>\n",
       "      <td>11633.780273</td>\n",
       "      <td>11453.339844</td>\n",
       "      <td>11532.959961</td>\n",
       "      <td>182550000</td>\n",
       "      <td>11532.959961</td>\n",
       "    </tr>\n",
       "    <tr>\n",
       "      <th>1984</th>\n",
       "      <td>2008-08-14</td>\n",
       "      <td>11532.070312</td>\n",
       "      <td>11718.280273</td>\n",
       "      <td>11450.889648</td>\n",
       "      <td>11615.929688</td>\n",
       "      <td>159790000</td>\n",
       "      <td>11615.929688</td>\n",
       "    </tr>\n",
       "  </tbody>\n",
       "</table>\n",
       "</div>"
      ],
      "text/plain": [
       "            Date          Open          High           Low         Close  \\\n",
       "1988  2008-08-08  11432.089844  11759.959961  11388.040039  11734.320312   \n",
       "1987  2008-08-11  11729.669922  11867.110352  11675.530273  11782.349609   \n",
       "1986  2008-08-12  11781.700195  11782.349609  11601.519531  11642.469727   \n",
       "1985  2008-08-13  11632.809570  11633.780273  11453.339844  11532.959961   \n",
       "1984  2008-08-14  11532.070312  11718.280273  11450.889648  11615.929688   \n",
       "\n",
       "         Volume     Adj Close  \n",
       "1988  212830000  11734.320312  \n",
       "1987  183190000  11782.349609  \n",
       "1986  173590000  11642.469727  \n",
       "1985  182550000  11532.959961  \n",
       "1984  159790000  11615.929688  "
      ]
     },
     "execution_count": 26,
     "metadata": {},
     "output_type": "execute_result"
    }
   ],
   "source": [
    "import pandas as pd\n",
    "df=pd.read_csv('data/upload_DJIA_table.csv')\n",
    "df = df.sort_values('Date')\n",
    "df.head()"
   ]
  },
  {
   "cell_type": "code",
   "execution_count": 27,
   "id": "e9abb7af-26b4-40b4-a613-516d1e329387",
   "metadata": {},
   "outputs": [
    {
     "data": {
      "text/plain": [
       "0       11734.320312\n",
       "1       11782.349609\n",
       "2       11642.469727\n",
       "3       11532.959961\n",
       "4       11615.929688\n",
       "            ...     \n",
       "1984    17140.240234\n",
       "1985    17409.720703\n",
       "1986    17694.679688\n",
       "1987    17929.990234\n",
       "1988    17949.369141\n",
       "Name: Close, Length: 1989, dtype: float64"
      ]
     },
     "execution_count": 27,
     "metadata": {},
     "output_type": "execute_result"
    }
   ],
   "source": [
    "df1 = df.reset_index()['Close']\n",
    "df1 = df1.sort_index()\n",
    "df1"
   ]
  },
  {
   "cell_type": "code",
   "execution_count": 28,
   "id": "b0056451-79e1-4635-bc4f-cc1f54cbfd32",
   "metadata": {},
   "outputs": [
    {
     "data": {
      "text/plain": [
       "[<matplotlib.lines.Line2D at 0x7fb87c76f1f0>]"
      ]
     },
     "execution_count": 28,
     "metadata": {},
     "output_type": "execute_result"
    },
    {
     "data": {
      "image/png": "[encoded data removed]",
      "text/plain": [
       "<Figure size 432x288 with 1 Axes>"
      ]
     },
     "metadata": {
      "needs_background": "light"
     },
     "output_type": "display_data"
    }
   ],
   "source": [
    "import matplotlib.pyplot as plt\n",
    "plt.plot(df1)"
   ]
  },
  {
   "cell_type": "code",
   "execution_count": 29,
   "id": "a9279be0-fab2-447e-92df-f0c95c61c52d",
   "metadata": {},
   "outputs": [
    {
     "data": {
      "text/plain": [
       "0       11734.320312\n",
       "1       11782.349609\n",
       "2       11642.469727\n",
       "3       11532.959961\n",
       "4       11615.929688\n",
       "            ...     \n",
       "1984    17140.240234\n",
       "1985    17409.720703\n",
       "1986    17694.679688\n",
       "1987    17929.990234\n",
       "1988    17949.369141\n",
       "Name: Close, Length: 1989, dtype: float64"
      ]
     },
     "execution_count": 29,
     "metadata": {},
     "output_type": "execute_result"
    }
   ],
   "source": [
    "import numpy as np\n",
    "df1"
   ]
  },
  {
   "cell_type": "code",
   "execution_count": 30,
   "id": "fb05cc38-51c1-40e0-a7cc-9cebc2415637",
   "metadata": {},
   "outputs": [
    {
     "name": "stdout",
     "output_type": "stream",
     "text": [
      "[[0.4408942 ]\n",
      " [0.44497647]\n",
      " [0.43308732]\n",
      " ...\n",
      " [0.9474974 ]\n",
      " [0.96749772]\n",
      " [0.96914484]]\n"
     ]
    }
   ],
   "source": [
    "from sklearn.preprocessing import MinMaxScaler\n",
    "scaler=MinMaxScaler(feature_range=(0,1))\n",
    "df1=scaler.fit_transform(np.array(df1).reshape(-1,1))\n",
    "print(df1)"
   ]
  },
  {
   "cell_type": "code",
   "execution_count": 31,
   "id": "b799a447-9c38-43c6-90c3-c48f776e7aee",
   "metadata": {},
   "outputs": [],
   "source": [
    "##splitting dataset into train and test split\n",
    "training_size=int(len(df1)*0.65)\n",
    "test_size=len(df1)-training_size\n",
    "train_data,test_data=df1[0:training_size,:],df1[training_size:len(df1),:1]"
   ]
  },
  {
   "cell_type": "code",
   "execution_count": 32,
   "id": "746c5fb0-2bc9-48a8-a978-6cb2a758b758",
   "metadata": {},
   "outputs": [
    {
     "data": {
      "text/plain": [
       "(1292, 697)"
      ]
     },
     "execution_count": 32,
     "metadata": {},
     "output_type": "execute_result"
    }
   ],
   "source": [
    "training_size,test_size"
   ]
  },
  {
   "cell_type": "code",
   "execution_count": 33,
   "id": "e4dd9a78-14ba-42d0-8f12-6051d6bb637f",
   "metadata": {},
   "outputs": [],
   "source": [
    "import numpy\n",
    "# convert an array of values into a dataset matrix\n",
    "def create_dataset(dataset, time_step=1):\n",
    "\tdataX, dataY = [], []\n",
    "\tfor i in range(len(dataset)-time_step-1):\n",
    "\t\ta = dataset[i:(i+time_step), 0]   ###i=0, 0,1,2,3-----99   100 \n",
    "\t\tdataX.append(a)\n",
    "\t\tdataY.append(dataset[i + time_step, 0])\n",
    "\treturn numpy.array(dataX), numpy.array(dataY)"
   ]
  },
  {
   "cell_type": "code",
   "execution_count": 34,
   "id": "ceec2198-5c72-4043-a713-b41fba01947e",
   "metadata": {},
   "outputs": [],
   "source": [
    "# reshape into X=t,t+1,t+2,t+3 and Y=t+4\n",
    "time_step = 100\n",
    "X_train, y_train = create_dataset(train_data, time_step)\n",
    "X_test, ytest = create_dataset(test_data, time_step)"
   ]
  },
  {
   "cell_type": "code",
   "execution_count": 35,
   "id": "b3da4662-5485-43fc-b134-1742f4d52429",
   "metadata": {},
   "outputs": [
    {
     "name": "stdout",
     "output_type": "stream",
     "text": [
      "(1191, 100)\n",
      "(1191,)\n"
     ]
    },
    {
     "data": {
      "text/plain": [
       "(None, None)"
      ]
     },
     "execution_count": 35,
     "metadata": {},
     "output_type": "execute_result"
    }
   ],
   "source": [
    "\n",
    "print(X_train.shape), print(y_train.shape)"
   ]
  },
  {
   "cell_type": "code",
   "execution_count": 36,
   "id": "b5ce9061-fd4f-4f82-928f-cf0eef7641f8",
   "metadata": {},
   "outputs": [
    {
     "name": "stdout",
     "output_type": "stream",
     "text": [
      "(596, 100)\n",
      "(596,)\n"
     ]
    },
    {
     "data": {
      "text/plain": [
       "(None, None)"
      ]
     },
     "execution_count": 36,
     "metadata": {},
     "output_type": "execute_result"
    }
   ],
   "source": [
    "print(X_test.shape), print(ytest.shape)"
   ]
  },
  {
   "cell_type": "code",
   "execution_count": 37,
   "id": "be49fed4-ad67-45db-b791-769f971e4ffe",
   "metadata": {},
   "outputs": [],
   "source": [
    "# reshape input to be [samples, time steps, features] which is required for LSTM\n",
    "X_train =X_train.reshape(X_train.shape[0],X_train.shape[1] , 1)\n",
    "X_test = X_test.reshape(X_test.shape[0],X_test.shape[1] , 1)"
   ]
  },
  {
   "cell_type": "code",
   "execution_count": 38,
   "id": "05810bdb-c5b6-4279-bc09-75dc925aa85b",
   "metadata": {},
   "outputs": [],
   "source": [
    "### Create the Stacked LSTM model\n",
    "from tensorflow.keras.models import Sequential\n",
    "from tensorflow.keras.layers import Dense\n",
    "from tensorflow.keras.layers import LSTM"
   ]
  },
  {
   "cell_type": "code",
   "execution_count": 39,
   "id": "c87d3d15-4a55-422c-b842-9b5deddc29ea",
   "metadata": {},
   "outputs": [],
   "source": [
    "model=Sequential()\n",
    "model.add(LSTM(50,return_sequences=True,input_shape=(100,1)))\n",
    "model.add(LSTM(50,return_sequences=True))\n",
    "model.add(LSTM(50))\n",
    "model.add(Dense(1))\n",
    "model.compile(loss='mean_squared_error',optimizer='adam')"
   ]
  },
  {
   "cell_type": "code",
   "execution_count": 40,
   "id": "be80cbf1-5b2e-4b43-a938-dcd75d5974d3",
   "metadata": {},
   "outputs": [
    {
     "name": "stdout",
     "output_type": "stream",
     "text": [
      "Model: \"sequential_1\"\n",
      "_________________________________________________________________\n",
      " Layer (type)                Output Shape              Param #   \n",
      "=================================================================\n",
      " lstm_3 (LSTM)               (None, 100, 50)           10400     \n",
      "                                                                 \n",
      " lstm_4 (LSTM)               (None, 100, 50)           20200     \n",
      "                                                                 \n",
      " lstm_5 (LSTM)               (None, 50)                20200     \n",
      "                                                                 \n",
      " dense_1 (Dense)             (None, 1)                 51        \n",
      "                                                                 \n",
      "=================================================================\n",
      "Total params: 50851 (198.64 KB)\n",
      "Trainable params: 50851 (198.64 KB)\n",
      "Non-trainable params: 0 (0.00 Byte)\n",
      "_________________________________________________________________\n"
     ]
    }
   ],
   "source": [
    "\n",
    "model.summary()"
   ]
  },
  {
   "cell_type": "code",
   "execution_count": 41,
   "id": "1d22ee0b-8c67-48ce-a853-b5b1c475f8df",
   "metadata": {},
   "outputs": [
    {
     "name": "stdout",
     "output_type": "stream",
     "text": [
      "Epoch 1/100\n",
      "19/19 [==============================] - 8s 149ms/step - loss: 0.0508 - val_loss: 0.0827\n",
      "Epoch 2/100\n",
      "19/19 [==============================] - 2s 103ms/step - loss: 0.0048 - val_loss: 0.0206\n",
      "Epoch 3/100\n",
      "19/19 [==============================] - 2s 91ms/step - loss: 0.0016 - val_loss: 0.0016\n",
      "Epoch 4/100\n",
      "19/19 [==============================] - 2s 89ms/step - loss: 7.5750e-04 - val_loss: 0.0011\n",
      "Epoch 5/100\n",
      "19/19 [==============================] - 2s 89ms/step - loss: 7.1786e-04 - val_loss: 0.0011\n",
      "Epoch 6/100\n",
      "19/19 [==============================] - 2s 97ms/step - loss: 7.0398e-04 - val_loss: 9.9467e-04\n",
      "Epoch 7/100\n",
      "19/19 [==============================] - 2s 104ms/step - loss: 7.0343e-04 - val_loss: 0.0010\n",
      "Epoch 8/100\n",
      "19/19 [==============================] - 2s 113ms/step - loss: 7.2376e-04 - val_loss: 0.0011\n",
      "Epoch 9/100\n",
      "19/19 [==============================] - 2s 115ms/step - loss: 7.2788e-04 - val_loss: 0.0015\n",
      "Epoch 10/100\n",
      "19/19 [==============================] - 2s 99ms/step - loss: 6.9035e-04 - val_loss: 9.6112e-04\n",
      "Epoch 11/100\n",
      "19/19 [==============================] - 2s 107ms/step - loss: 6.7754e-04 - val_loss: 9.6924e-04\n",
      "Epoch 12/100\n",
      "19/19 [==============================] - 2s 102ms/step - loss: 6.6397e-04 - val_loss: 9.3099e-04\n",
      "Epoch 13/100\n",
      "19/19 [==============================] - 2s 96ms/step - loss: 6.6312e-04 - val_loss: 9.3090e-04\n",
      "Epoch 14/100\n",
      "19/19 [==============================] - 2s 101ms/step - loss: 6.4788e-04 - val_loss: 9.1194e-04\n",
      "Epoch 15/100\n",
      "19/19 [==============================] - 2s 93ms/step - loss: 6.6769e-04 - val_loss: 0.0010\n",
      "Epoch 16/100\n",
      "19/19 [==============================] - 2s 93ms/step - loss: 6.3762e-04 - val_loss: 9.7155e-04\n",
      "Epoch 17/100\n",
      "19/19 [==============================] - 2s 95ms/step - loss: 6.9326e-04 - val_loss: 0.0015\n",
      "Epoch 18/100\n",
      "19/19 [==============================] - 2s 100ms/step - loss: 6.8574e-04 - val_loss: 9.1608e-04\n",
      "Epoch 19/100\n",
      "19/19 [==============================] - 2s 97ms/step - loss: 6.1601e-04 - val_loss: 0.0012\n",
      "Epoch 20/100\n",
      "19/19 [==============================] - 2s 94ms/step - loss: 6.4419e-04 - val_loss: 9.0058e-04\n",
      "Epoch 21/100\n",
      "19/19 [==============================] - 2s 98ms/step - loss: 6.3967e-04 - val_loss: 8.8421e-04\n",
      "Epoch 22/100\n",
      "19/19 [==============================] - 2s 95ms/step - loss: 6.1909e-04 - val_loss: 8.3847e-04\n",
      "Epoch 23/100\n",
      "19/19 [==============================] - 2s 100ms/step - loss: 5.9738e-04 - val_loss: 0.0011\n",
      "Epoch 24/100\n",
      "19/19 [==============================] - 2s 114ms/step - loss: 6.0546e-04 - val_loss: 9.8480e-04\n",
      "Epoch 25/100\n",
      "19/19 [==============================] - 2s 105ms/step - loss: 5.8634e-04 - val_loss: 7.6427e-04\n",
      "Epoch 26/100\n",
      "19/19 [==============================] - 2s 121ms/step - loss: 5.7273e-04 - val_loss: 7.5455e-04\n",
      "Epoch 27/100\n",
      "19/19 [==============================] - 2s 105ms/step - loss: 5.8621e-04 - val_loss: 0.0010\n",
      "Epoch 28/100\n",
      "19/19 [==============================] - 3s 169ms/step - loss: 5.8948e-04 - val_loss: 8.1062e-04\n",
      "Epoch 29/100\n",
      "19/19 [==============================] - 3s 155ms/step - loss: 5.3538e-04 - val_loss: 9.0324e-04\n",
      "Epoch 30/100\n",
      "19/19 [==============================] - 2s 121ms/step - loss: 5.3401e-04 - val_loss: 6.8574e-04\n",
      "Epoch 31/100\n",
      "19/19 [==============================] - 2s 131ms/step - loss: 5.2728e-04 - val_loss: 6.7181e-04\n",
      "Epoch 32/100\n",
      "19/19 [==============================] - 2s 131ms/step - loss: 5.1287e-04 - val_loss: 6.5304e-04\n",
      "Epoch 33/100\n",
      "19/19 [==============================] - 3s 141ms/step - loss: 5.2262e-04 - val_loss: 0.0011\n",
      "Epoch 34/100\n",
      "19/19 [==============================] - 3s 149ms/step - loss: 5.3502e-04 - val_loss: 6.3167e-04\n",
      "Epoch 35/100\n",
      "19/19 [==============================] - 3s 155ms/step - loss: 4.9224e-04 - val_loss: 7.4861e-04\n",
      "Epoch 36/100\n",
      "19/19 [==============================] - 3s 184ms/step - loss: 4.8522e-04 - val_loss: 7.4607e-04\n",
      "Epoch 37/100\n",
      "19/19 [==============================] - 3s 160ms/step - loss: 4.8265e-04 - val_loss: 6.4156e-04\n",
      "Epoch 38/100\n",
      "19/19 [==============================] - 3s 151ms/step - loss: 4.7350e-04 - val_loss: 5.8958e-04\n",
      "Epoch 39/100\n",
      "19/19 [==============================] - 3s 140ms/step - loss: 4.8638e-04 - val_loss: 8.4444e-04\n",
      "Epoch 40/100\n",
      "19/19 [==============================] - 3s 172ms/step - loss: 4.6775e-04 - val_loss: 7.3359e-04\n",
      "Epoch 41/100\n",
      "19/19 [==============================] - 3s 172ms/step - loss: 4.6142e-04 - val_loss: 5.9263e-04\n",
      "Epoch 42/100\n",
      "19/19 [==============================] - 3s 179ms/step - loss: 4.3074e-04 - val_loss: 6.2527e-04\n",
      "Epoch 43/100\n",
      "19/19 [==============================] - 3s 157ms/step - loss: 4.1907e-04 - val_loss: 5.4431e-04\n",
      "Epoch 44/100\n",
      "19/19 [==============================] - 3s 141ms/step - loss: 4.6883e-04 - val_loss: 6.1040e-04\n",
      "Epoch 45/100\n",
      "19/19 [==============================] - 3s 133ms/step - loss: 4.3037e-04 - val_loss: 6.3904e-04\n",
      "Epoch 46/100\n",
      "19/19 [==============================] - 3s 146ms/step - loss: 4.6355e-04 - val_loss: 7.6242e-04\n",
      "Epoch 47/100\n",
      "19/19 [==============================] - 3s 141ms/step - loss: 4.0153e-04 - val_loss: 7.5595e-04\n",
      "Epoch 48/100\n",
      "19/19 [==============================] - 3s 134ms/step - loss: 3.8862e-04 - val_loss: 5.8744e-04\n",
      "Epoch 49/100\n",
      "19/19 [==============================] - 3s 137ms/step - loss: 3.8223e-04 - val_loss: 5.4450e-04\n",
      "Epoch 50/100\n",
      "19/19 [==============================] - 3s 164ms/step - loss: 3.7751e-04 - val_loss: 5.5727e-04\n",
      "Epoch 51/100\n",
      "19/19 [==============================] - 3s 179ms/step - loss: 3.7243e-04 - val_loss: 8.1523e-04\n",
      "Epoch 52/100\n",
      "19/19 [==============================] - 3s 149ms/step - loss: 3.6281e-04 - val_loss: 8.3447e-04\n",
      "Epoch 53/100\n",
      "19/19 [==============================] - 3s 140ms/step - loss: 4.0712e-04 - val_loss: 5.6754e-04\n",
      "Epoch 54/100\n",
      "19/19 [==============================] - 2s 126ms/step - loss: 3.7212e-04 - val_loss: 5.6812e-04\n",
      "Epoch 55/100\n",
      "19/19 [==============================] - 2s 120ms/step - loss: 4.6412e-04 - val_loss: 0.0020\n",
      "Epoch 56/100\n",
      "19/19 [==============================] - 2s 130ms/step - loss: 4.1735e-04 - val_loss: 6.8581e-04\n",
      "Epoch 57/100\n",
      "19/19 [==============================] - 3s 152ms/step - loss: 3.6717e-04 - val_loss: 5.6520e-04\n",
      "Epoch 58/100\n",
      "19/19 [==============================] - 3s 135ms/step - loss: 3.5417e-04 - val_loss: 5.9592e-04\n",
      "Epoch 59/100\n",
      "19/19 [==============================] - 2s 118ms/step - loss: 3.4969e-04 - val_loss: 8.1774e-04\n",
      "Epoch 60/100\n",
      "19/19 [==============================] - 2s 121ms/step - loss: 3.6853e-04 - val_loss: 0.0019\n",
      "Epoch 61/100\n",
      "19/19 [==============================] - 2s 124ms/step - loss: 3.8953e-04 - val_loss: 5.5122e-04\n",
      "Epoch 62/100\n",
      "19/19 [==============================] - 2s 117ms/step - loss: 3.3934e-04 - val_loss: 5.5496e-04\n",
      "Epoch 63/100\n",
      "19/19 [==============================] - 2s 115ms/step - loss: 3.7366e-04 - val_loss: 5.2372e-04\n",
      "Epoch 64/100\n",
      "19/19 [==============================] - 2s 121ms/step - loss: 4.4026e-04 - val_loss: 5.1494e-04\n",
      "Epoch 65/100\n",
      "19/19 [==============================] - 2s 114ms/step - loss: 3.4727e-04 - val_loss: 5.1537e-04\n",
      "Epoch 66/100\n",
      "19/19 [==============================] - 2s 116ms/step - loss: 3.7466e-04 - val_loss: 7.4862e-04\n",
      "Epoch 67/100\n",
      "19/19 [==============================] - 2s 115ms/step - loss: 3.5603e-04 - val_loss: 5.0992e-04\n",
      "Epoch 68/100\n",
      "19/19 [==============================] - 2s 114ms/step - loss: 3.3132e-04 - val_loss: 5.5409e-04\n",
      "Epoch 69/100\n",
      "19/19 [==============================] - 2s 115ms/step - loss: 3.2041e-04 - val_loss: 6.5740e-04\n",
      "Epoch 70/100\n",
      "19/19 [==============================] - 2s 122ms/step - loss: 3.5385e-04 - val_loss: 8.4905e-04\n",
      "Epoch 71/100\n",
      "19/19 [==============================] - 2s 118ms/step - loss: 3.4486e-04 - val_loss: 4.8309e-04\n",
      "Epoch 72/100\n",
      "19/19 [==============================] - 2s 114ms/step - loss: 3.1917e-04 - val_loss: 5.8175e-04\n",
      "Epoch 73/100\n",
      "19/19 [==============================] - 2s 114ms/step - loss: 3.9351e-04 - val_loss: 8.3648e-04\n",
      "Epoch 74/100\n",
      "19/19 [==============================] - 2s 115ms/step - loss: 3.9841e-04 - val_loss: 4.6300e-04\n",
      "Epoch 75/100\n",
      "19/19 [==============================] - 2s 132ms/step - loss: 3.4633e-04 - val_loss: 8.0781e-04\n",
      "Epoch 76/100\n",
      "19/19 [==============================] - 2s 132ms/step - loss: 3.1868e-04 - val_loss: 4.6687e-04\n",
      "Epoch 77/100\n",
      "19/19 [==============================] - 2s 124ms/step - loss: 3.2038e-04 - val_loss: 4.7652e-04\n",
      "Epoch 78/100\n",
      "19/19 [==============================] - 2s 126ms/step - loss: 3.0397e-04 - val_loss: 5.0937e-04\n",
      "Epoch 79/100\n",
      "19/19 [==============================] - 2s 115ms/step - loss: 3.1370e-04 - val_loss: 7.1893e-04\n",
      "Epoch 80/100\n",
      "19/19 [==============================] - 2s 116ms/step - loss: 3.0925e-04 - val_loss: 4.1765e-04\n",
      "Epoch 81/100\n",
      "19/19 [==============================] - 2s 120ms/step - loss: 3.1249e-04 - val_loss: 5.5692e-04\n",
      "Epoch 82/100\n",
      "19/19 [==============================] - 2s 115ms/step - loss: 3.2357e-04 - val_loss: 4.0327e-04\n",
      "Epoch 83/100\n",
      "19/19 [==============================] - 2s 115ms/step - loss: 3.0240e-04 - val_loss: 6.8499e-04\n",
      "Epoch 84/100\n",
      "19/19 [==============================] - 2s 116ms/step - loss: 2.9795e-04 - val_loss: 5.9558e-04\n",
      "Epoch 85/100\n",
      "19/19 [==============================] - 2s 115ms/step - loss: 2.9155e-04 - val_loss: 7.4654e-04\n",
      "Epoch 86/100\n",
      "19/19 [==============================] - 2s 131ms/step - loss: 3.3192e-04 - val_loss: 3.7983e-04\n",
      "Epoch 87/100\n",
      "19/19 [==============================] - 2s 113ms/step - loss: 3.0752e-04 - val_loss: 5.8963e-04\n",
      "Epoch 88/100\n",
      "19/19 [==============================] - 2s 115ms/step - loss: 3.7867e-04 - val_loss: 5.9785e-04\n",
      "Epoch 89/100\n",
      "19/19 [==============================] - 2s 115ms/step - loss: 3.3012e-04 - val_loss: 5.1764e-04\n",
      "Epoch 90/100\n",
      "19/19 [==============================] - 2s 115ms/step - loss: 2.8108e-04 - val_loss: 3.8893e-04\n",
      "Epoch 91/100\n",
      "19/19 [==============================] - 2s 116ms/step - loss: 3.7193e-04 - val_loss: 6.3964e-04\n",
      "Epoch 92/100\n",
      "19/19 [==============================] - 2s 114ms/step - loss: 4.1006e-04 - val_loss: 0.0032\n",
      "Epoch 93/100\n",
      "19/19 [==============================] - 2s 116ms/step - loss: 3.9880e-04 - val_loss: 4.9399e-04\n",
      "Epoch 94/100\n",
      "19/19 [==============================] - 2s 113ms/step - loss: 2.7773e-04 - val_loss: 5.3717e-04\n",
      "Epoch 95/100\n",
      "19/19 [==============================] - 2s 113ms/step - loss: 3.1717e-04 - val_loss: 9.1925e-04\n",
      "Epoch 96/100\n",
      "19/19 [==============================] - 2s 116ms/step - loss: 2.8612e-04 - val_loss: 6.3867e-04\n",
      "Epoch 97/100\n",
      "19/19 [==============================] - 2s 115ms/step - loss: 2.8343e-04 - val_loss: 4.8998e-04\n",
      "Epoch 98/100\n",
      "19/19 [==============================] - 2s 116ms/step - loss: 2.6282e-04 - val_loss: 3.3490e-04\n",
      "Epoch 99/100\n",
      "19/19 [==============================] - 2s 117ms/step - loss: 2.5816e-04 - val_loss: 6.7615e-04\n",
      "Epoch 100/100\n",
      "19/19 [==============================] - 2s 115ms/step - loss: 2.7535e-04 - val_loss: 6.0218e-04\n"
     ]
    },
    {
     "data": {
      "text/plain": [
       "<keras.src.callbacks.History at 0x7fb87c79fb80>"
      ]
     },
     "execution_count": 41,
     "metadata": {},
     "output_type": "execute_result"
    }
   ],
   "source": [
    "model.fit(X_train,y_train,validation_data=(X_test,ytest),epochs=100,batch_size=64,verbose=1)"
   ]
  },
  {
   "cell_type": "code",
   "execution_count": 42,
   "id": "e34e1f93-d66f-40af-8b38-68dd09bb8664",
   "metadata": {},
   "outputs": [],
   "source": [
    "import tensorflow as tf"
   ]
  },
  {
   "cell_type": "code",
   "execution_count": 43,
   "id": "ddaa3232-544a-49f7-8332-40b0999a2ef6",
   "metadata": {},
   "outputs": [
    {
     "name": "stdout",
     "output_type": "stream",
     "text": [
      "38/38 [==============================] - 2s 26ms/step\n",
      "19/19 [==============================] - 0s 24ms/step\n"
     ]
    }
   ],
   "source": [
    "### Lets Do the prediction and check performance metrics\n",
    "train_predict=model.predict(X_train)\n",
    "test_predict=model.predict(X_test)"
   ]
  },
  {
   "cell_type": "code",
   "execution_count": 44,
   "id": "4556c215-d964-4b22-82d7-e33a33e5f9a7",
   "metadata": {},
   "outputs": [],
   "source": [
    "##Transformback to original form\n",
    "train_predict=scaler.inverse_transform(train_predict)\n",
    "test_predict=scaler.inverse_transform(test_predict)"
   ]
  },
  {
   "cell_type": "code",
   "execution_count": 45,
   "id": "121186a3-5e2d-47a8-86ef-757df3af7ba7",
   "metadata": {},
   "outputs": [
    {
     "data": {
      "text/plain": [
       "11940.313709715369"
      ]
     },
     "execution_count": 45,
     "metadata": {},
     "output_type": "execute_result"
    }
   ],
   "source": [
    "### Calculate RMSE performance metrics\n",
    "import math\n",
    "from sklearn.metrics import mean_squared_error\n",
    "math.sqrt(mean_squared_error(y_train,train_predict))"
   ]
  },
  {
   "cell_type": "code",
   "execution_count": 46,
   "id": "52271275-854f-4272-9316-3a0df617f5cf",
   "metadata": {},
   "outputs": [
    {
     "data": {
      "image/png": "[encoded data removed]",
      "text/plain": [
       "<Figure size 432x288 with 1 Axes>"
      ]
     },
     "metadata": {
      "needs_background": "light"
     },
     "output_type": "display_data"
    }
   ],
   "source": [
    "### Plotting \n",
    "# shift train predictions for plotting\n",
    "look_back=100\n",
    "trainPredictPlot = numpy.empty_like(df1)\n",
    "trainPredictPlot[:, :] = np.nan\n",
    "trainPredictPlot[look_back:len(train_predict)+look_back, :] = train_predict\n",
    "# shift test predictions for plotting\n",
    "testPredictPlot = numpy.empty_like(df1)\n",
    "testPredictPlot[:, :] = numpy.nan\n",
    "testPredictPlot[len(train_predict)+(look_back*2)+1:len(df1)-1, :] = test_predict\n",
    "# plot baseline and predictions\n",
    "plt.plot(scaler.inverse_transform(df1))\n",
    "plt.plot(trainPredictPlot)\n",
    "plt.plot(testPredictPlot)\n",
    "plt.show()"
   ]
  }
 ],
 "metadata": {
  "kernelspec": {
   "display_name": "Python 3 (ipykernel)",
   "language": "python",
   "name": "python3"
  },
  "language_info": {
   "codemirror_mode": {
    "name": "ipython",
    "version": 3
   },
   "file_extension": ".py",
   "mimetype": "text/x-python",
   "name": "python",
   "nbconvert_exporter": "python",
   "pygments_lexer": "ipython3",
   "version": "3.8.3"
  }
 },
 "nbformat": 4,
 "nbformat_minor": 5
}
