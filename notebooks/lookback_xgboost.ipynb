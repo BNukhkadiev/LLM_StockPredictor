{
 "cells": [
  {
   "cell_type": "markdown",
   "id": "2eb5cbec-0e77-442f-b023-38e16b666b0c",
   "metadata": {},
   "source": [
    "# Look back XGBoost stock prediction"
   ]
  },
  {
   "cell_type": "code",
   "execution_count": 2,
   "id": "a73b0d1b-95fe-4671-bc21-557132c642c5",
   "metadata": {},
   "outputs": [],
   "source": [
    "import torch\n",
    "import numpy as np\n",
    "import pandas as pd\n",
    "import torch.nn as nn\n",
    "from torch.utils.data import TensorDataset, DataLoader\n",
    "import math\n",
    "from xgboost import XGBRegressor\n",
    "from sklearn.metrics import mean_squared_error, mean_absolute_error, explained_variance_score, r2_score \n"
   ]
  },
  {
   "cell_type": "code",
   "execution_count": 3,
   "id": "2e4b17a5-48b2-427e-b395-6fc94c8a7d55",
   "metadata": {},
   "outputs": [
    {
     "name": "stdout",
     "output_type": "stream",
     "text": [
      "(1592, 1) (397, 1)\n"
     ]
    }
   ],
   "source": [
    "df = pd.read_csv('../data/upload_DJIA_table.csv', parse_dates=['Date'], index_col='Date')\n",
    "df = df[['Close']]\n",
    "df = df.sort_index()\n",
    "\n",
    "training_data_len = math.ceil(len(df) * .8)\n",
    "\n",
    "train_data = df[:training_data_len].iloc[:,:1]\n",
    "test_data = df[training_data_len:].iloc[:,:1]\n",
    "print(train_data.shape, test_data.shape)"
   ]
  },
  {
   "cell_type": "code",
   "execution_count": 4,
   "id": "2688ba72-42de-4f9d-ad8b-e5f0111a67ba",
   "metadata": {},
   "outputs": [
    {
     "data": {
      "text/plain": [
       "((397, 1), (1592, 1))"
      ]
     },
     "execution_count": 4,
     "metadata": {},
     "output_type": "execute_result"
    }
   ],
   "source": [
    "dataset_train = train_data.values\n",
    "dataset_train = np.reshape(dataset_train, (-1,1))\n",
    "\n",
    "dataset_test = test_data.values\n",
    "dataset_test = np.reshape(dataset_test, (-1,1))\n",
    "\n",
    "dataset_test.shape, dataset_train.shape"
   ]
  },
  {
   "cell_type": "code",
   "execution_count": 5,
   "id": "efd84802-1c64-42a2-a77e-766bde30fbb7",
   "metadata": {},
   "outputs": [
    {
     "name": "stdout",
     "output_type": "stream",
     "text": [
      "[[0.45640217]\n",
      " [0.46062803]\n",
      " [0.44832069]\n",
      " [0.43868547]\n",
      " [0.44598557]]\n",
      "[0.84454818] [0.86667668] [0.82659367] [0.80725839] [0.70619221]\n"
     ]
    }
   ],
   "source": [
    "from sklearn.preprocessing import MinMaxScaler\n",
    "scaler = MinMaxScaler(feature_range=(0,1))\n",
    "\n",
    "scaled_train = scaler.fit_transform(dataset_train)\n",
    "print(scaled_train[:5])\n",
    "\n",
    "scaled_test = scaler.fit_transform(dataset_test)\n",
    "print(*scaled_test[:5])"
   ]
  },
  {
   "cell_type": "code",
   "execution_count": 6,
   "id": "dad30b48-db35-4138-a4cc-d68722537aa8",
   "metadata": {},
   "outputs": [
    {
     "data": {
      "text/plain": [
       "(torch.Size([1542, 50, 1]), torch.Size([1542, 1]))"
      ]
     },
     "execution_count": 6,
     "metadata": {},
     "output_type": "execute_result"
    }
   ],
   "source": [
    "# Create sequences and labels for training data\n",
    "sequence_length = 50 # Number of time steps to look back\n",
    "X_train, y_train = [], []\n",
    "for i in range(len(scaled_train) - sequence_length):\n",
    "\tX_train.append(scaled_train[i:i+sequence_length])\n",
    "\ty_train.append(scaled_train[i+sequence_length])\n",
    "\n",
    "X_train, y_train = np.array(X_train), np.array(y_train)\n",
    "\n",
    "# Convert data to PyTorch tensors\n",
    "X_train = torch.tensor(X_train, dtype=torch.float32).float()\n",
    "y_train = torch.tensor(y_train, dtype=torch.float32).float()\n",
    "X_train.shape,y_train.shape\n"
   ]
  },
  {
   "cell_type": "code",
   "execution_count": 7,
   "id": "2ae2a69d-f5f1-424d-923b-6b7b725e49cd",
   "metadata": {},
   "outputs": [
    {
     "data": {
      "text/plain": [
       "(torch.Size([347, 50]), torch.Size([347, 1]))"
      ]
     },
     "execution_count": 7,
     "metadata": {},
     "output_type": "execute_result"
    }
   ],
   "source": [
    "# Create sequences and labels for training data\n",
    "sequence_length = 50 # Number of time steps to look back\n",
    "X_test, y_test = [], []\n",
    "for i in range(len(scaled_test) - sequence_length):\n",
    "\tX_test.append(scaled_test[i:i+sequence_length])\n",
    "\ty_test.append(scaled_test[i+sequence_length])\n",
    "\n",
    "X_test, y_test = np.array(X_test), np.array(y_test)\n",
    "\n",
    "# Convert data to PyTorch tensors\n",
    "X_test = torch.tensor(X_test, dtype=torch.float32).float().squeeze()\n",
    "y_test = torch.tensor(y_test, dtype=torch.float32).float()\n",
    "X_test.shape,y_test.shape\n"
   ]
  },
  {
   "cell_type": "markdown",
   "id": "1ad6d5c8-677c-43da-a7b3-81967e21005a",
   "metadata": {},
   "source": [
    "## Modelling"
   ]
  },
  {
   "cell_type": "code",
   "execution_count": 13,
   "id": "c46690af-60c0-4e8b-9dbe-ae283fc34352",
   "metadata": {},
   "outputs": [
    {
     "name": "stdout",
     "output_type": "stream",
     "text": [
      "[0]\ttrain-rmse:0.16808\teval-rmse:0.20754\n"
     ]
    },
    {
     "name": "stderr",
     "output_type": "stream",
     "text": [
      "/Users/baga_nuhkadiev/opt/anaconda3/lib/python3.8/site-packages/xgboost/core.py:160: UserWarning: [04:47:57] WARNING: /Users/runner/work/xgboost/xgboost/src/learner.cc:742: \n",
      "Parameters: { \"n_estimators\" } are not used.\n",
      "\n",
      "  warnings.warn(smsg, UserWarning)\n"
     ]
    },
    {
     "name": "stdout",
     "output_type": "stream",
     "text": [
      "[1]\ttrain-rmse:0.11882\teval-rmse:0.15453\n",
      "[2]\ttrain-rmse:0.08417\teval-rmse:0.11936\n",
      "[3]\ttrain-rmse:0.05986\teval-rmse:0.09898\n",
      "[4]\ttrain-rmse:0.04285\teval-rmse:0.08632\n",
      "[5]\ttrain-rmse:0.03101\teval-rmse:0.08142\n",
      "[6]\ttrain-rmse:0.02280\teval-rmse:0.07799\n",
      "[7]\ttrain-rmse:0.01715\teval-rmse:0.07705\n",
      "[8]\ttrain-rmse:0.01332\teval-rmse:0.07623\n",
      "[9]\ttrain-rmse:0.01069\teval-rmse:0.07595\n",
      "[10]\ttrain-rmse:0.00896\teval-rmse:0.07520\n",
      "[11]\ttrain-rmse:0.00781\teval-rmse:0.07493\n",
      "[12]\ttrain-rmse:0.00703\teval-rmse:0.07511\n",
      "[13]\ttrain-rmse:0.00651\teval-rmse:0.07499\n",
      "[14]\ttrain-rmse:0.00618\teval-rmse:0.07504\n",
      "[15]\ttrain-rmse:0.00587\teval-rmse:0.07503\n",
      "[16]\ttrain-rmse:0.00563\teval-rmse:0.07487\n",
      "[17]\ttrain-rmse:0.00545\teval-rmse:0.07500\n",
      "[18]\ttrain-rmse:0.00529\teval-rmse:0.07504\n",
      "[19]\ttrain-rmse:0.00514\teval-rmse:0.07496\n",
      "[20]\ttrain-rmse:0.00507\teval-rmse:0.07494\n",
      "[21]\ttrain-rmse:0.00495\teval-rmse:0.07513\n",
      "[22]\ttrain-rmse:0.00477\teval-rmse:0.07507\n",
      "[23]\ttrain-rmse:0.00472\teval-rmse:0.07508\n",
      "[24]\ttrain-rmse:0.00463\teval-rmse:0.07515\n",
      "[25]\ttrain-rmse:0.00459\teval-rmse:0.07515\n",
      "[26]\ttrain-rmse:0.00449\teval-rmse:0.07511\n",
      "[27]\ttrain-rmse:0.00446\teval-rmse:0.07512\n",
      "[28]\ttrain-rmse:0.00443\teval-rmse:0.07514\n",
      "[29]\ttrain-rmse:0.00438\teval-rmse:0.07517\n",
      "[30]\ttrain-rmse:0.00422\teval-rmse:0.07517\n",
      "[31]\ttrain-rmse:0.00421\teval-rmse:0.07519\n",
      "[32]\ttrain-rmse:0.00416\teval-rmse:0.07522\n",
      "[33]\ttrain-rmse:0.00413\teval-rmse:0.07519\n",
      "[34]\ttrain-rmse:0.00401\teval-rmse:0.07530\n",
      "[35]\ttrain-rmse:0.00390\teval-rmse:0.07537\n",
      "[36]\ttrain-rmse:0.00385\teval-rmse:0.07536\n",
      "[37]\ttrain-rmse:0.00372\teval-rmse:0.07546\n",
      "[38]\ttrain-rmse:0.00363\teval-rmse:0.07562\n",
      "[39]\ttrain-rmse:0.00353\teval-rmse:0.07563\n",
      "[40]\ttrain-rmse:0.00348\teval-rmse:0.07570\n",
      "[41]\ttrain-rmse:0.00339\teval-rmse:0.07567\n",
      "[42]\ttrain-rmse:0.00338\teval-rmse:0.07567\n",
      "[43]\ttrain-rmse:0.00335\teval-rmse:0.07568\n",
      "[44]\ttrain-rmse:0.00327\teval-rmse:0.07578\n",
      "[45]\ttrain-rmse:0.00319\teval-rmse:0.07575\n",
      "[46]\ttrain-rmse:0.00311\teval-rmse:0.07573\n",
      "[47]\ttrain-rmse:0.00308\teval-rmse:0.07575\n",
      "[48]\ttrain-rmse:0.00302\teval-rmse:0.07573\n",
      "[49]\ttrain-rmse:0.00300\teval-rmse:0.07574\n",
      "[50]\ttrain-rmse:0.00298\teval-rmse:0.07575\n",
      "[51]\ttrain-rmse:0.00291\teval-rmse:0.07573\n",
      "[52]\ttrain-rmse:0.00284\teval-rmse:0.07576\n",
      "[53]\ttrain-rmse:0.00278\teval-rmse:0.07579\n",
      "[54]\ttrain-rmse:0.00272\teval-rmse:0.07576\n",
      "[55]\ttrain-rmse:0.00267\teval-rmse:0.07580\n",
      "[56]\ttrain-rmse:0.00263\teval-rmse:0.07579\n",
      "[57]\ttrain-rmse:0.00258\teval-rmse:0.07582\n",
      "[58]\ttrain-rmse:0.00256\teval-rmse:0.07581\n",
      "[59]\ttrain-rmse:0.00248\teval-rmse:0.07586\n",
      "[60]\ttrain-rmse:0.00247\teval-rmse:0.07588\n",
      "[61]\ttrain-rmse:0.00241\teval-rmse:0.07585\n",
      "[62]\ttrain-rmse:0.00235\teval-rmse:0.07587\n",
      "[63]\ttrain-rmse:0.00231\teval-rmse:0.07589\n",
      "[64]\ttrain-rmse:0.00229\teval-rmse:0.07588\n",
      "[65]\ttrain-rmse:0.00223\teval-rmse:0.07582\n",
      "[66]\ttrain-rmse:0.00217\teval-rmse:0.07585\n",
      "[67]\ttrain-rmse:0.00213\teval-rmse:0.07590\n",
      "[68]\ttrain-rmse:0.00211\teval-rmse:0.07589\n",
      "[69]\ttrain-rmse:0.00206\teval-rmse:0.07588\n",
      "[70]\ttrain-rmse:0.00200\teval-rmse:0.07575\n",
      "[71]\ttrain-rmse:0.00198\teval-rmse:0.07576\n",
      "[72]\ttrain-rmse:0.00197\teval-rmse:0.07578\n",
      "[73]\ttrain-rmse:0.00196\teval-rmse:0.07579\n",
      "[74]\ttrain-rmse:0.00193\teval-rmse:0.07575\n",
      "[75]\ttrain-rmse:0.00192\teval-rmse:0.07575\n",
      "[76]\ttrain-rmse:0.00188\teval-rmse:0.07574\n",
      "[77]\ttrain-rmse:0.00184\teval-rmse:0.07568\n",
      "[78]\ttrain-rmse:0.00181\teval-rmse:0.07563\n",
      "[79]\ttrain-rmse:0.00178\teval-rmse:0.07564\n",
      "[80]\ttrain-rmse:0.00174\teval-rmse:0.07562\n",
      "[81]\ttrain-rmse:0.00171\teval-rmse:0.07561\n",
      "[82]\ttrain-rmse:0.00170\teval-rmse:0.07560\n",
      "[83]\ttrain-rmse:0.00167\teval-rmse:0.07559\n",
      "[84]\ttrain-rmse:0.00167\teval-rmse:0.07558\n",
      "[85]\ttrain-rmse:0.00163\teval-rmse:0.07561\n",
      "[86]\ttrain-rmse:0.00159\teval-rmse:0.07565\n",
      "[87]\ttrain-rmse:0.00157\teval-rmse:0.07572\n",
      "[88]\ttrain-rmse:0.00156\teval-rmse:0.07572\n",
      "[89]\ttrain-rmse:0.00154\teval-rmse:0.07578\n",
      "[90]\ttrain-rmse:0.00151\teval-rmse:0.07573\n",
      "[91]\ttrain-rmse:0.00149\teval-rmse:0.07573\n",
      "[92]\ttrain-rmse:0.00146\teval-rmse:0.07570\n",
      "[93]\ttrain-rmse:0.00145\teval-rmse:0.07579\n",
      "[94]\ttrain-rmse:0.00143\teval-rmse:0.07578\n",
      "[95]\ttrain-rmse:0.00142\teval-rmse:0.07579\n",
      "[96]\ttrain-rmse:0.00140\teval-rmse:0.07572\n",
      "[97]\ttrain-rmse:0.00137\teval-rmse:0.07570\n",
      "[98]\ttrain-rmse:0.00134\teval-rmse:0.07568\n",
      "[99]\ttrain-rmse:0.00134\teval-rmse:0.07568\n"
     ]
    },
    {
     "data": {
      "image/png": "[encoded data removed]",
      "text/plain": [
       "<Figure size 720x432 with 1 Axes>"
      ]
     },
     "metadata": {
      "needs_background": "light"
     },
     "output_type": "display_data"
    },
    {
     "name": "stdout",
     "output_type": "stream",
     "text": [
      "[0.8846311  0.87884897 0.8421826  0.897595   0.91101253 0.9291929\n",
      " 0.9368604  0.9571933  0.9334872  0.93323565]\n",
      "RMSE: 0.07568258792161942\n"
     ]
    }
   ],
   "source": [
    "import xgboost as xgb\n",
    "import matplotlib.pyplot as plt\n",
    "from sklearn.datasets import make_regression\n",
    "from sklearn.model_selection import train_test_split\n",
    "from sklearn.metrics import mean_squared_error\n",
    "import numpy as np\n",
    "\n",
    "\n",
    "# Create DMatrix for XGBoost\n",
    "dtrain = xgb.DMatrix(X_train.squeeze(), label=y_train)\n",
    "dtest = xgb.DMatrix(X_test, label=y_test)\n",
    "\n",
    "# Parameters for XGBoost\n",
    "params = {\n",
    "    'n_estimators': 1000\n",
    "}\n",
    "\n",
    "# Train the model and capture evaluation results\n",
    "evals_result = {}\n",
    "model = xgb.train(params, dtrain, num_boost_round=100, evals=[(dtrain, 'train'), (dtest, 'eval')],\n",
    "                  evals_result=evals_result, verbose_eval=True)\n",
    "\n",
    "# Plot the training and evaluation loss\n",
    "epochs = len(evals_result['train']['rmse'])\n",
    "x_axis = range(0, epochs)\n",
    "\n",
    "plt.figure(figsize=(10, 6))\n",
    "plt.plot(x_axis, evals_result['train']['rmse'], label='Train')\n",
    "plt.plot(x_axis, evals_result['eval']['rmse'], label='Test')\n",
    "plt.legend()\n",
    "plt.xlabel('Number of Boosting Rounds')\n",
    "plt.ylabel('RMSE')\n",
    "plt.title('XGBoost RMSE Over Epochs')\n",
    "plt.show()\n",
    "\n",
    "# Make predictions on the test set\n",
    "predictions = model.predict(dtest)\n",
    "\n",
    "# Print out a few predictions\n",
    "print(predictions[:10])\n",
    "\n",
    "# Calculate RMSE\n",
    "rmse = np.sqrt(mean_squared_error(y_test, predictions))\n",
    "print(f\"RMSE: {rmse}\")\n"
   ]
  },
  {
   "cell_type": "code",
   "execution_count": 14,
   "id": "9e659247-525f-4743-8ab0-092e5ca74dc6",
   "metadata": {},
   "outputs": [
    {
     "data": {
      "text/plain": [
       "200.72622392063684"
      ]
     },
     "execution_count": 14,
     "metadata": {},
     "output_type": "execute_result"
    }
   ],
   "source": [
    "predictions = model.predict(dtest)\n",
    "with torch.no_grad():\n",
    "    t = scaler.inverse_transform(y_test)\n",
    "    tp = scaler.inverse_transform(predictions.reshape(-1, 1))\n",
    "math.sqrt(mean_squared_error(t, tp))    "
   ]
  },
  {
   "cell_type": "code",
   "execution_count": 15,
   "id": "492c4728-ed62-4e64-ab4f-119e1636f9ac",
   "metadata": {},
   "outputs": [
    {
     "name": "stdout",
     "output_type": "stream",
     "text": [
      "3.5651056463384108\n"
     ]
    }
   ],
   "source": [
    "with torch.no_grad():\n",
    "    tpreds = model.predict(dtrain)\n",
    "    tr = scaler.inverse_transform(y_train)\n",
    "    trp = scaler.inverse_transform(tpreds.reshape(-1, 1))\n",
    "    print(math.sqrt(mean_squared_error(tr, trp)))\n"
   ]
  },
  {
   "cell_type": "code",
   "execution_count": 16,
   "id": "67c6a8dd-550f-416c-bbf8-b58d0587b223",
   "metadata": {},
   "outputs": [
    {
     "data": {
      "text/plain": [
       "[<matplotlib.lines.Line2D at 0x7fc0f400aee0>]"
      ]
     },
     "execution_count": 16,
     "metadata": {},
     "output_type": "execute_result"
    },
    {
     "data": {
      "image/png": "[encoded data removed]",
      "text/plain": [
       "<Figure size 432x288 with 1 Axes>"
      ]
     },
     "metadata": {
      "needs_background": "light"
     },
     "output_type": "display_data"
    }
   ],
   "source": [
    "import matplotlib.pyplot as plt\n",
    "\n",
    "plt.plot(tr)\n",
    "plt.plot(trp)"
   ]
  },
  {
   "cell_type": "code",
   "execution_count": 17,
   "id": "f9edf5e7-bfd4-4a82-864e-17da1ebb7c29",
   "metadata": {},
   "outputs": [
    {
     "data": {
      "text/plain": [
       "[<matplotlib.lines.Line2D at 0x7fc0f3f9b3d0>]"
      ]
     },
     "execution_count": 17,
     "metadata": {},
     "output_type": "execute_result"
    },
    {
     "data": {
      "image/png": "[encoded data removed]",
      "text/plain": [
       "<Figure size 432x288 with 1 Axes>"
      ]
     },
     "metadata": {
      "needs_background": "light"
     },
     "output_type": "display_data"
    }
   ],
   "source": [
    "plt.plot(t)\n",
    "plt.plot(tp)\n"
   ]
  },
  {
   "cell_type": "code",
   "execution_count": null,
   "id": "5c145a00-f9d9-487b-b4d4-d2539caa675f",
   "metadata": {},
   "outputs": [],
   "source": []
  }
 ],
 "metadata": {
  "kernelspec": {
   "display_name": "Python 3 (ipykernel)",
   "language": "python",
   "name": "python3"
  },
  "language_info": {
   "codemirror_mode": {
    "name": "ipython",
    "version": 3
   },
   "file_extension": ".py",
   "mimetype": "text/x-python",
   "name": "python",
   "nbconvert_exporter": "python",
   "pygments_lexer": "ipython3",
   "version": "3.8.3"
  }
 },
 "nbformat": 4,
 "nbformat_minor": 5
}
