{
 "cells": [
  {
   "cell_type": "code",
   "execution_count": 7,
   "id": "10a48751-216a-424a-833d-0c85e900354e",
   "metadata": {},
   "outputs": [
    {
     "name": "stdout",
     "output_type": "stream",
     "text": [
      "(1592, 1) (397, 1)\n"
     ]
    }
   ],
   "source": [
    "import torch\n",
    "import numpy as np\n",
    "import pandas as pd\n",
    "import torch.nn as nn\n",
    "from torch.utils.data import TensorDataset, DataLoader\n",
    "import math\n",
    "\n",
    "\n",
    "df = pd.read_csv('data/upload_DJIA_table.csv', parse_dates=['Date'], index_col='Date')\n",
    "df = df[['Close']]\n",
    "df = df.sort_index()\n",
    "\n",
    "\n",
    "training_data_len = math.ceil(len(df) * .8)\n",
    "\n",
    "train_data = df[:training_data_len].iloc[:,:1]\n",
    "test_data = df[training_data_len:].iloc[:,:1]\n",
    "print(train_data.shape, test_data.shape)\n",
    "\n"
   ]
  },
  {
   "cell_type": "code",
   "execution_count": 10,
   "id": "a503e7e3-bf99-4fc6-ab14-c054f110bd05",
   "metadata": {},
   "outputs": [
    {
     "name": "stdout",
     "output_type": "stream",
     "text": [
      "(1592, 1, 768) (397, 1, 768)\n"
     ]
    }
   ],
   "source": [
    "bert_embeddings = np.load('bert_embeddings.npy')\n",
    "\n",
    "bert_train = bert_embeddings[:training_data_len]\n",
    "bert_test = bert_embeddings[training_data_len:]\n",
    "print(bert_train.shape, bert_test.shape)"
   ]
  },
  {
   "cell_type": "code",
   "execution_count": 18,
   "id": "8f41ae40-cede-4b37-bcf6-b0b3d0c60d96",
   "metadata": {},
   "outputs": [
    {
     "name": "stdout",
     "output_type": "stream",
     "text": [
      "(1592, 1) (397, 1)\n"
     ]
    }
   ],
   "source": [
    "fingpt_sentiments = np.load('fingpt_sentiment.npy').astype('float32') \n",
    "\n",
    "fingpt_sentiments = fingpt_sentiments.reshape(-1, 1)\n",
    "sentiments_train = fingpt_sentiments[:training_data_len]\n",
    "sentiments_test = fingpt_sentiments[training_data_len:]\n",
    "\n",
    "print(sentiments_train.shape, sentiments_test.shape)"
   ]
  },
  {
   "cell_type": "code",
   "execution_count": 19,
   "id": "59d12277-5328-4dbf-a6ba-9fbcdadcd767",
   "metadata": {},
   "outputs": [
    {
     "data": {
      "text/plain": [
       "((397, 1), (1592, 1))"
      ]
     },
     "execution_count": 19,
     "metadata": {},
     "output_type": "execute_result"
    }
   ],
   "source": [
    "# Selecting Open Price values\n",
    "dataset_train = train_data.values\n",
    "dataset_train = np.reshape(dataset_train, (-1,1))\n",
    "\n",
    "dataset_test = test_data.values\n",
    "dataset_test = np.reshape(dataset_test, (-1,1))\n",
    "\n",
    "dataset_test.shape, dataset_train.shape"
   ]
  },
  {
   "cell_type": "code",
   "execution_count": 20,
   "id": "1c53a2ad-c464-4b13-8e57-167fba42eabc",
   "metadata": {},
   "outputs": [
    {
     "name": "stdout",
     "output_type": "stream",
     "text": [
      "[[0.45640217]\n",
      " [0.46062803]\n",
      " [0.44832069]\n",
      " [0.43868547]\n",
      " [0.44598557]]\n",
      "[0.84454818] [0.86667668] [0.82659367] [0.80725839] [0.70619221]\n"
     ]
    }
   ],
   "source": [
    "from sklearn.preprocessing import MinMaxScaler\n",
    "scaler = MinMaxScaler(feature_range=(0,1))\n",
    "# scaling dataset\n",
    "scaled_train = scaler.fit_transform(dataset_train)\n",
    "\n",
    "print(scaled_train[:5])\n",
    "# Normalizing values between 0 and 1\n",
    "scaled_test = scaler.fit_transform(dataset_test)\n",
    "print(*scaled_test[:5]) #prints the first 5 rows of scaled_test\n"
   ]
  },
  {
   "cell_type": "code",
   "execution_count": 21,
   "id": "1d10ea4e-c7ea-4e29-ac5a-bb9cf235859a",
   "metadata": {},
   "outputs": [
    {
     "data": {
      "text/plain": [
       "(torch.Size([1542, 50, 1]),\n",
       " torch.Size([1542, 50, 768]),\n",
       " torch.Size([1542, 50, 1]),\n",
       " torch.Size([1542, 50, 1]))"
      ]
     },
     "execution_count": 21,
     "metadata": {},
     "output_type": "execute_result"
    }
   ],
   "source": [
    "# Create sequences and labels for training data\n",
    "sequence_length = 50 # Number of time steps to look back\n",
    "X_train_emb, X_train_sentiment, X_train, y_train = [], [], [], []\n",
    "# asd = []\n",
    "\n",
    "for i in range(len(scaled_train) - sequence_length):\n",
    "    X_train.append(scaled_train[i:i+sequence_length])\n",
    "    y_train.append(scaled_train[i+1:i+sequence_length+1])\n",
    "    X_train_emb.append(bert_train[i:i+sequence_length])\n",
    "    X_train_sentiment.append(sentiments_train[i:i+sequence_length])\n",
    "\n",
    "X_train, y_train = np.array(X_train), np.array(y_train)\n",
    "X_train_emb = np.array(X_train_emb)\n",
    "X_train_sentiment = np.array(X_train_sentiment)\n",
    "\n",
    "# Convert data to PyTorch tensors\n",
    "X_train = torch.tensor(X_train, dtype=torch.float32).float()\n",
    "y_train = torch.tensor(y_train, dtype=torch.float32).float()\n",
    "X_train_emb = torch.tensor(X_train_emb, dtype=torch.float32).float().squeeze()\n",
    "X_train_sentiment = torch.tensor(X_train_sentiment, dtype=torch.float32).float()\n",
    "\n",
    "\n",
    "X_train.shape, X_train_emb.shape, X_train_sentiment.shape, y_train.shape\n"
   ]
  },
  {
   "cell_type": "code",
   "execution_count": 22,
   "id": "101743e9-9880-424a-aae3-422848c4e507",
   "metadata": {},
   "outputs": [],
   "source": [
    "X_train = torch.cat((X_train, X_train_sentiment, X_train_emb), axis=2)\n",
    "X_train.shape"
   ]
  },
  {
   "cell_type": "code",
   "execution_count": 25,
   "id": "8094005c-8de7-40ef-a528-05e314c66c0d",
   "metadata": {},
   "outputs": [
    {
     "data": {
      "text/plain": [
       "(torch.Size([367, 30, 1]),\n",
       " torch.Size([367, 30, 768]),\n",
       " torch.Size([367, 30, 1]),\n",
       " torch.Size([367, 30, 1]))"
      ]
     },
     "execution_count": 25,
     "metadata": {},
     "output_type": "execute_result"
    }
   ],
   "source": [
    "# Create sequences and labels for testing data\n",
    "sequence_length = 30  # Number of time steps to look back\n",
    "X_test, X_test_emb, X_test_sentiment, y_test = [], [], [], []\n",
    "\n",
    "\n",
    "for i in range(len(scaled_test) - sequence_length):\n",
    "    X_test.append(scaled_test[i:i+sequence_length])\n",
    "    y_test.append(scaled_test[i+1:i+sequence_length+1])\n",
    "    X_test_emb.append(bert_test[i:i+sequence_length])\n",
    "    X_test_sentiment.append(sentiments_test[i:i+sequence_length])\n",
    "    \n",
    "\n",
    "X_test, X_test_emb, y_test = np.array(X_test), np.array(X_test_emb), np.array(y_test)\n",
    "X_test_sentiment = np.array(X_test_sentiment)\n",
    "\n",
    "# Convert data to PyTorch tensors\n",
    "X_test = torch.tensor(X_test, dtype=torch.float32)\n",
    "X_test_emb = torch.tensor(X_test_emb, dtype=torch.float32).squeeze()\n",
    "y_test = torch.tensor(y_test, dtype=torch.float32)\n",
    "X_test_sentiment = torch.tensor(X_test_sentiment, dtype=torch.float32)\n",
    "\n",
    "X_test.shape, X_test_emb.shape, X_test_sentiment.shape, y_test.shape"
   ]
  },
  {
   "cell_type": "code",
   "execution_count": 26,
   "id": "3e44bd28-fbfb-4def-bddb-d6f13dc294eb",
   "metadata": {},
   "outputs": [
    {
     "data": {
      "text/plain": [
       "torch.Size([367, 30, 770])"
      ]
     },
     "execution_count": 26,
     "metadata": {},
     "output_type": "execute_result"
    }
   ],
   "source": [
    "X_test = torch.cat((X_test, X_test_emb, X_test_sentiment), axis=2)\n",
    "X_test.shape"
   ]
  },
  {
   "cell_type": "code",
   "execution_count": 27,
   "id": "3004c117-7f0d-421b-82ba-a7c06be6133b",
   "metadata": {},
   "outputs": [],
   "source": [
    "class LSTMModel(nn.Module):\n",
    "\t# input_size : number of features in input at each time step\n",
    "\t# hidden_size : Number of LSTM units \n",
    "\t# num_layers : number of LSTM layers\n",
    "    def __init__(self, input_size, hidden_size, num_layers): \n",
    "        super(LSTMModel, self).__init__() #initializes the parent class nn.Module\n",
    "        self.lstm = nn.LSTM(input_size, hidden_size, num_layers, batch_first=True)\n",
    "        self.linear = nn.Linear(64, 1)\n",
    "\n",
    "    def forward(self, p): # defines forward pass of the neural network\n",
    "        out, _ = self.lstm(p)\n",
    "        out = self.linear(out)\n",
    "        return out\n"
   ]
  },
  {
   "cell_type": "code",
   "execution_count": 28,
   "id": "d4196348-5179-4f6a-8ea1-447cee513531",
   "metadata": {},
   "outputs": [
    {
     "name": "stdout",
     "output_type": "stream",
     "text": [
      "cpu\n"
     ]
    }
   ],
   "source": [
    "device = torch.device('cuda' if torch.cuda.is_available() else 'cpu')\n",
    "print(device)\n"
   ]
  },
  {
   "cell_type": "code",
   "execution_count": 29,
   "id": "9f1e1c46-91fc-4eaa-afaa-07c24daf26fd",
   "metadata": {},
   "outputs": [
    {
     "name": "stdout",
     "output_type": "stream",
     "text": [
      "LSTMModel(\n",
      "  (lstm): LSTM(770, 64, num_layers=2, batch_first=True)\n",
      "  (linear): Linear(in_features=64, out_features=1, bias=True)\n",
      ")\n"
     ]
    }
   ],
   "source": [
    "input_size = 770\n",
    "# input_emb = 769\n",
    "num_layers = 2\n",
    "hidden_size = 64\n",
    "output_size = 1\n",
    "\n",
    "# Define the model, loss function, and optimizer\n",
    "model = LSTMModel(input_size, hidden_size, num_layers).to(device)\n",
    "\n",
    "loss_fn = torch.nn.MSELoss(reduction='mean')\n",
    "\n",
    "optimizer = torch.optim.Adam(model.parameters(), lr=1e-3)\n",
    "print(model)\n"
   ]
  },
  {
   "cell_type": "code",
   "execution_count": 30,
   "id": "c5a4465c-d759-455e-b6b0-378a45d8ca8f",
   "metadata": {},
   "outputs": [
    {
     "data": {
      "text/plain": [
       "torch.Size([1542, 50, 770])"
      ]
     },
     "execution_count": 30,
     "metadata": {},
     "output_type": "execute_result"
    }
   ],
   "source": [
    "X_train.shape"
   ]
  },
  {
   "cell_type": "code",
   "execution_count": 31,
   "id": "a640637c-3e44-4cd2-a2c7-43561707bf3d",
   "metadata": {},
   "outputs": [],
   "source": [
    "from torch.utils.data import TensorDataset, DataLoader\n",
    "\n",
    "\n",
    "batch_size = 16\n",
    "# Create DataLoader for batch training\n",
    "train_dataset = TensorDataset(X_train, y_train)\n",
    "train_loader = DataLoader(train_dataset, batch_size=batch_size, shuffle=True)\n",
    "\n",
    "# Create DataLoader for batch training\n",
    "test_dataset = TensorDataset(X_test, y_test)\n",
    "test_loader = DataLoader(test_dataset, batch_size=batch_size, shuffle=False)\n"
   ]
  },
  {
   "cell_type": "code",
   "execution_count": 32,
   "id": "e4fa550f-9641-4972-823a-cc5d424d316d",
   "metadata": {},
   "outputs": [
    {
     "name": "stdout",
     "output_type": "stream",
     "text": [
      "Epoch [10/50] - Training Loss: 0.0010, Test Loss: 0.2929\n",
      "Epoch [20/50] - Training Loss: 0.0002, Test Loss: 0.2137\n",
      "Epoch [30/50] - Training Loss: 0.0001, Test Loss: 0.1823\n",
      "Epoch [40/50] - Training Loss: 0.0001, Test Loss: 0.1711\n",
      "Epoch [50/50] - Training Loss: 0.0000, Test Loss: 0.1630\n"
     ]
    }
   ],
   "source": [
    "num_epochs = 50\n",
    "train_hist =[]\n",
    "test_hist =[]\n",
    "# Training loop\n",
    "for epoch in range(num_epochs):\n",
    "\ttotal_loss = 0.0\n",
    "\n",
    "\t# Training\n",
    "\tmodel.train()\n",
    "\tfor batch_price, batch_y in train_loader:\n",
    "\t\tbatch_price, batch_y = batch_price.to(device), batch_y.to(device)\n",
    "\t\tpredictions = model(batch_price)\n",
    "\t\tloss = loss_fn(predictions, batch_y)\n",
    "\n",
    "\t\toptimizer.zero_grad()\n",
    "\t\tloss.backward()\n",
    "\t\toptimizer.step()\n",
    "\n",
    "\t\ttotal_loss += loss.item()\n",
    "\n",
    "\t# Calculate average training loss and accuracy\n",
    "\taverage_loss = total_loss / len(train_loader)\n",
    "\ttrain_hist.append(average_loss)\n",
    "\n",
    "\t# Validation on test data\n",
    "\tmodel.eval()\n",
    "\twith torch.no_grad():\n",
    "\t\ttotal_test_loss = 0.0\n",
    "\n",
    "\t\tfor batch_price,  batch_y_test in test_loader:\n",
    "\t\t\tbatch_price, batch_y_test = batch_price.to(device), batch_y_test.to(device)\n",
    "\t\t\tpredictions_test = model(batch_price)\n",
    "\t\t\ttest_loss = loss_fn(predictions_test, batch_y_test)\n",
    "\n",
    "\t\t\ttotal_test_loss += test_loss.item()\n",
    "\n",
    "\t\t# Calculate average test loss and accuracy\n",
    "\t\taverage_test_loss = total_test_loss / len(test_loader)\n",
    "\t\ttest_hist.append(average_test_loss)\n",
    "\tif (epoch+1)%10==0:\n",
    "\t\tprint(f'Epoch [{epoch+1}/{num_epochs}] - Training Loss: {average_loss:.4f}, Test Loss: {average_test_loss:.4f}')\n"
   ]
  },
  {
   "cell_type": "code",
   "execution_count": 33,
   "id": "923cfbc0-00ac-47ae-a33a-85840d534fd8",
   "metadata": {},
   "outputs": [
    {
     "data": {
      "image/png": "[encoded data removed]",
      "text/plain": [
       "<Figure size 432x288 with 1 Axes>"
      ]
     },
     "metadata": {
      "needs_background": "light"
     },
     "output_type": "display_data"
    }
   ],
   "source": [
    "import matplotlib.pyplot as plt\n",
    "\n",
    "x = np.linspace(1,num_epochs,num_epochs)\n",
    "plt.plot(x,train_hist,scalex=True, label=\"Training loss\")\n",
    "plt.plot(x, test_hist, label=\"Test loss\")\n",
    "plt.legend()\n",
    "plt.show()\n"
   ]
  },
  {
   "cell_type": "code",
   "execution_count": 34,
   "id": "71ac2300-630f-435d-93a2-353c64b50a08",
   "metadata": {},
   "outputs": [],
   "source": [
    "### Lets Do the prediction and check performance metrics\n",
    "with torch.no_grad():\n",
    "    train_predict=model(X_train)\n",
    "    test_predict=model(X_test)\n"
   ]
  },
  {
   "cell_type": "code",
   "execution_count": 35,
   "id": "cf07f052-baef-44eb-92a6-9624a634d8bb",
   "metadata": {},
   "outputs": [
    {
     "data": {
      "text/plain": [
       "torch.Size([1542, 50, 1])"
      ]
     },
     "execution_count": 35,
     "metadata": {},
     "output_type": "execute_result"
    }
   ],
   "source": [
    "train_predict.shape"
   ]
  },
  {
   "cell_type": "code",
   "execution_count": 36,
   "id": "62d27d7f-ca9d-4296-a6f8-ddd46ad5c298",
   "metadata": {},
   "outputs": [],
   "source": [
    "train_predict = train_predict.squeeze()\n",
    "test_predict = test_predict.squeeze()\n"
   ]
  },
  {
   "cell_type": "code",
   "execution_count": 38,
   "id": "9a3450e5-68e9-4db5-b8db-a8e3b898b694",
   "metadata": {},
   "outputs": [],
   "source": [
    "##Transformback to original form\n",
    "train_predict=scaler.inverse_transform(train_predict)\n",
    "test_predict=scaler.inverse_transform(test_predict)"
   ]
  },
  {
   "cell_type": "code",
   "execution_count": 39,
   "id": "507e9152-426d-4d1c-9a8f-e77ce01d8ac6",
   "metadata": {},
   "outputs": [
    {
     "data": {
      "text/plain": [
       "21.153157882356822"
      ]
     },
     "execution_count": 39,
     "metadata": {},
     "output_type": "execute_result"
    }
   ],
   "source": [
    "### Calculate RMSE performance metrics\n",
    "import math\n",
    "from sklearn.metrics import mean_squared_error\n",
    "\n",
    "t = scaler.inverse_transform(y_train.squeeze())\n",
    "\n",
    "math.sqrt(mean_squared_error(t,train_predict))"
   ]
  },
  {
   "cell_type": "code",
   "execution_count": 40,
   "id": "9ea40f14-1c4a-48a3-8f1b-d22bafcb5cdb",
   "metadata": {},
   "outputs": [
    {
     "data": {
      "text/plain": [
       "(367, 30)"
      ]
     },
     "execution_count": 40,
     "metadata": {},
     "output_type": "execute_result"
    }
   ],
   "source": [
    "tt = scaler.inverse_transform(y_test.squeeze())\n",
    "tt.shape"
   ]
  },
  {
   "cell_type": "code",
   "execution_count": 43,
   "id": "1e368d3c-3fcf-4439-805c-93f78cef1113",
   "metadata": {},
   "outputs": [
    {
     "data": {
      "text/plain": [
       "[<matplotlib.lines.Line2D at 0x7f97fc94c9a0>]"
      ]
     },
     "execution_count": 43,
     "metadata": {},
     "output_type": "execute_result"
    },
    {
     "data": {
      "image/png": "[encoded data removed]",
      "text/plain": [
       "<Figure size 432x288 with 1 Axes>"
      ]
     },
     "metadata": {
      "needs_background": "light"
     },
     "output_type": "display_data"
    }
   ],
   "source": [
    "look_back=50\n",
    "trainPredictPlot = np.empty_like(df)\n",
    "trainPredictPlot[:, :] = np.nan\n",
    "trainPredictPlot[look_back:len(train_predict) + look_back, :] = train_predict[:, -1].reshape(-1, 1)\n",
    "\n",
    "plt.plot(t[:, 0])\n",
    "plt.plot(trainPredictPlot[:, -1])"
   ]
  },
  {
   "cell_type": "code",
   "execution_count": 45,
   "id": "f1b664ab-e71d-4575-b01b-759df32ab822",
   "metadata": {},
   "outputs": [
    {
     "data": {
      "image/png": "[encoded data removed]",
      "text/plain": [
       "<Figure size 432x288 with 1 Axes>"
      ]
     },
     "metadata": {
      "needs_background": "light"
     },
     "output_type": "display_data"
    }
   ],
   "source": [
    "plt.plot(test_predict[:, -1])\n",
    "plt.plot(tt[:, -1])\n",
    "plt.show()"
   ]
  },
  {
   "cell_type": "code",
   "execution_count": null,
   "id": "f78bc1a8-d266-44b0-bf04-000b6408a909",
   "metadata": {},
   "outputs": [],
   "source": []
  }
 ],
 "metadata": {
  "kernelspec": {
   "display_name": "Python 3 (ipykernel)",
   "language": "python",
   "name": "python3"
  },
  "language_info": {
   "codemirror_mode": {
    "name": "ipython",
    "version": 3
   },
   "file_extension": ".py",
   "mimetype": "text/x-python",
   "name": "python",
   "nbconvert_exporter": "python",
   "pygments_lexer": "ipython3",
   "version": "3.8.3"
  }
 },
 "nbformat": 4,
 "nbformat_minor": 5
}
