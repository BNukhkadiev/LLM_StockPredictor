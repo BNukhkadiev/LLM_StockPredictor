{
 "cells": [
  {
   "cell_type": "code",
   "execution_count": 1,
   "id": "3a8429b5-abda-4859-9d0c-93afa09af9f4",
   "metadata": {},
   "outputs": [],
   "source": [
    "import torch\n",
    "import numpy as np\n",
    "import pandas as pd\n",
    "import torch.nn as nn\n",
    "from torch.utils.data import TensorDataset, DataLoader\n",
    "from utils import create_sequences_sent\n",
    "\n",
    "# import all data\n",
    "df = pd.read_csv('data/upload_DJIA_table.csv', parse_dates=['Date'], index_col='Date')\n",
    "df = df[['Close']]\n",
    "df = df.sort_index()\n",
    "\n",
    "train_data = df[:'2014']\n",
    "test_data = df['2015':]\n",
    "\n",
    "bert_embeddings = np.load('bert_embeddings.npy')\n",
    "fingpt_sentiments = np.load('fingpt_sentiment.npy').astype('float32') \n",
    "\n",
    "bert_embeddings_train = bert_embeddings[:train_data.shape[0]].reshape(-1, 768)\n",
    "bert_embeddings_test = bert_embeddings[train_data.shape[0]:].reshape(-1, 768)\n",
    "\n",
    "X_train_emb, X_train_pr, X_train_sent, y_train = create_sequences_sent(train_data, 60, bert_embeddings_train, fingpt_sentiments)\n",
    "X_test_emb, X_test_pr, X_test_sent, y_test = create_sequences_sent(test_data, 60, bert_embeddings_test, fingpt_sentiments)"
   ]
  },
  {
   "cell_type": "code",
   "execution_count": 2,
   "id": "d0a527a2-935a-4809-a162-83d5c395059b",
   "metadata": {},
   "outputs": [
    {
     "data": {
      "text/plain": [
       "((1551, 60), (318, 60))"
      ]
     },
     "execution_count": 2,
     "metadata": {},
     "output_type": "execute_result"
    }
   ],
   "source": [
    "X_train_sent.shape, X_test_sent.shape"
   ]
  },
  {
   "cell_type": "code",
   "execution_count": 3,
   "id": "fda13211-51f3-4192-aefc-846657dbace9",
   "metadata": {},
   "outputs": [
    {
     "name": "stdout",
     "output_type": "stream",
     "text": [
      "Train shapes:  (1551, 60, 768) (1551, 60) (1551, 60) (1551,)\n",
      "Test shapes:  (318, 60, 768) (318, 60) (318, 60) (318,)\n"
     ]
    }
   ],
   "source": [
    "print(\"Train shapes: \", X_train_emb.shape, X_train_pr.shape, X_train_sent.shape, y_train.shape)\n",
    "print(\"Test shapes: \", X_test_emb.shape, X_test_pr.shape, X_test_sent.shape, y_test.shape)\n",
    "\n",
    "# convert to torch dataset\n",
    "dataset_train = TensorDataset(\n",
    "    torch.from_numpy(X_train_emb).float(),\n",
    "    torch.from_numpy(X_train_pr).float(),\n",
    "    torch.from_numpy(X_train_sent).float(),\n",
    "    torch.from_numpy(y_train).float()\n",
    ")\n",
    "dataset_test = TensorDataset(\n",
    "    torch.from_numpy(X_test_emb).float(),\n",
    "    torch.from_numpy(X_test_pr).float(),\n",
    "    torch.from_numpy(X_test_sent).float(),\n",
    "    torch.from_numpy(y_test).float()\n",
    ")\n",
    "\n",
    "dataloader_train = DataLoader(dataset_train, batch_size=32, shuffle=True)\n",
    "dataloader_test = DataLoader(dataset_test, batch_size=32, shuffle=True)"
   ]
  },
  {
   "cell_type": "code",
   "execution_count": 10,
   "id": "2cc49abb-d4bd-422e-98a4-b10c91bfa35c",
   "metadata": {},
   "outputs": [],
   "source": [
    "from models import StockPredictorSent\n",
    "\n",
    "# Model parameters\n",
    "embedding_dim = 768  # Size of BERT embeddings\n",
    "price_dim = 1        # Each stock price is a single number\n",
    "sent_dim = 1        # Each sentiment is a single number\n",
    "hidden_dim = 128\n",
    "num_layers = 2\n",
    "\n",
    "model = StockPredictorSent(embedding_dim, price_dim, sent_dim, hidden_dim, num_layers)"
   ]
  },
  {
   "cell_type": "code",
   "execution_count": 11,
   "id": "27cbb8a2",
   "metadata": {},
   "outputs": [
    {
     "name": "stdout",
     "output_type": "stream",
     "text": [
      "Epoch 1, Loss: 126368232.0, MAE: 11241.362550865442\n",
      "Epoch 2, Loss: 141721200.0, MAE: 11904.671352036561\n",
      "Epoch 3, Loss: 139982544.0, MAE: 11831.421892570648\n",
      "Epoch 4, Loss: 82866856.0, MAE: 9103.123420013595\n",
      "Epoch 5, Loss: 35907120.0, MAE: 5992.255001249529\n",
      "Epoch 6, Loss: 16482364.0, MAE: 4059.847780397684\n",
      "Epoch 7, Loss: 7530426.0, MAE: 2744.1621672197143\n",
      "Epoch 8, Loss: 7355697.0, MAE: 2712.138823880518\n",
      "Epoch 9, Loss: 8914146.0, MAE: 2985.6567116800284\n",
      "Epoch 10, Loss: 8588848.0, MAE: 2930.673642697187\n"
     ]
    }
   ],
   "source": [
    "from models import BertSentimentTrainer\n",
    "\n",
    "# Assuming you have a model instance 'model' and DataLoaders 'dataloader_train' and 'dataloader_test'\n",
    "trainer = BertSentimentTrainer(model, dataloader_train, dataloader_test, num_epochs=10, learning_rate=0.001)\n",
    "trainer.train()"
   ]
  },
  {
   "cell_type": "code",
   "execution_count": 12,
   "id": "0820c34d",
   "metadata": {},
   "outputs": [
    {
     "name": "stdout",
     "output_type": "stream",
     "text": [
      "Test MSE:  tensor(23712514.)\n",
      "Test MAE:  tensor(4869.5498)\n"
     ]
    }
   ],
   "source": [
    "trainer.test()"
   ]
  }
 ],
 "metadata": {
  "kernelspec": {
   "display_name": "Python 3 (ipykernel)",
   "language": "python",
   "name": "python3"
  },
  "language_info": {
   "codemirror_mode": {
    "name": "ipython",
    "version": 3
   },
   "file_extension": ".py",
   "mimetype": "text/x-python",
   "name": "python",
   "nbconvert_exporter": "python",
   "pygments_lexer": "ipython3",
   "version": "3.9.18"
  }
 },
 "nbformat": 4,
 "nbformat_minor": 5
}
