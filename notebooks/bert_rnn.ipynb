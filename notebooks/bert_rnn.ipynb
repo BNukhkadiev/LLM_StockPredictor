{
  "cells": [
    {
      "cell_type": "code",
      "execution_count": 1,
      "id": "e368af2a-1cf0-4be2-8520-74af3bda5010",
      "metadata": {
        "id": "e368af2a-1cf0-4be2-8520-74af3bda5010"
      },
      "outputs": [],
      "source": [
        "import torch\n",
        "import numpy as np\n",
        "import pandas as pd\n",
        "import torch.nn as nn\n",
        "from torch.utils.data import TensorDataset, DataLoader\n"
      ]
    },
    {
      "cell_type": "code",
      "execution_count": 2,
      "id": "07d74f2e-8571-4d54-b4fe-72574fd2cb7c",
      "metadata": {
        "colab": {
          "base_uri": "https://localhost:8080/",
          "height": 340,
          "referenced_widgets": [
            "6adc05ccde1b4f80b80585c5a6a6d2b0",
            "42c08cdd087c423e8f59695266620168",
            "80e5393600554db999334b1931ba1c1f",
            "49c20c9be31e472298b36eb2af92514c",
            "dd03540299354d55806f77f36d76b1c9",
            "84f5540e28a14656b9a6ac63d5b8c9a2",
            "a7808fe4d14846ed8f0ef2121336e3ed",
            "cde13d2dc6064ac6af110e8d9b080e5b",
            "d82a6e0888664ad982195efbc49be2ac",
            "45d72765340944dc886a9c0691597338",
            "ea91f88d91304f9eafb8e65f8100ad0f",
            "a5efa755a71f4e9ab6093dc86b7ca222",
            "4b45b3a3a2294ea6a7dab54ea7a40b10",
            "ad3d50ceadc640d298cbeabf5a538824",
            "662c82ce6bb7453c818608b30aecfdba",
            "3e92c4adb46d440e99ef37015ea6c95f",
            "2ecf6773a95f4177a9729a16a1a0e1cd",
            "101f3b1181e54fef9ec5b29317f2e6bd",
            "32a81cd7a6a54902942b5dca4f994498",
            "e6e4a698f35542c8b453d53b7ad1b302",
            "8e17becdf2234e3aac435ce22a2b1fa8",
            "6779153d270d48cd89fc163b39fe4080",
            "fa4e71d154ee4ae4bfec697c982874ce",
            "ac3b71914a0c4d7f9233b78d0ab8b899",
            "53e051f2523e433cbf08011d2a411298",
            "d7ac3c3028394bdb9adea356c21bb178",
            "8d934708d7d94818b1ee729d244c26c0",
            "c50a9830869d436b9b14a70d12397b70",
            "b362ca5bdec24f8d95241d2bc1f786bd",
            "7a7b44cef7fd4ee3bce23738676b7438",
            "0acf15bb785e4a60b8d1499b61878f3e",
            "21667e496e1548058b8155bb6540e205",
            "33c971213be34823b6fc6befecdcf9c2",
            "a8989c9772e54f78843494120511a75c",
            "dbdd7d9314f145c3a33f16ab06aa68e7",
            "c7b28703571b4f6ba99c5b5106af5320",
            "c7370e052e9940f081ba754d4f18004c",
            "1b27a4e7c8ed4dbc912b554e4f66eecb",
            "e855c1263906495f9f7e4c9673f6b949",
            "174ff09afb9249d294124c78d4db838f",
            "1168600902e24af5b2a45bc9c8592dee",
            "10823a44b3de4e189cab76821c6580c0",
            "81ca8d300b274d1e8e37fb7b30f07c9d",
            "770de6ce5af440b59cb89e911f5b8c84",
            "bbd807786b9141ea8c9abed753e3e3ea",
            "221afd1be6d045b99197669aba48a00b",
            "b32043acf32e438c8395acab99994407",
            "3d96ffab7f654cae99297b440017d1e7",
            "9721bf5f03a54dbc94d63747e69da293",
            "84051eb119cc4438abcc1dee29239cfa",
            "6f99a4459a7e48b99eca812d4820e763",
            "e263e6bdb9ad48429631433ae3ff802c",
            "f4f3d86b287448ec84ffdfd15ac2b8ab",
            "d7bbfcf52f304ef991684b2efcf84e79",
            "cc24f1b9904b48ec88015081198b29d3"
          ]
        },
        "id": "07d74f2e-8571-4d54-b4fe-72574fd2cb7c",
        "outputId": "e98f30b1-c2d2-48ac-f09c-0410f6d6669c"
      },
      "outputs": [
        {
          "output_type": "stream",
          "name": "stderr",
          "text": [
            "/usr/local/lib/python3.10/dist-packages/huggingface_hub/utils/_token.py:89: UserWarning: \n",
            "The secret `HF_TOKEN` does not exist in your Colab secrets.\n",
            "To authenticate with the Hugging Face Hub, create a token in your settings tab (https://huggingface.co/settings/tokens), set it as secret in your Google Colab and restart your session.\n",
            "You will be able to reuse this secret in all of your notebooks.\n",
            "Please note that authentication is recommended but still optional to access public models or datasets.\n",
            "  warnings.warn(\n"
          ]
        },
        {
          "output_type": "display_data",
          "data": {
            "text/plain": [
              "tokenizer_config.json:   0%|          | 0.00/48.0 [00:00<?, ?B/s]"
            ],
            "application/vnd.jupyter.widget-view+json": {
              "version_major": 2,
              "version_minor": 0,
              "model_id": "6adc05ccde1b4f80b80585c5a6a6d2b0"
            }
          },
          "metadata": {}
        },
        {
          "output_type": "display_data",
          "data": {
            "text/plain": [
              "vocab.txt:   0%|          | 0.00/232k [00:00<?, ?B/s]"
            ],
            "application/vnd.jupyter.widget-view+json": {
              "version_major": 2,
              "version_minor": 0,
              "model_id": "a5efa755a71f4e9ab6093dc86b7ca222"
            }
          },
          "metadata": {}
        },
        {
          "output_type": "display_data",
          "data": {
            "text/plain": [
              "tokenizer.json:   0%|          | 0.00/466k [00:00<?, ?B/s]"
            ],
            "application/vnd.jupyter.widget-view+json": {
              "version_major": 2,
              "version_minor": 0,
              "model_id": "fa4e71d154ee4ae4bfec697c982874ce"
            }
          },
          "metadata": {}
        },
        {
          "output_type": "stream",
          "name": "stderr",
          "text": [
            "/usr/local/lib/python3.10/dist-packages/huggingface_hub/file_download.py:1132: FutureWarning: `resume_download` is deprecated and will be removed in version 1.0.0. Downloads always resume when possible. If you want to force a new download, use `force_download=True`.\n",
            "  warnings.warn(\n"
          ]
        },
        {
          "output_type": "display_data",
          "data": {
            "text/plain": [
              "config.json:   0%|          | 0.00/570 [00:00<?, ?B/s]"
            ],
            "application/vnd.jupyter.widget-view+json": {
              "version_major": 2,
              "version_minor": 0,
              "model_id": "a8989c9772e54f78843494120511a75c"
            }
          },
          "metadata": {}
        },
        {
          "output_type": "display_data",
          "data": {
            "text/plain": [
              "model.safetensors:   0%|          | 0.00/440M [00:00<?, ?B/s]"
            ],
            "application/vnd.jupyter.widget-view+json": {
              "version_major": 2,
              "version_minor": 0,
              "model_id": "bbd807786b9141ea8c9abed753e3e3ea"
            }
          },
          "metadata": {}
        }
      ],
      "source": [
        "import os\n",
        "from transformers import BertTokenizer, BertModel\n",
        "\n",
        "\n",
        "os.environ['TRANSFORMERS_CACHE'] = '/Users/baga_nuhkadiev/.cache/huggingface'\n",
        "\n",
        "tokenizer = BertTokenizer.from_pretrained('bert-base-uncased')\n",
        "model = BertModel.from_pretrained('bert-base-uncased')\n",
        "\n",
        "\n",
        "def get_bert_embeddings(text):\n",
        "    inputs = tokenizer(text, return_tensors='pt', truncation=True, padding=True, max_length=512)\n",
        "    outputs = model(**inputs)\n",
        "    # Get the embeddings from the last hidden state\n",
        "    embeddings = outputs.last_hidden_state\n",
        "    # Pool the embeddings (use mean pooling for simplicity)\n",
        "    pooled_embeddings = torch.mean(embeddings, dim=1)\n",
        "    return pooled_embeddings.detach().numpy()\n",
        "\n",
        "\n",
        "# headlines = data['Text'].values\n",
        "# embeddings = [get_bert_embeddings(headline) for headline in headlines]\n"
      ]
    },
    {
      "cell_type": "code",
      "execution_count": 3,
      "id": "f14d1030-edc6-422a-891b-b606741c9c28",
      "metadata": {
        "colab": {
          "base_uri": "https://localhost:8080/"
        },
        "id": "f14d1030-edc6-422a-891b-b606741c9c28",
        "outputId": "f7650c56-cbca-4374-9306-039aad94f113"
      },
      "outputs": [
        {
          "output_type": "stream",
          "name": "stdout",
          "text": [
            "(1592, 1) (397, 1)\n"
          ]
        }
      ],
      "source": [
        "import math\n",
        "\n",
        "# import all data\n",
        "df = pd.read_csv('upload_DJIA_table.csv', parse_dates=['Date'], index_col='Date')\n",
        "df = df[['Close']]\n",
        "df = df.sort_index()\n",
        "\n",
        "training_data_len = math.ceil(len(df) * .8)\n",
        "training_data_len\n",
        "\n",
        "train_data = df[:training_data_len].iloc[:,:1]\n",
        "test_data = df[training_data_len:].iloc[:,:1]\n",
        "print(train_data.shape, test_data.shape)\n"
      ]
    },
    {
      "cell_type": "code",
      "execution_count": 4,
      "id": "0211fe67-cd72-410c-b425-1a13168290b7",
      "metadata": {
        "colab": {
          "base_uri": "https://localhost:8080/"
        },
        "id": "0211fe67-cd72-410c-b425-1a13168290b7",
        "outputId": "0da8dc02-bca5-4446-877a-93c7b3eb9208"
      },
      "outputs": [
        {
          "output_type": "execute_result",
          "data": {
            "text/plain": [
              "(1989, 1, 768)"
            ]
          },
          "metadata": {},
          "execution_count": 4
        }
      ],
      "source": [
        "bert_embeddings = np.load('bert_embeddings.npy')\n",
        "bert_embeddings.shape"
      ]
    },
    {
      "cell_type": "code",
      "execution_count": 5,
      "id": "9c7a0033-4339-4231-95b7-69178983ce36",
      "metadata": {
        "colab": {
          "base_uri": "https://localhost:8080/"
        },
        "id": "9c7a0033-4339-4231-95b7-69178983ce36",
        "outputId": "8c762bd8-b1a1-4250-a345-15157cf5ae8a"
      },
      "outputs": [
        {
          "output_type": "stream",
          "name": "stdout",
          "text": [
            "(1592, 1, 768) (397, 1, 768)\n"
          ]
        }
      ],
      "source": [
        "bert_train = bert_embeddings[:training_data_len]\n",
        "bert_test = bert_embeddings[training_data_len:]\n",
        "print(bert_train.shape, bert_test.shape)"
      ]
    },
    {
      "cell_type": "code",
      "execution_count": 6,
      "id": "36ded557-b148-4ae3-b10a-1be0c6e4aa17",
      "metadata": {
        "colab": {
          "base_uri": "https://localhost:8080/"
        },
        "id": "36ded557-b148-4ae3-b10a-1be0c6e4aa17",
        "outputId": "c2183584-063b-444a-a83c-c5fa4d1f493b"
      },
      "outputs": [
        {
          "output_type": "execute_result",
          "data": {
            "text/plain": [
              "((397, 1), (1592, 1))"
            ]
          },
          "metadata": {},
          "execution_count": 6
        }
      ],
      "source": [
        "# Selecting Open Price values\n",
        "dataset_train = train_data.values\n",
        "dataset_train = np.reshape(dataset_train, (-1,1))\n",
        "\n",
        "dataset_test = test_data.values\n",
        "dataset_test = np.reshape(dataset_test, (-1,1))\n",
        "\n",
        "dataset_test.shape, dataset_train.shape"
      ]
    },
    {
      "cell_type": "code",
      "execution_count": 7,
      "id": "ab923dff-0b54-4545-8d42-e9dc287c46c2",
      "metadata": {
        "colab": {
          "base_uri": "https://localhost:8080/"
        },
        "id": "ab923dff-0b54-4545-8d42-e9dc287c46c2",
        "outputId": "5ca80240-1f39-4c0a-de4a-6b1c9e4d8721"
      },
      "outputs": [
        {
          "output_type": "stream",
          "name": "stdout",
          "text": [
            "[[0.45640217]\n",
            " [0.46062803]\n",
            " [0.44832069]\n",
            " [0.43868547]\n",
            " [0.44598557]]\n",
            "[0.84454818] [0.86667668] [0.82659367] [0.80725839] [0.70619221]\n"
          ]
        }
      ],
      "source": [
        "from sklearn.preprocessing import MinMaxScaler\n",
        "scaler = MinMaxScaler(feature_range=(0,1))\n",
        "# scaling dataset\n",
        "scaled_train = scaler.fit_transform(dataset_train)\n",
        "\n",
        "print(scaled_train[:5])\n",
        "# Normalizing values between 0 and 1\n",
        "scaled_test = scaler.fit_transform(dataset_test)\n",
        "print(*scaled_test[:5]) #prints the first 5 rows of scaled_test\n"
      ]
    },
    {
      "cell_type": "code",
      "execution_count": 8,
      "id": "9ed56c07-8b2d-4129-b657-3036bef7d56a",
      "metadata": {
        "colab": {
          "base_uri": "https://localhost:8080/"
        },
        "id": "9ed56c07-8b2d-4129-b657-3036bef7d56a",
        "outputId": "dab27ae6-0904-4321-81d1-837af1be8cac"
      },
      "outputs": [
        {
          "output_type": "execute_result",
          "data": {
            "text/plain": [
              "(60, 1, 768)"
            ]
          },
          "metadata": {},
          "execution_count": 8
        }
      ],
      "source": [
        "bert_train[0:60].shape"
      ]
    },
    {
      "cell_type": "code",
      "execution_count": 9,
      "id": "c7fe19e5-ec02-43c0-8de9-282faf3fbd5e",
      "metadata": {
        "colab": {
          "base_uri": "https://localhost:8080/"
        },
        "id": "c7fe19e5-ec02-43c0-8de9-282faf3fbd5e",
        "outputId": "2c0da11a-e16c-4b5d-ee0b-2de9d7663b4d"
      },
      "outputs": [
        {
          "output_type": "execute_result",
          "data": {
            "text/plain": [
              "(torch.Size([1542, 50, 1]),\n",
              " torch.Size([1542, 50, 768]),\n",
              " torch.Size([1542, 50, 1]))"
            ]
          },
          "metadata": {},
          "execution_count": 9
        }
      ],
      "source": [
        "# Create sequences and labels for training data\n",
        "sequence_length = 50 # Number of time steps to look back\n",
        "X_train_emb, X_train, y_train = [], [], []\n",
        "# asd = []\n",
        "\n",
        "for i in range(len(scaled_train) - sequence_length):\n",
        "    X_train_emb.append(bert_train[i:i+sequence_length])\n",
        "    y_train.append(scaled_train[i+1:i+sequence_length+1])\n",
        "    X_train.append(scaled_train[i:i+sequence_length])\n",
        "\n",
        "X_train, y_train = np.array(X_train), np.array(y_train)\n",
        "X_train_emb = np.array(X_train_emb)\n",
        "\n",
        "# Convert data to PyTorch tensors\n",
        "X_train = torch.tensor(X_train, dtype=torch.float32).float()\n",
        "y_train = torch.tensor(y_train, dtype=torch.float32).float()\n",
        "X_train_emb = torch.tensor(X_train_emb, dtype=torch.float32).float().squeeze()\n",
        "\n",
        "\n",
        "X_train.shape, X_train_emb.shape, y_train.shape\n"
      ]
    },
    {
      "cell_type": "code",
      "execution_count": 10,
      "id": "c6c8807b-96b2-46ff-8815-433045ae5a07",
      "metadata": {
        "id": "c6c8807b-96b2-46ff-8815-433045ae5a07"
      },
      "outputs": [],
      "source": [
        "X_train = torch.cat((X_train, X_train_emb), axis=2)"
      ]
    },
    {
      "cell_type": "code",
      "execution_count": 11,
      "id": "3d3e4288-db85-45e3-b4a0-bd3474ab8521",
      "metadata": {
        "colab": {
          "base_uri": "https://localhost:8080/"
        },
        "id": "3d3e4288-db85-45e3-b4a0-bd3474ab8521",
        "outputId": "8475d93d-76b1-48d7-860d-3e313cfbf592"
      },
      "outputs": [
        {
          "output_type": "execute_result",
          "data": {
            "text/plain": [
              "(torch.Size([367, 30, 1]),\n",
              " torch.Size([367, 30, 768]),\n",
              " torch.Size([367, 30, 1]))"
            ]
          },
          "metadata": {},
          "execution_count": 11
        }
      ],
      "source": [
        "# Create sequences and labels for testing data\n",
        "sequence_length = 30  # Number of time steps to look back\n",
        "X_test, y_test = [], []\n",
        "X_test_emb = []\n",
        "\n",
        "for i in range(len(scaled_test) - sequence_length):\n",
        "    X_test.append(scaled_test[i:i+sequence_length])\n",
        "    y_test.append(scaled_test[i+1:i+sequence_length+1])\n",
        "    X_test_emb.append(bert_test[i:i+sequence_length])\n",
        "\n",
        "X_test, X_test_emb, y_test = np.array(X_test), np.array(X_test_emb), np.array(y_test)\n",
        "\n",
        "# Convert data to PyTorch tensors\n",
        "X_test = torch.tensor(X_test, dtype=torch.float32)\n",
        "X_test_emb = torch.tensor(X_test_emb, dtype=torch.float32).squeeze()\n",
        "y_test = torch.tensor(y_test, dtype=torch.float32)\n",
        "X_test.shape, X_test_emb.shape, y_test.shape"
      ]
    },
    {
      "cell_type": "code",
      "execution_count": 12,
      "id": "062a73f4-7bf4-48f8-8222-548909c8a02d",
      "metadata": {
        "id": "062a73f4-7bf4-48f8-8222-548909c8a02d"
      },
      "outputs": [],
      "source": [
        "X_test = torch.cat((X_test, X_test_emb), axis=2)"
      ]
    },
    {
      "cell_type": "code",
      "execution_count": 23,
      "id": "0570af43-c6e8-4023-9bdb-a090073b3f92",
      "metadata": {
        "id": "0570af43-c6e8-4023-9bdb-a090073b3f92"
      },
      "outputs": [],
      "source": [
        "class LSTMModel(nn.Module):\n",
        "\t# input_size : number of features in input at each time step\n",
        "\t# hidden_size : Number of LSTM units\n",
        "\t# num_layers : number of LSTM layers\n",
        "    def __init__(self, input_size, hidden_size, num_layers):\n",
        "        super(LSTMModel, self).__init__() #initializes the parent class nn.Module\n",
        "        self.lstm = nn.LSTM(input_size, hidden_size, num_layers, batch_first=True)\n",
        "        self.linear = nn.Linear(64, 1)\n",
        "\n",
        "    def forward(self, p): # defines forward pass of the neural network\n",
        "        out, _ = self.lstm(p)\n",
        "        # last_out_bert = out_e[:, -1, :]\n",
        "        # last_out_price = out_p[:, -1, :]\n",
        "        # print(last_out_bert.shape, last_out_price.shape)\n",
        "        # out = torch.cat((last_out_bert, last_out_price), dim=1)\n",
        "\n",
        "        # print(out_e.shape, out_p.shape)\n",
        "        # combined = torch.cat((out_p, out_e), dim=2)  # Shape: (16, 50, 128)\n",
        "\n",
        "        # Flatten the tensor\n",
        "        # batch_size, sequence_length, combined_hidden_size = combined.size()\n",
        "        # flattened = combined.view(batch_size, -1)  # Shape: (16, 6400)\n",
        "\n",
        "\n",
        "        # combined = torch.cat((prices, news), dim=2)  # Shape: (16, 50, 128)\n",
        "        # print(out.shape)\n",
        "        out = self.linear(out)\n",
        "        # out = out.view(16, 50, 1)\n",
        "        # print(out.shape)\n",
        "        return out\n"
      ]
    },
    {
      "cell_type": "code",
      "execution_count": 24,
      "id": "c04a2224-c2d8-412b-af2e-81023934307f",
      "metadata": {
        "colab": {
          "base_uri": "https://localhost:8080/"
        },
        "id": "c04a2224-c2d8-412b-af2e-81023934307f",
        "outputId": "c626de16-09e0-4a7b-8e24-a422f5719cd4"
      },
      "outputs": [
        {
          "output_type": "stream",
          "name": "stdout",
          "text": [
            "cpu\n"
          ]
        }
      ],
      "source": [
        "device = torch.device('cuda' if torch.cuda.is_available() else 'cpu')\n",
        "print(device)\n"
      ]
    },
    {
      "cell_type": "code",
      "execution_count": 25,
      "id": "75af7bfc-aac8-48a6-ae33-8a79025b96c0",
      "metadata": {
        "colab": {
          "base_uri": "https://localhost:8080/"
        },
        "id": "75af7bfc-aac8-48a6-ae33-8a79025b96c0",
        "outputId": "855e2c58-20d9-4673-d531-8cbc9964d5ea"
      },
      "outputs": [
        {
          "output_type": "stream",
          "name": "stdout",
          "text": [
            "LSTMModel(\n",
            "  (lstm): LSTM(769, 64, num_layers=2, batch_first=True)\n",
            "  (linear): Linear(in_features=64, out_features=1, bias=True)\n",
            ")\n"
          ]
        }
      ],
      "source": [
        "input_size = 769\n",
        "# input_emb = 769\n",
        "num_layers = 2\n",
        "hidden_size = 64\n",
        "output_size = 1\n",
        "\n",
        "# Define the model, loss function, and optimizer\n",
        "model = LSTMModel(input_size, hidden_size, num_layers).to(device)\n",
        "\n",
        "loss_fn = torch.nn.MSELoss(reduction='mean')\n",
        "\n",
        "optimizer = torch.optim.Adam(model.parameters(), lr=1e-3)\n",
        "print(model)\n"
      ]
    },
    {
      "cell_type": "code",
      "execution_count": 26,
      "id": "a2a9234f-0b26-4632-8e99-6185f17d7a65",
      "metadata": {
        "colab": {
          "base_uri": "https://localhost:8080/"
        },
        "id": "a2a9234f-0b26-4632-8e99-6185f17d7a65",
        "outputId": "3d14d401-b382-4e9f-93e8-d6a42f50826d"
      },
      "outputs": [
        {
          "output_type": "execute_result",
          "data": {
            "text/plain": [
              "torch.Size([1542, 50, 769])"
            ]
          },
          "metadata": {},
          "execution_count": 26
        }
      ],
      "source": [
        "X_train.shape"
      ]
    },
    {
      "cell_type": "code",
      "execution_count": 26,
      "id": "3a926538-ab13-42f9-9a7f-c3ee52c97b6b",
      "metadata": {
        "id": "3a926538-ab13-42f9-9a7f-c3ee52c97b6b"
      },
      "outputs": [],
      "source": []
    },
    {
      "cell_type": "code",
      "execution_count": 27,
      "id": "77cad5d5-3175-428f-a1bb-b926d1584121",
      "metadata": {
        "id": "77cad5d5-3175-428f-a1bb-b926d1584121"
      },
      "outputs": [],
      "source": [
        "from torch.utils.data import TensorDataset, DataLoader\n",
        "\n",
        "\n",
        "batch_size = 16\n",
        "# Create DataLoader for batch training\n",
        "train_dataset = TensorDataset(X_train, y_train)\n",
        "train_loader = DataLoader(train_dataset, batch_size=batch_size, shuffle=True)\n",
        "\n",
        "# Create DataLoader for batch training\n",
        "test_dataset = TensorDataset(X_test, y_test)\n",
        "test_loader = DataLoader(test_dataset, batch_size=batch_size, shuffle=False)\n"
      ]
    },
    {
      "cell_type": "code",
      "execution_count": 28,
      "id": "9704ec1a-7ebe-4057-94e6-430fda55b025",
      "metadata": {
        "colab": {
          "base_uri": "https://localhost:8080/"
        },
        "id": "9704ec1a-7ebe-4057-94e6-430fda55b025",
        "outputId": "8b2acf64-be44-43fe-84db-7b0c37ecbea1"
      },
      "outputs": [
        {
          "output_type": "stream",
          "name": "stdout",
          "text": [
            "Epoch [10/50] - Training Loss: 0.0015, Test Loss: 0.0271\n",
            "Epoch [20/50] - Training Loss: 0.0003, Test Loss: 0.0185\n",
            "Epoch [30/50] - Training Loss: 0.0001, Test Loss: 0.0160\n",
            "Epoch [40/50] - Training Loss: 0.0001, Test Loss: 0.0149\n",
            "Epoch [50/50] - Training Loss: 0.0001, Test Loss: 0.0140\n"
          ]
        }
      ],
      "source": [
        "num_epochs = 50\n",
        "train_hist =[]\n",
        "test_hist =[]\n",
        "# Training loop\n",
        "for epoch in range(num_epochs):\n",
        "\ttotal_loss = 0.0\n",
        "\n",
        "\t# Training\n",
        "\tmodel.train()\n",
        "\tfor batch_price, batch_y in train_loader:\n",
        "\t\tbatch_price, batch_y = batch_price.to(device), batch_y.to(device)\n",
        "\t\tpredictions = model(batch_price)\n",
        "\t\tloss = loss_fn(predictions, batch_y)\n",
        "\n",
        "\t\toptimizer.zero_grad()\n",
        "\t\tloss.backward()\n",
        "\t\toptimizer.step()\n",
        "\n",
        "\t\ttotal_loss += loss.item()\n",
        "\n",
        "\t# Calculate average training loss and accuracy\n",
        "\taverage_loss = total_loss / len(train_loader)\n",
        "\ttrain_hist.append(average_loss)\n",
        "\n",
        "\t# Validation on test data\n",
        "\tmodel.eval()\n",
        "\twith torch.no_grad():\n",
        "\t\ttotal_test_loss = 0.0\n",
        "\n",
        "\t\tfor batch_price,  batch_y_test in test_loader:\n",
        "\t\t\tbatch_price, batch_y_test = batch_price.to(device), batch_y_test.to(device)\n",
        "\t\t\tpredictions_test = model(batch_price)\n",
        "\t\t\ttest_loss = loss_fn(predictions_test, batch_y_test)\n",
        "\n",
        "\t\t\ttotal_test_loss += test_loss.item()\n",
        "\n",
        "\t\t# Calculate average test loss and accuracy\n",
        "\t\taverage_test_loss = total_test_loss / len(test_loader)\n",
        "\t\ttest_hist.append(average_test_loss)\n",
        "\tif (epoch+1)%10==0:\n",
        "\t\tprint(f'Epoch [{epoch+1}/{num_epochs}] - Training Loss: {average_loss:.4f}, Test Loss: {average_test_loss:.4f}')\n"
      ]
    },
    {
      "cell_type": "code",
      "execution_count": 30,
      "id": "7d3a8f9b-495a-41de-abac-e6b75075cb46",
      "metadata": {
        "colab": {
          "base_uri": "https://localhost:8080/",
          "height": 430
        },
        "id": "7d3a8f9b-495a-41de-abac-e6b75075cb46",
        "outputId": "886b6fc7-8340-4e43-a2eb-fb214c558355"
      },
      "outputs": [
        {
          "output_type": "display_data",
          "data": {
            "text/plain": [
              "<Figure size 640x480 with 1 Axes>"
            ],
            "image/png": "[encoded data removed]"
          },
          "metadata": {}
        }
      ],
      "source": [
        "import matplotlib.pyplot as plt\n",
        "\n",
        "x = np.linspace(1,num_epochs,num_epochs)\n",
        "plt.plot(x,train_hist,scalex=True, label=\"Training loss\")\n",
        "plt.plot(x, test_hist, label=\"Test loss\")\n",
        "plt.legend()\n",
        "plt.show()\n"
      ]
    },
    {
      "cell_type": "code",
      "execution_count": 56,
      "id": "5171c79a-7236-4b58-baf5-a9331d2edf63",
      "metadata": {
        "id": "5171c79a-7236-4b58-baf5-a9331d2edf63"
      },
      "outputs": [],
      "source": [
        "### Lets Do the prediction and check performance metrics\n",
        "with torch.no_grad():\n",
        "    train_predict=model(X_train)\n",
        "    test_predict=model(X_test)\n"
      ]
    },
    {
      "cell_type": "code",
      "source": [
        "train_predict.shape"
      ],
      "metadata": {
        "colab": {
          "base_uri": "https://localhost:8080/"
        },
        "id": "dx6ZIL9IP_Xs",
        "outputId": "d03af3cb-11ff-4fa8-e829-8a57ef2daa77"
      },
      "id": "dx6ZIL9IP_Xs",
      "execution_count": 57,
      "outputs": [
        {
          "output_type": "execute_result",
          "data": {
            "text/plain": [
              "torch.Size([1542, 50, 1])"
            ]
          },
          "metadata": {},
          "execution_count": 57
        }
      ]
    },
    {
      "cell_type": "code",
      "source": [
        "train_predict = train_predict.squeeze()\n",
        "test_predict = test_predict.squeeze()\n"
      ],
      "metadata": {
        "id": "Q_iQpQCDRCG-"
      },
      "id": "Q_iQpQCDRCG-",
      "execution_count": 58,
      "outputs": []
    },
    {
      "cell_type": "code",
      "source": [
        "##Transformback to original form\n",
        "train_predict=scaler.inverse_transform(train_predict)\n",
        "test_predict=scaler.inverse_transform(test_predict)"
      ],
      "metadata": {
        "id": "ek_8IE2-PlZt"
      },
      "id": "ek_8IE2-PlZt",
      "execution_count": 60,
      "outputs": []
    },
    {
      "cell_type": "code",
      "source": [
        "y_train.shape"
      ],
      "metadata": {
        "colab": {
          "base_uri": "https://localhost:8080/"
        },
        "id": "DxqKimRaP087",
        "outputId": "89cfd342-5bbc-4ce2-e6f4-b06d84a37a97"
      },
      "id": "DxqKimRaP087",
      "execution_count": 35,
      "outputs": [
        {
          "output_type": "execute_result",
          "data": {
            "text/plain": [
              "torch.Size([1542, 50, 1])"
            ]
          },
          "metadata": {},
          "execution_count": 35
        }
      ]
    },
    {
      "cell_type": "code",
      "source": [
        "train_predict.shape"
      ],
      "metadata": {
        "colab": {
          "base_uri": "https://localhost:8080/"
        },
        "id": "GzgfDPysP3wS",
        "outputId": "a79c031a-988f-4f79-e288-ff2f1029f33e"
      },
      "id": "GzgfDPysP3wS",
      "execution_count": 36,
      "outputs": [
        {
          "output_type": "execute_result",
          "data": {
            "text/plain": [
              "(77100, 1)"
            ]
          },
          "metadata": {},
          "execution_count": 36
        }
      ]
    },
    {
      "cell_type": "code",
      "source": [
        "### Calculate RMSE performance metrics\n",
        "import math\n",
        "from sklearn.metrics import mean_squared_error\n",
        "\n",
        "t = scaler.inverse_transform(y_train.squeeze())\n",
        "\n",
        "math.sqrt(mean_squared_error(t,train_predict))"
      ],
      "metadata": {
        "colab": {
          "base_uri": "https://localhost:8080/"
        },
        "id": "1mOHZdERPm8v",
        "outputId": "649bd6b3-7038-4bdf-edde-12ab4a6e1507"
      },
      "id": "1mOHZdERPm8v",
      "execution_count": 63,
      "outputs": [
        {
          "output_type": "execute_result",
          "data": {
            "text/plain": [
              "24.4645595694855"
            ]
          },
          "metadata": {},
          "execution_count": 63
        }
      ]
    },
    {
      "cell_type": "code",
      "source": [
        "t"
      ],
      "metadata": {
        "colab": {
          "base_uri": "https://localhost:8080/"
        },
        "id": "5zH9Y0eqW5m3",
        "outputId": "5c3d2dc9-9834-4a9d-e437-990c326716a1"
      },
      "id": "5zH9Y0eqW5m3",
      "execution_count": 97,
      "outputs": [
        {
          "output_type": "execute_result",
          "data": {
            "text/plain": [
              "array([[16881.86239417, 16849.22071686, 16823.66610742, ...,\n",
              "        16227.74773442, 16198.10230392, 16294.52688071],\n",
              "       [16849.22071686, 16823.66610742, 16843.02745644, ...,\n",
              "        16198.10230392, 16294.52688071, 16240.44232164],\n",
              "       [16823.66610742, 16843.02745644, 16853.28829956, ...,\n",
              "        16294.52688071, 16240.44232164, 16120.3928679 ],\n",
              "       ...,\n",
              "       [18139.72217027, 18112.46388858, 18148.44509231, ...,\n",
              "        18292.58600819, 18292.70046107, 18280.69681989],\n",
              "       [18112.46388858, 18148.44509231, 18086.77885977, ...,\n",
              "        18292.70046107, 18280.69681989, 18304.67390819],\n",
              "       [18148.44509231, 18086.77885977, 18125.83068888, ...,\n",
              "        18280.69681989, 18304.67390819, 18312.390625  ]])"
            ]
          },
          "metadata": {},
          "execution_count": 97
        }
      ]
    },
    {
      "cell_type": "code",
      "source": [
        "train_predict"
      ],
      "metadata": {
        "colab": {
          "base_uri": "https://localhost:8080/"
        },
        "id": "fIjaXRnTXtBf",
        "outputId": "5a60e825-ce90-4233-d694-8c22f33bf337"
      },
      "id": "fIjaXRnTXtBf",
      "execution_count": 96,
      "outputs": [
        {
          "output_type": "execute_result",
          "data": {
            "text/plain": [
              "array([[16951.68110232, 16854.94921006, 16764.91534072, ...,\n",
              "        16263.73842319, 16222.30632193, 16327.38900629],\n",
              "       [16885.8104653 , 16885.85267375, 16829.29967112, ...,\n",
              "        16222.30521534, 16327.3878997 , 16259.27389134],\n",
              "       [16906.28267122, 16887.25282454, 16917.29512515, ...,\n",
              "        16327.38805779, 16259.27341709, 16147.51982122],\n",
              "       ...,\n",
              "       [18038.94830493, 18142.11335023, 18180.24734311, ...,\n",
              "        18289.30038845, 18282.29078178, 18264.96555585],\n",
              "       [18147.54543575, 18165.93077359, 18116.96723008, ...,\n",
              "        18282.28651351, 18264.96271034, 18194.62129714],\n",
              "       [18115.51095943, 18102.36184093, 18139.77686736, ...,\n",
              "        18264.9690337 , 18194.63236303, 18131.85211189]])"
            ]
          },
          "metadata": {},
          "execution_count": 96
        }
      ]
    },
    {
      "cell_type": "code",
      "source": [
        "### Plotting\n",
        "# shift train predictions for plotting\n",
        "look_back=50\n",
        "trainPredictPlot = np.empty_like(df)\n",
        "trainPredictPlot[:, :] = np.nan\n",
        "trainPredictPlot[look_back:len(train_predict) + look_back, :] = train_predict[:, -1].reshape(-1, 1)\n",
        "\n",
        "# testPredictPlot = np.empty_like(df)\n",
        "# testPredictPlot[:, :] = np.nan\n",
        "# testPredictPlot[len(train_predict)+(look_back*2)+1:len(df)-1, :] = test_predict[:, -1].reshape(-1, 1)\n",
        "\n",
        "\n",
        "plt.plot(t)\n",
        "plt.plot(trainPredictPlot)\n",
        "# plt.plot(testPredictPlot)\n"
      ],
      "metadata": {
        "colab": {
          "base_uri": "https://localhost:8080/",
          "height": 448
        },
        "id": "Due0xJDDUbgj",
        "outputId": "156909cc-f7fb-4db1-fbee-24bdd10b0b46"
      },
      "id": "Due0xJDDUbgj",
      "execution_count": 98,
      "outputs": [
        {
          "output_type": "execute_result",
          "data": {
            "text/plain": [
              "[<matplotlib.lines.Line2D at 0x7aef942c63b0>]"
            ]
          },
          "metadata": {},
          "execution_count": 98
        },
        {
          "output_type": "display_data",
          "data": {
            "text/plain": [
              "<Figure size 640x480 with 1 Axes>"
            ],
            "image/png": "[encoded data removed]"
          },
          "metadata": {}
        }
      ]
    },
    {
      "cell_type": "code",
      "source": [
        "test_predict"
      ],
      "metadata": {
        "colab": {
          "base_uri": "https://localhost:8080/"
        },
        "id": "4GkQ91r4YQXw",
        "outputId": "f95fc040-4d0f-4c72-c1b6-abe987753a8d"
      },
      "id": "4GkQ91r4YQXw",
      "execution_count": 99,
      "outputs": [
        {
          "output_type": "execute_result",
          "data": {
            "text/plain": [
              "array([[17732.50008179, 17795.09094819, 17887.99443899, ...,\n",
              "        17508.92997259, 17578.59352121, 17669.9191747 ],\n",
              "       [17820.83336153, 17883.59622341, 17867.57645591, ...,\n",
              "        17578.46942519, 17669.76061635, 17639.49083274],\n",
              "       [17870.58242489, 17755.99880763, 17596.42698749, ...,\n",
              "        17669.64173712, 17639.39598228, 17756.50641565],\n",
              "       ...,\n",
              "       [17412.11089695, 17227.86215023, 17453.97646479, ...,\n",
              "        17696.44679172, 17555.72128262, 17654.89881481],\n",
              "       [17119.84550418, 17415.50385579, 17478.85890068, ...,\n",
              "        17555.75037009, 17654.9267957 , 17559.25572672],\n",
              "       [17505.68988107, 17531.35673021, 17515.46896292, ...,\n",
              "        17654.59371252, 17558.95125676, 17715.4576683 ]])"
            ]
          },
          "metadata": {},
          "execution_count": 99
        }
      ]
    },
    {
      "cell_type": "code",
      "source": [
        "tt = scaler.inverse_transform(y_test.squeeze())\n",
        "tt.shape"
      ],
      "metadata": {
        "colab": {
          "base_uri": "https://localhost:8080/"
        },
        "id": "o1DZ48qVYLaq",
        "outputId": "890bce0e-23a8-4ea9-c6c4-841b0cb7abfc"
      },
      "id": "o1DZ48qVYLaq",
      "execution_count": 102,
      "outputs": [
        {
          "output_type": "execute_result",
          "data": {
            "text/plain": [
              "(367, 30)"
            ]
          },
          "metadata": {},
          "execution_count": 102
        }
      ]
    },
    {
      "cell_type": "code",
      "source": [
        "test_predict.shape"
      ],
      "metadata": {
        "colab": {
          "base_uri": "https://localhost:8080/"
        },
        "id": "9eo2e47nY4Ps",
        "outputId": "aef4fe2f-59be-4915-ab6e-214e90cc9186"
      },
      "id": "9eo2e47nY4Ps",
      "execution_count": 105,
      "outputs": [
        {
          "output_type": "execute_result",
          "data": {
            "text/plain": [
              "(367, 30)"
            ]
          },
          "metadata": {},
          "execution_count": 105
        }
      ]
    },
    {
      "cell_type": "code",
      "source": [
        "plt.plot(test_predict[:, -1])\n",
        "plt.plot(tt[:, -1])\n",
        "plt.show()"
      ],
      "metadata": {
        "colab": {
          "base_uri": "https://localhost:8080/",
          "height": 430
        },
        "id": "4Qf5fWNQYm2h",
        "outputId": "b64a302c-b9ff-44d9-85a6-7c5dbcacdaff"
      },
      "id": "4Qf5fWNQYm2h",
      "execution_count": 106,
      "outputs": [
        {
          "output_type": "display_data",
          "data": {
            "text/plain": [
              "<Figure size 640x480 with 1 Axes>"
            ],
            "image/png": "[encoded data removed]"
          },
          "metadata": {}
        }
      ]
    },
    {
      "cell_type": "code",
      "source": [
        "### Plotting\n",
        "# shift train predictions for plotting\n",
        "look_back=0\n",
        "trainPredictPlot = np.empty_like(df)\n",
        "trainPredictPlot[:, :] = np.nan\n",
        "trainPredictPlot[look_back:len(train_predict[:, -1])+look_back, :] = train_predict\n",
        "# shift test predictions for plotting\n",
        "testPredictPlot = np.empty_like(df)\n",
        "testPredictPlot[:, :] = np.nan\n",
        "testPredictPlot[len(train_predict)+(look_back*2)+1:len(df)-1, :] = test_predict\n",
        "# plot baseline and predictions\n",
        "plt.plot(scaler.inverse_transform(df))\n",
        "plt.plot(trainPredictPlot)\n",
        "plt.plot(testPredictPlot)\n",
        "plt.show()"
      ],
      "metadata": {
        "colab": {
          "base_uri": "https://localhost:8080/",
          "height": 216
        },
        "id": "aOOVYxgFRsWk",
        "outputId": "f04a4491-6b15-4af2-a6b1-903b175b51e5"
      },
      "id": "aOOVYxgFRsWk",
      "execution_count": 78,
      "outputs": [
        {
          "output_type": "error",
          "ename": "ValueError",
          "evalue": "could not broadcast input array from shape (1542,50) into shape (1542,1)",
          "traceback": [
            "\u001b[0;31m---------------------------------------------------------------------------\u001b[0m",
            "\u001b[0;31mValueError\u001b[0m                                Traceback (most recent call last)",
            "\u001b[0;32m<ipython-input-78-205bfdef7c2a>\u001b[0m in \u001b[0;36m<cell line: 6>\u001b[0;34m()\u001b[0m\n\u001b[1;32m      4\u001b[0m \u001b[0mtrainPredictPlot\u001b[0m \u001b[0;34m=\u001b[0m \u001b[0mnp\u001b[0m\u001b[0;34m.\u001b[0m\u001b[0mempty_like\u001b[0m\u001b[0;34m(\u001b[0m\u001b[0mdf\u001b[0m\u001b[0;34m)\u001b[0m\u001b[0;34m\u001b[0m\u001b[0;34m\u001b[0m\u001b[0m\n\u001b[1;32m      5\u001b[0m \u001b[0mtrainPredictPlot\u001b[0m\u001b[0;34m[\u001b[0m\u001b[0;34m:\u001b[0m\u001b[0;34m,\u001b[0m \u001b[0;34m:\u001b[0m\u001b[0;34m]\u001b[0m \u001b[0;34m=\u001b[0m \u001b[0mnp\u001b[0m\u001b[0;34m.\u001b[0m\u001b[0mnan\u001b[0m\u001b[0;34m\u001b[0m\u001b[0;34m\u001b[0m\u001b[0m\n\u001b[0;32m----> 6\u001b[0;31m \u001b[0mtrainPredictPlot\u001b[0m\u001b[0;34m[\u001b[0m\u001b[0mlook_back\u001b[0m\u001b[0;34m:\u001b[0m\u001b[0mlen\u001b[0m\u001b[0;34m(\u001b[0m\u001b[0mtrain_predict\u001b[0m\u001b[0;34m[\u001b[0m\u001b[0;34m:\u001b[0m\u001b[0;34m,\u001b[0m \u001b[0;34m-\u001b[0m\u001b[0;36m1\u001b[0m\u001b[0;34m]\u001b[0m\u001b[0;34m)\u001b[0m\u001b[0;34m+\u001b[0m\u001b[0mlook_back\u001b[0m\u001b[0;34m,\u001b[0m \u001b[0;34m:\u001b[0m\u001b[0;34m]\u001b[0m \u001b[0;34m=\u001b[0m \u001b[0mtrain_predict\u001b[0m\u001b[0;34m\u001b[0m\u001b[0;34m\u001b[0m\u001b[0m\n\u001b[0m\u001b[1;32m      7\u001b[0m \u001b[0;31m# shift test predictions for plotting\u001b[0m\u001b[0;34m\u001b[0m\u001b[0;34m\u001b[0m\u001b[0m\n\u001b[1;32m      8\u001b[0m \u001b[0mtestPredictPlot\u001b[0m \u001b[0;34m=\u001b[0m \u001b[0mnp\u001b[0m\u001b[0;34m.\u001b[0m\u001b[0mempty_like\u001b[0m\u001b[0;34m(\u001b[0m\u001b[0mdf\u001b[0m\u001b[0;34m)\u001b[0m\u001b[0;34m\u001b[0m\u001b[0;34m\u001b[0m\u001b[0m\n",
            "\u001b[0;31mValueError\u001b[0m: could not broadcast input array from shape (1542,50) into shape (1542,1)"
          ]
        }
      ]
    },
    {
      "cell_type": "code",
      "source": [],
      "metadata": {
        "id": "uDQWmxwgXT2w"
      },
      "id": "uDQWmxwgXT2w",
      "execution_count": null,
      "outputs": []
    },
    {
      "cell_type": "code",
      "source": [
        "import matplotlib.pyplot as plt\n",
        "\n",
        "# Reshape the outputs and true values\n",
        "train_predict = train_predict.reshape(-1, 1)\n",
        "y_true = y_true.reshape(-1, 1)\n",
        "\n",
        "# Plotting\n",
        "plt.figure(figsize=(10, 6))\n",
        "plt.plot(y_true, label='True Values', color='blue')\n",
        "plt.plot(y_pred, label='Predicted Values', color='red')\n",
        "plt.title('Predicted vs True Values')\n",
        "plt.xlabel('Time Step')\n",
        "plt.ylabel('Stock Price')\n",
        "plt.legend()\n",
        "plt.show()\n"
      ],
      "metadata": {
        "id": "x2tLdF-tUGCy"
      },
      "id": "x2tLdF-tUGCy",
      "execution_count": null,
      "outputs": []
    }
  ],
  "metadata": {
    "kernelspec": {
      "display_name": "Python 3 (ipykernel)",
      "language": "python",
      "name": "python3"
    },
    "language_info": {
      "codemirror_mode": {
        "name": "ipython",
        "version": 3
      },
      "file_extension": ".py",
      "mimetype": "text/x-python",
      "name": "python",
      "nbconvert_exporter": "python",
      "pygments_lexer": "ipython3",
      "version": "3.8.3"
    },
    "colab": {
      "provenance": []
    },
    "widgets": {
      "application/vnd.jupyter.widget-state+json": {
        "6adc05ccde1b4f80b80585c5a6a6d2b0": {
          "model_module": "@jupyter-widgets/controls",
          "model_name": "HBoxModel",
          "model_module_version": "1.5.0",
          "state": {
            "_dom_classes": [],
            "_model_module": "@jupyter-widgets/controls",
            "_model_module_version": "1.5.0",
            "_model_name": "HBoxModel",
            "_view_count": null,
            "_view_module": "@jupyter-widgets/controls",
            "_view_module_version": "1.5.0",
            "_view_name": "HBoxView",
            "box_style": "",
            "children": [
              "IPY_MODEL_42c08cdd087c423e8f59695266620168",
              "IPY_MODEL_80e5393600554db999334b1931ba1c1f",
              "IPY_MODEL_49c20c9be31e472298b36eb2af92514c"
            ],
            "layout": "IPY_MODEL_dd03540299354d55806f77f36d76b1c9"
          }
        },
        "42c08cdd087c423e8f59695266620168": {
          "model_module": "@jupyter-widgets/controls",
          "model_name": "HTMLModel",
          "model_module_version": "1.5.0",
          "state": {
            "_dom_classes": [],
            "_model_module": "@jupyter-widgets/controls",
            "_model_module_version": "1.5.0",
            "_model_name": "HTMLModel",
            "_view_count": null,
            "_view_module": "@jupyter-widgets/controls",
            "_view_module_version": "1.5.0",
            "_view_name": "HTMLView",
            "description": "",
            "description_tooltip": null,
            "layout": "IPY_MODEL_84f5540e28a14656b9a6ac63d5b8c9a2",
            "placeholder": "​",
            "style": "IPY_MODEL_a7808fe4d14846ed8f0ef2121336e3ed",
            "value": "tokenizer_config.json: 100%"
          }
        },
        "80e5393600554db999334b1931ba1c1f": {
          "model_module": "@jupyter-widgets/controls",
          "model_name": "FloatProgressModel",
          "model_module_version": "1.5.0",
          "state": {
            "_dom_classes": [],
            "_model_module": "@jupyter-widgets/controls",
            "_model_module_version": "1.5.0",
            "_model_name": "FloatProgressModel",
            "_view_count": null,
            "_view_module": "@jupyter-widgets/controls",
            "_view_module_version": "1.5.0",
            "_view_name": "ProgressView",
            "bar_style": "success",
            "description": "",
            "description_tooltip": null,
            "layout": "IPY_MODEL_cde13d2dc6064ac6af110e8d9b080e5b",
            "max": 48,
            "min": 0,
            "orientation": "horizontal",
            "style": "IPY_MODEL_d82a6e0888664ad982195efbc49be2ac",
            "value": 48
          }
        },
        "49c20c9be31e472298b36eb2af92514c": {
          "model_module": "@jupyter-widgets/controls",
          "model_name": "HTMLModel",
          "model_module_version": "1.5.0",
          "state": {
            "_dom_classes": [],
            "_model_module": "@jupyter-widgets/controls",
            "_model_module_version": "1.5.0",
            "_model_name": "HTMLModel",
            "_view_count": null,
            "_view_module": "@jupyter-widgets/controls",
            "_view_module_version": "1.5.0",
            "_view_name": "HTMLView",
            "description": "",
            "description_tooltip": null,
            "layout": "IPY_MODEL_45d72765340944dc886a9c0691597338",
            "placeholder": "​",
            "style": "IPY_MODEL_ea91f88d91304f9eafb8e65f8100ad0f",
            "value": " 48.0/48.0 [00:00&lt;00:00, 1.63kB/s]"
          }
        },
        "dd03540299354d55806f77f36d76b1c9": {
          "model_module": "@jupyter-widgets/base",
          "model_name": "LayoutModel",
          "model_module_version": "1.2.0",
          "state": {
            "_model_module": "@jupyter-widgets/base",
            "_model_module_version": "1.2.0",
            "_model_name": "LayoutModel",
            "_view_count": null,
            "_view_module": "@jupyter-widgets/base",
            "_view_module_version": "1.2.0",
            "_view_name": "LayoutView",
            "align_content": null,
            "align_items": null,
            "align_self": null,
            "border": null,
            "bottom": null,
            "display": null,
            "flex": null,
            "flex_flow": null,
            "grid_area": null,
            "grid_auto_columns": null,
            "grid_auto_flow": null,
            "grid_auto_rows": null,
            "grid_column": null,
            "grid_gap": null,
            "grid_row": null,
            "grid_template_areas": null,
            "grid_template_columns": null,
            "grid_template_rows": null,
            "height": null,
            "justify_content": null,
            "justify_items": null,
            "left": null,
            "margin": null,
            "max_height": null,
            "max_width": null,
            "min_height": null,
            "min_width": null,
            "object_fit": null,
            "object_position": null,
            "order": null,
            "overflow": null,
            "overflow_x": null,
            "overflow_y": null,
            "padding": null,
            "right": null,
            "top": null,
            "visibility": null,
            "width": null
          }
        },
        "84f5540e28a14656b9a6ac63d5b8c9a2": {
          "model_module": "@jupyter-widgets/base",
          "model_name": "LayoutModel",
          "model_module_version": "1.2.0",
          "state": {
            "_model_module": "@jupyter-widgets/base",
            "_model_module_version": "1.2.0",
            "_model_name": "LayoutModel",
            "_view_count": null,
            "_view_module": "@jupyter-widgets/base",
            "_view_module_version": "1.2.0",
            "_view_name": "LayoutView",
            "align_content": null,
            "align_items": null,
            "align_self": null,
            "border": null,
            "bottom": null,
            "display": null,
            "flex": null,
            "flex_flow": null,
            "grid_area": null,
            "grid_auto_columns": null,
            "grid_auto_flow": null,
            "grid_auto_rows": null,
            "grid_column": null,
            "grid_gap": null,
            "grid_row": null,
            "grid_template_areas": null,
            "grid_template_columns": null,
            "grid_template_rows": null,
            "height": null,
            "justify_content": null,
            "justify_items": null,
            "left": null,
            "margin": null,
            "max_height": null,
            "max_width": null,
            "min_height": null,
            "min_width": null,
            "object_fit": null,
            "object_position": null,
            "order": null,
            "overflow": null,
            "overflow_x": null,
            "overflow_y": null,
            "padding": null,
            "right": null,
            "top": null,
            "visibility": null,
            "width": null
          }
        },
        "a7808fe4d14846ed8f0ef2121336e3ed": {
          "model_module": "@jupyter-widgets/controls",
          "model_name": "DescriptionStyleModel",
          "model_module_version": "1.5.0",
          "state": {
            "_model_module": "@jupyter-widgets/controls",
            "_model_module_version": "1.5.0",
            "_model_name": "DescriptionStyleModel",
            "_view_count": null,
            "_view_module": "@jupyter-widgets/base",
            "_view_module_version": "1.2.0",
            "_view_name": "StyleView",
            "description_width": ""
          }
        },
        "cde13d2dc6064ac6af110e8d9b080e5b": {
          "model_module": "@jupyter-widgets/base",
          "model_name": "LayoutModel",
          "model_module_version": "1.2.0",
          "state": {
            "_model_module": "@jupyter-widgets/base",
            "_model_module_version": "1.2.0",
            "_model_name": "LayoutModel",
            "_view_count": null,
            "_view_module": "@jupyter-widgets/base",
            "_view_module_version": "1.2.0",
            "_view_name": "LayoutView",
            "align_content": null,
            "align_items": null,
            "align_self": null,
            "border": null,
            "bottom": null,
            "display": null,
            "flex": null,
            "flex_flow": null,
            "grid_area": null,
            "grid_auto_columns": null,
            "grid_auto_flow": null,
            "grid_auto_rows": null,
            "grid_column": null,
            "grid_gap": null,
            "grid_row": null,
            "grid_template_areas": null,
            "grid_template_columns": null,
            "grid_template_rows": null,
            "height": null,
            "justify_content": null,
            "justify_items": null,
            "left": null,
            "margin": null,
            "max_height": null,
            "max_width": null,
            "min_height": null,
            "min_width": null,
            "object_fit": null,
            "object_position": null,
            "order": null,
            "overflow": null,
            "overflow_x": null,
            "overflow_y": null,
            "padding": null,
            "right": null,
            "top": null,
            "visibility": null,
            "width": null
          }
        },
        "d82a6e0888664ad982195efbc49be2ac": {
          "model_module": "@jupyter-widgets/controls",
          "model_name": "ProgressStyleModel",
          "model_module_version": "1.5.0",
          "state": {
            "_model_module": "@jupyter-widgets/controls",
            "_model_module_version": "1.5.0",
            "_model_name": "ProgressStyleModel",
            "_view_count": null,
            "_view_module": "@jupyter-widgets/base",
            "_view_module_version": "1.2.0",
            "_view_name": "StyleView",
            "bar_color": null,
            "description_width": ""
          }
        },
        "45d72765340944dc886a9c0691597338": {
          "model_module": "@jupyter-widgets/base",
          "model_name": "LayoutModel",
          "model_module_version": "1.2.0",
          "state": {
            "_model_module": "@jupyter-widgets/base",
            "_model_module_version": "1.2.0",
            "_model_name": "LayoutModel",
            "_view_count": null,
            "_view_module": "@jupyter-widgets/base",
            "_view_module_version": "1.2.0",
            "_view_name": "LayoutView",
            "align_content": null,
            "align_items": null,
            "align_self": null,
            "border": null,
            "bottom": null,
            "display": null,
            "flex": null,
            "flex_flow": null,
            "grid_area": null,
            "grid_auto_columns": null,
            "grid_auto_flow": null,
            "grid_auto_rows": null,
            "grid_column": null,
            "grid_gap": null,
            "grid_row": null,
            "grid_template_areas": null,
            "grid_template_columns": null,
            "grid_template_rows": null,
            "height": null,
            "justify_content": null,
            "justify_items": null,
            "left": null,
            "margin": null,
            "max_height": null,
            "max_width": null,
            "min_height": null,
            "min_width": null,
            "object_fit": null,
            "object_position": null,
            "order": null,
            "overflow": null,
            "overflow_x": null,
            "overflow_y": null,
            "padding": null,
            "right": null,
            "top": null,
            "visibility": null,
            "width": null
          }
        },
        "ea91f88d91304f9eafb8e65f8100ad0f": {
          "model_module": "@jupyter-widgets/controls",
          "model_name": "DescriptionStyleModel",
          "model_module_version": "1.5.0",
          "state": {
            "_model_module": "@jupyter-widgets/controls",
            "_model_module_version": "1.5.0",
            "_model_name": "DescriptionStyleModel",
            "_view_count": null,
            "_view_module": "@jupyter-widgets/base",
            "_view_module_version": "1.2.0",
            "_view_name": "StyleView",
            "description_width": ""
          }
        },
        "a5efa755a71f4e9ab6093dc86b7ca222": {
          "model_module": "@jupyter-widgets/controls",
          "model_name": "HBoxModel",
          "model_module_version": "1.5.0",
          "state": {
            "_dom_classes": [],
            "_model_module": "@jupyter-widgets/controls",
            "_model_module_version": "1.5.0",
            "_model_name": "HBoxModel",
            "_view_count": null,
            "_view_module": "@jupyter-widgets/controls",
            "_view_module_version": "1.5.0",
            "_view_name": "HBoxView",
            "box_style": "",
            "children": [
              "IPY_MODEL_4b45b3a3a2294ea6a7dab54ea7a40b10",
              "IPY_MODEL_ad3d50ceadc640d298cbeabf5a538824",
              "IPY_MODEL_662c82ce6bb7453c818608b30aecfdba"
            ],
            "layout": "IPY_MODEL_3e92c4adb46d440e99ef37015ea6c95f"
          }
        },
        "4b45b3a3a2294ea6a7dab54ea7a40b10": {
          "model_module": "@jupyter-widgets/controls",
          "model_name": "HTMLModel",
          "model_module_version": "1.5.0",
          "state": {
            "_dom_classes": [],
            "_model_module": "@jupyter-widgets/controls",
            "_model_module_version": "1.5.0",
            "_model_name": "HTMLModel",
            "_view_count": null,
            "_view_module": "@jupyter-widgets/controls",
            "_view_module_version": "1.5.0",
            "_view_name": "HTMLView",
            "description": "",
            "description_tooltip": null,
            "layout": "IPY_MODEL_2ecf6773a95f4177a9729a16a1a0e1cd",
            "placeholder": "​",
            "style": "IPY_MODEL_101f3b1181e54fef9ec5b29317f2e6bd",
            "value": "vocab.txt: 100%"
          }
        },
        "ad3d50ceadc640d298cbeabf5a538824": {
          "model_module": "@jupyter-widgets/controls",
          "model_name": "FloatProgressModel",
          "model_module_version": "1.5.0",
          "state": {
            "_dom_classes": [],
            "_model_module": "@jupyter-widgets/controls",
            "_model_module_version": "1.5.0",
            "_model_name": "FloatProgressModel",
            "_view_count": null,
            "_view_module": "@jupyter-widgets/controls",
            "_view_module_version": "1.5.0",
            "_view_name": "ProgressView",
            "bar_style": "success",
            "description": "",
            "description_tooltip": null,
            "layout": "IPY_MODEL_32a81cd7a6a54902942b5dca4f994498",
            "max": 231508,
            "min": 0,
            "orientation": "horizontal",
            "style": "IPY_MODEL_e6e4a698f35542c8b453d53b7ad1b302",
            "value": 231508
          }
        },
        "662c82ce6bb7453c818608b30aecfdba": {
          "model_module": "@jupyter-widgets/controls",
          "model_name": "HTMLModel",
          "model_module_version": "1.5.0",
          "state": {
            "_dom_classes": [],
            "_model_module": "@jupyter-widgets/controls",
            "_model_module_version": "1.5.0",
            "_model_name": "HTMLModel",
            "_view_count": null,
            "_view_module": "@jupyter-widgets/controls",
            "_view_module_version": "1.5.0",
            "_view_name": "HTMLView",
            "description": "",
            "description_tooltip": null,
            "layout": "IPY_MODEL_8e17becdf2234e3aac435ce22a2b1fa8",
            "placeholder": "​",
            "style": "IPY_MODEL_6779153d270d48cd89fc163b39fe4080",
            "value": " 232k/232k [00:00&lt;00:00, 3.05MB/s]"
          }
        },
        "3e92c4adb46d440e99ef37015ea6c95f": {
          "model_module": "@jupyter-widgets/base",
          "model_name": "LayoutModel",
          "model_module_version": "1.2.0",
          "state": {
            "_model_module": "@jupyter-widgets/base",
            "_model_module_version": "1.2.0",
            "_model_name": "LayoutModel",
            "_view_count": null,
            "_view_module": "@jupyter-widgets/base",
            "_view_module_version": "1.2.0",
            "_view_name": "LayoutView",
            "align_content": null,
            "align_items": null,
            "align_self": null,
            "border": null,
            "bottom": null,
            "display": null,
            "flex": null,
            "flex_flow": null,
            "grid_area": null,
            "grid_auto_columns": null,
            "grid_auto_flow": null,
            "grid_auto_rows": null,
            "grid_column": null,
            "grid_gap": null,
            "grid_row": null,
            "grid_template_areas": null,
            "grid_template_columns": null,
            "grid_template_rows": null,
            "height": null,
            "justify_content": null,
            "justify_items": null,
            "left": null,
            "margin": null,
            "max_height": null,
            "max_width": null,
            "min_height": null,
            "min_width": null,
            "object_fit": null,
            "object_position": null,
            "order": null,
            "overflow": null,
            "overflow_x": null,
            "overflow_y": null,
            "padding": null,
            "right": null,
            "top": null,
            "visibility": null,
            "width": null
          }
        },
        "2ecf6773a95f4177a9729a16a1a0e1cd": {
          "model_module": "@jupyter-widgets/base",
          "model_name": "LayoutModel",
          "model_module_version": "1.2.0",
          "state": {
            "_model_module": "@jupyter-widgets/base",
            "_model_module_version": "1.2.0",
            "_model_name": "LayoutModel",
            "_view_count": null,
            "_view_module": "@jupyter-widgets/base",
            "_view_module_version": "1.2.0",
            "_view_name": "LayoutView",
            "align_content": null,
            "align_items": null,
            "align_self": null,
            "border": null,
            "bottom": null,
            "display": null,
            "flex": null,
            "flex_flow": null,
            "grid_area": null,
            "grid_auto_columns": null,
            "grid_auto_flow": null,
            "grid_auto_rows": null,
            "grid_column": null,
            "grid_gap": null,
            "grid_row": null,
            "grid_template_areas": null,
            "grid_template_columns": null,
            "grid_template_rows": null,
            "height": null,
            "justify_content": null,
            "justify_items": null,
            "left": null,
            "margin": null,
            "max_height": null,
            "max_width": null,
            "min_height": null,
            "min_width": null,
            "object_fit": null,
            "object_position": null,
            "order": null,
            "overflow": null,
            "overflow_x": null,
            "overflow_y": null,
            "padding": null,
            "right": null,
            "top": null,
            "visibility": null,
            "width": null
          }
        },
        "101f3b1181e54fef9ec5b29317f2e6bd": {
          "model_module": "@jupyter-widgets/controls",
          "model_name": "DescriptionStyleModel",
          "model_module_version": "1.5.0",
          "state": {
            "_model_module": "@jupyter-widgets/controls",
            "_model_module_version": "1.5.0",
            "_model_name": "DescriptionStyleModel",
            "_view_count": null,
            "_view_module": "@jupyter-widgets/base",
            "_view_module_version": "1.2.0",
            "_view_name": "StyleView",
            "description_width": ""
          }
        },
        "32a81cd7a6a54902942b5dca4f994498": {
          "model_module": "@jupyter-widgets/base",
          "model_name": "LayoutModel",
          "model_module_version": "1.2.0",
          "state": {
            "_model_module": "@jupyter-widgets/base",
            "_model_module_version": "1.2.0",
            "_model_name": "LayoutModel",
            "_view_count": null,
            "_view_module": "@jupyter-widgets/base",
            "_view_module_version": "1.2.0",
            "_view_name": "LayoutView",
            "align_content": null,
            "align_items": null,
            "align_self": null,
            "border": null,
            "bottom": null,
            "display": null,
            "flex": null,
            "flex_flow": null,
            "grid_area": null,
            "grid_auto_columns": null,
            "grid_auto_flow": null,
            "grid_auto_rows": null,
            "grid_column": null,
            "grid_gap": null,
            "grid_row": null,
            "grid_template_areas": null,
            "grid_template_columns": null,
            "grid_template_rows": null,
            "height": null,
            "justify_content": null,
            "justify_items": null,
            "left": null,
            "margin": null,
            "max_height": null,
            "max_width": null,
            "min_height": null,
            "min_width": null,
            "object_fit": null,
            "object_position": null,
            "order": null,
            "overflow": null,
            "overflow_x": null,
            "overflow_y": null,
            "padding": null,
            "right": null,
            "top": null,
            "visibility": null,
            "width": null
          }
        },
        "e6e4a698f35542c8b453d53b7ad1b302": {
          "model_module": "@jupyter-widgets/controls",
          "model_name": "ProgressStyleModel",
          "model_module_version": "1.5.0",
          "state": {
            "_model_module": "@jupyter-widgets/controls",
            "_model_module_version": "1.5.0",
            "_model_name": "ProgressStyleModel",
            "_view_count": null,
            "_view_module": "@jupyter-widgets/base",
            "_view_module_version": "1.2.0",
            "_view_name": "StyleView",
            "bar_color": null,
            "description_width": ""
          }
        },
        "8e17becdf2234e3aac435ce22a2b1fa8": {
          "model_module": "@jupyter-widgets/base",
          "model_name": "LayoutModel",
          "model_module_version": "1.2.0",
          "state": {
            "_model_module": "@jupyter-widgets/base",
            "_model_module_version": "1.2.0",
            "_model_name": "LayoutModel",
            "_view_count": null,
            "_view_module": "@jupyter-widgets/base",
            "_view_module_version": "1.2.0",
            "_view_name": "LayoutView",
            "align_content": null,
            "align_items": null,
            "align_self": null,
            "border": null,
            "bottom": null,
            "display": null,
            "flex": null,
            "flex_flow": null,
            "grid_area": null,
            "grid_auto_columns": null,
            "grid_auto_flow": null,
            "grid_auto_rows": null,
            "grid_column": null,
            "grid_gap": null,
            "grid_row": null,
            "grid_template_areas": null,
            "grid_template_columns": null,
            "grid_template_rows": null,
            "height": null,
            "justify_content": null,
            "justify_items": null,
            "left": null,
            "margin": null,
            "max_height": null,
            "max_width": null,
            "min_height": null,
            "min_width": null,
            "object_fit": null,
            "object_position": null,
            "order": null,
            "overflow": null,
            "overflow_x": null,
            "overflow_y": null,
            "padding": null,
            "right": null,
            "top": null,
            "visibility": null,
            "width": null
          }
        },
        "6779153d270d48cd89fc163b39fe4080": {
          "model_module": "@jupyter-widgets/controls",
          "model_name": "DescriptionStyleModel",
          "model_module_version": "1.5.0",
          "state": {
            "_model_module": "@jupyter-widgets/controls",
            "_model_module_version": "1.5.0",
            "_model_name": "DescriptionStyleModel",
            "_view_count": null,
            "_view_module": "@jupyter-widgets/base",
            "_view_module_version": "1.2.0",
            "_view_name": "StyleView",
            "description_width": ""
          }
        },
        "fa4e71d154ee4ae4bfec697c982874ce": {
          "model_module": "@jupyter-widgets/controls",
          "model_name": "HBoxModel",
          "model_module_version": "1.5.0",
          "state": {
            "_dom_classes": [],
            "_model_module": "@jupyter-widgets/controls",
            "_model_module_version": "1.5.0",
            "_model_name": "HBoxModel",
            "_view_count": null,
            "_view_module": "@jupyter-widgets/controls",
            "_view_module_version": "1.5.0",
            "_view_name": "HBoxView",
            "box_style": "",
            "children": [
              "IPY_MODEL_ac3b71914a0c4d7f9233b78d0ab8b899",
              "IPY_MODEL_53e051f2523e433cbf08011d2a411298",
              "IPY_MODEL_d7ac3c3028394bdb9adea356c21bb178"
            ],
            "layout": "IPY_MODEL_8d934708d7d94818b1ee729d244c26c0"
          }
        },
        "ac3b71914a0c4d7f9233b78d0ab8b899": {
          "model_module": "@jupyter-widgets/controls",
          "model_name": "HTMLModel",
          "model_module_version": "1.5.0",
          "state": {
            "_dom_classes": [],
            "_model_module": "@jupyter-widgets/controls",
            "_model_module_version": "1.5.0",
            "_model_name": "HTMLModel",
            "_view_count": null,
            "_view_module": "@jupyter-widgets/controls",
            "_view_module_version": "1.5.0",
            "_view_name": "HTMLView",
            "description": "",
            "description_tooltip": null,
            "layout": "IPY_MODEL_c50a9830869d436b9b14a70d12397b70",
            "placeholder": "​",
            "style": "IPY_MODEL_b362ca5bdec24f8d95241d2bc1f786bd",
            "value": "tokenizer.json: 100%"
          }
        },
        "53e051f2523e433cbf08011d2a411298": {
          "model_module": "@jupyter-widgets/controls",
          "model_name": "FloatProgressModel",
          "model_module_version": "1.5.0",
          "state": {
            "_dom_classes": [],
            "_model_module": "@jupyter-widgets/controls",
            "_model_module_version": "1.5.0",
            "_model_name": "FloatProgressModel",
            "_view_count": null,
            "_view_module": "@jupyter-widgets/controls",
            "_view_module_version": "1.5.0",
            "_view_name": "ProgressView",
            "bar_style": "success",
            "description": "",
            "description_tooltip": null,
            "layout": "IPY_MODEL_7a7b44cef7fd4ee3bce23738676b7438",
            "max": 466062,
            "min": 0,
            "orientation": "horizontal",
            "style": "IPY_MODEL_0acf15bb785e4a60b8d1499b61878f3e",
            "value": 466062
          }
        },
        "d7ac3c3028394bdb9adea356c21bb178": {
          "model_module": "@jupyter-widgets/controls",
          "model_name": "HTMLModel",
          "model_module_version": "1.5.0",
          "state": {
            "_dom_classes": [],
            "_model_module": "@jupyter-widgets/controls",
            "_model_module_version": "1.5.0",
            "_model_name": "HTMLModel",
            "_view_count": null,
            "_view_module": "@jupyter-widgets/controls",
            "_view_module_version": "1.5.0",
            "_view_name": "HTMLView",
            "description": "",
            "description_tooltip": null,
            "layout": "IPY_MODEL_21667e496e1548058b8155bb6540e205",
            "placeholder": "​",
            "style": "IPY_MODEL_33c971213be34823b6fc6befecdcf9c2",
            "value": " 466k/466k [00:00&lt;00:00, 8.31MB/s]"
          }
        },
        "8d934708d7d94818b1ee729d244c26c0": {
          "model_module": "@jupyter-widgets/base",
          "model_name": "LayoutModel",
          "model_module_version": "1.2.0",
          "state": {
            "_model_module": "@jupyter-widgets/base",
            "_model_module_version": "1.2.0",
            "_model_name": "LayoutModel",
            "_view_count": null,
            "_view_module": "@jupyter-widgets/base",
            "_view_module_version": "1.2.0",
            "_view_name": "LayoutView",
            "align_content": null,
            "align_items": null,
            "align_self": null,
            "border": null,
            "bottom": null,
            "display": null,
            "flex": null,
            "flex_flow": null,
            "grid_area": null,
            "grid_auto_columns": null,
            "grid_auto_flow": null,
            "grid_auto_rows": null,
            "grid_column": null,
            "grid_gap": null,
            "grid_row": null,
            "grid_template_areas": null,
            "grid_template_columns": null,
            "grid_template_rows": null,
            "height": null,
            "justify_content": null,
            "justify_items": null,
            "left": null,
            "margin": null,
            "max_height": null,
            "max_width": null,
            "min_height": null,
            "min_width": null,
            "object_fit": null,
            "object_position": null,
            "order": null,
            "overflow": null,
            "overflow_x": null,
            "overflow_y": null,
            "padding": null,
            "right": null,
            "top": null,
            "visibility": null,
            "width": null
          }
        },
        "c50a9830869d436b9b14a70d12397b70": {
          "model_module": "@jupyter-widgets/base",
          "model_name": "LayoutModel",
          "model_module_version": "1.2.0",
          "state": {
            "_model_module": "@jupyter-widgets/base",
            "_model_module_version": "1.2.0",
            "_model_name": "LayoutModel",
            "_view_count": null,
            "_view_module": "@jupyter-widgets/base",
            "_view_module_version": "1.2.0",
            "_view_name": "LayoutView",
            "align_content": null,
            "align_items": null,
            "align_self": null,
            "border": null,
            "bottom": null,
            "display": null,
            "flex": null,
            "flex_flow": null,
            "grid_area": null,
            "grid_auto_columns": null,
            "grid_auto_flow": null,
            "grid_auto_rows": null,
            "grid_column": null,
            "grid_gap": null,
            "grid_row": null,
            "grid_template_areas": null,
            "grid_template_columns": null,
            "grid_template_rows": null,
            "height": null,
            "justify_content": null,
            "justify_items": null,
            "left": null,
            "margin": null,
            "max_height": null,
            "max_width": null,
            "min_height": null,
            "min_width": null,
            "object_fit": null,
            "object_position": null,
            "order": null,
            "overflow": null,
            "overflow_x": null,
            "overflow_y": null,
            "padding": null,
            "right": null,
            "top": null,
            "visibility": null,
            "width": null
          }
        },
        "b362ca5bdec24f8d95241d2bc1f786bd": {
          "model_module": "@jupyter-widgets/controls",
          "model_name": "DescriptionStyleModel",
          "model_module_version": "1.5.0",
          "state": {
            "_model_module": "@jupyter-widgets/controls",
            "_model_module_version": "1.5.0",
            "_model_name": "DescriptionStyleModel",
            "_view_count": null,
            "_view_module": "@jupyter-widgets/base",
            "_view_module_version": "1.2.0",
            "_view_name": "StyleView",
            "description_width": ""
          }
        },
        "7a7b44cef7fd4ee3bce23738676b7438": {
          "model_module": "@jupyter-widgets/base",
          "model_name": "LayoutModel",
          "model_module_version": "1.2.0",
          "state": {
            "_model_module": "@jupyter-widgets/base",
            "_model_module_version": "1.2.0",
            "_model_name": "LayoutModel",
            "_view_count": null,
            "_view_module": "@jupyter-widgets/base",
            "_view_module_version": "1.2.0",
            "_view_name": "LayoutView",
            "align_content": null,
            "align_items": null,
            "align_self": null,
            "border": null,
            "bottom": null,
            "display": null,
            "flex": null,
            "flex_flow": null,
            "grid_area": null,
            "grid_auto_columns": null,
            "grid_auto_flow": null,
            "grid_auto_rows": null,
            "grid_column": null,
            "grid_gap": null,
            "grid_row": null,
            "grid_template_areas": null,
            "grid_template_columns": null,
            "grid_template_rows": null,
            "height": null,
            "justify_content": null,
            "justify_items": null,
            "left": null,
            "margin": null,
            "max_height": null,
            "max_width": null,
            "min_height": null,
            "min_width": null,
            "object_fit": null,
            "object_position": null,
            "order": null,
            "overflow": null,
            "overflow_x": null,
            "overflow_y": null,
            "padding": null,
            "right": null,
            "top": null,
            "visibility": null,
            "width": null
          }
        },
        "0acf15bb785e4a60b8d1499b61878f3e": {
          "model_module": "@jupyter-widgets/controls",
          "model_name": "ProgressStyleModel",
          "model_module_version": "1.5.0",
          "state": {
            "_model_module": "@jupyter-widgets/controls",
            "_model_module_version": "1.5.0",
            "_model_name": "ProgressStyleModel",
            "_view_count": null,
            "_view_module": "@jupyter-widgets/base",
            "_view_module_version": "1.2.0",
            "_view_name": "StyleView",
            "bar_color": null,
            "description_width": ""
          }
        },
        "21667e496e1548058b8155bb6540e205": {
          "model_module": "@jupyter-widgets/base",
          "model_name": "LayoutModel",
          "model_module_version": "1.2.0",
          "state": {
            "_model_module": "@jupyter-widgets/base",
            "_model_module_version": "1.2.0",
            "_model_name": "LayoutModel",
            "_view_count": null,
            "_view_module": "@jupyter-widgets/base",
            "_view_module_version": "1.2.0",
            "_view_name": "LayoutView",
            "align_content": null,
            "align_items": null,
            "align_self": null,
            "border": null,
            "bottom": null,
            "display": null,
            "flex": null,
            "flex_flow": null,
            "grid_area": null,
            "grid_auto_columns": null,
            "grid_auto_flow": null,
            "grid_auto_rows": null,
            "grid_column": null,
            "grid_gap": null,
            "grid_row": null,
            "grid_template_areas": null,
            "grid_template_columns": null,
            "grid_template_rows": null,
            "height": null,
            "justify_content": null,
            "justify_items": null,
            "left": null,
            "margin": null,
            "max_height": null,
            "max_width": null,
            "min_height": null,
            "min_width": null,
            "object_fit": null,
            "object_position": null,
            "order": null,
            "overflow": null,
            "overflow_x": null,
            "overflow_y": null,
            "padding": null,
            "right": null,
            "top": null,
            "visibility": null,
            "width": null
          }
        },
        "33c971213be34823b6fc6befecdcf9c2": {
          "model_module": "@jupyter-widgets/controls",
          "model_name": "DescriptionStyleModel",
          "model_module_version": "1.5.0",
          "state": {
            "_model_module": "@jupyter-widgets/controls",
            "_model_module_version": "1.5.0",
            "_model_name": "DescriptionStyleModel",
            "_view_count": null,
            "_view_module": "@jupyter-widgets/base",
            "_view_module_version": "1.2.0",
            "_view_name": "StyleView",
            "description_width": ""
          }
        },
        "a8989c9772e54f78843494120511a75c": {
          "model_module": "@jupyter-widgets/controls",
          "model_name": "HBoxModel",
          "model_module_version": "1.5.0",
          "state": {
            "_dom_classes": [],
            "_model_module": "@jupyter-widgets/controls",
            "_model_module_version": "1.5.0",
            "_model_name": "HBoxModel",
            "_view_count": null,
            "_view_module": "@jupyter-widgets/controls",
            "_view_module_version": "1.5.0",
            "_view_name": "HBoxView",
            "box_style": "",
            "children": [
              "IPY_MODEL_dbdd7d9314f145c3a33f16ab06aa68e7",
              "IPY_MODEL_c7b28703571b4f6ba99c5b5106af5320",
              "IPY_MODEL_c7370e052e9940f081ba754d4f18004c"
            ],
            "layout": "IPY_MODEL_1b27a4e7c8ed4dbc912b554e4f66eecb"
          }
        },
        "dbdd7d9314f145c3a33f16ab06aa68e7": {
          "model_module": "@jupyter-widgets/controls",
          "model_name": "HTMLModel",
          "model_module_version": "1.5.0",
          "state": {
            "_dom_classes": [],
            "_model_module": "@jupyter-widgets/controls",
            "_model_module_version": "1.5.0",
            "_model_name": "HTMLModel",
            "_view_count": null,
            "_view_module": "@jupyter-widgets/controls",
            "_view_module_version": "1.5.0",
            "_view_name": "HTMLView",
            "description": "",
            "description_tooltip": null,
            "layout": "IPY_MODEL_e855c1263906495f9f7e4c9673f6b949",
            "placeholder": "​",
            "style": "IPY_MODEL_174ff09afb9249d294124c78d4db838f",
            "value": "config.json: 100%"
          }
        },
        "c7b28703571b4f6ba99c5b5106af5320": {
          "model_module": "@jupyter-widgets/controls",
          "model_name": "FloatProgressModel",
          "model_module_version": "1.5.0",
          "state": {
            "_dom_classes": [],
            "_model_module": "@jupyter-widgets/controls",
            "_model_module_version": "1.5.0",
            "_model_name": "FloatProgressModel",
            "_view_count": null,
            "_view_module": "@jupyter-widgets/controls",
            "_view_module_version": "1.5.0",
            "_view_name": "ProgressView",
            "bar_style": "success",
            "description": "",
            "description_tooltip": null,
            "layout": "IPY_MODEL_1168600902e24af5b2a45bc9c8592dee",
            "max": 570,
            "min": 0,
            "orientation": "horizontal",
            "style": "IPY_MODEL_10823a44b3de4e189cab76821c6580c0",
            "value": 570
          }
        },
        "c7370e052e9940f081ba754d4f18004c": {
          "model_module": "@jupyter-widgets/controls",
          "model_name": "HTMLModel",
          "model_module_version": "1.5.0",
          "state": {
            "_dom_classes": [],
            "_model_module": "@jupyter-widgets/controls",
            "_model_module_version": "1.5.0",
            "_model_name": "HTMLModel",
            "_view_count": null,
            "_view_module": "@jupyter-widgets/controls",
            "_view_module_version": "1.5.0",
            "_view_name": "HTMLView",
            "description": "",
            "description_tooltip": null,
            "layout": "IPY_MODEL_81ca8d300b274d1e8e37fb7b30f07c9d",
            "placeholder": "​",
            "style": "IPY_MODEL_770de6ce5af440b59cb89e911f5b8c84",
            "value": " 570/570 [00:00&lt;00:00, 22.9kB/s]"
          }
        },
        "1b27a4e7c8ed4dbc912b554e4f66eecb": {
          "model_module": "@jupyter-widgets/base",
          "model_name": "LayoutModel",
          "model_module_version": "1.2.0",
          "state": {
            "_model_module": "@jupyter-widgets/base",
            "_model_module_version": "1.2.0",
            "_model_name": "LayoutModel",
            "_view_count": null,
            "_view_module": "@jupyter-widgets/base",
            "_view_module_version": "1.2.0",
            "_view_name": "LayoutView",
            "align_content": null,
            "align_items": null,
            "align_self": null,
            "border": null,
            "bottom": null,
            "display": null,
            "flex": null,
            "flex_flow": null,
            "grid_area": null,
            "grid_auto_columns": null,
            "grid_auto_flow": null,
            "grid_auto_rows": null,
            "grid_column": null,
            "grid_gap": null,
            "grid_row": null,
            "grid_template_areas": null,
            "grid_template_columns": null,
            "grid_template_rows": null,
            "height": null,
            "justify_content": null,
            "justify_items": null,
            "left": null,
            "margin": null,
            "max_height": null,
            "max_width": null,
            "min_height": null,
            "min_width": null,
            "object_fit": null,
            "object_position": null,
            "order": null,
            "overflow": null,
            "overflow_x": null,
            "overflow_y": null,
            "padding": null,
            "right": null,
            "top": null,
            "visibility": null,
            "width": null
          }
        },
        "e855c1263906495f9f7e4c9673f6b949": {
          "model_module": "@jupyter-widgets/base",
          "model_name": "LayoutModel",
          "model_module_version": "1.2.0",
          "state": {
            "_model_module": "@jupyter-widgets/base",
            "_model_module_version": "1.2.0",
            "_model_name": "LayoutModel",
            "_view_count": null,
            "_view_module": "@jupyter-widgets/base",
            "_view_module_version": "1.2.0",
            "_view_name": "LayoutView",
            "align_content": null,
            "align_items": null,
            "align_self": null,
            "border": null,
            "bottom": null,
            "display": null,
            "flex": null,
            "flex_flow": null,
            "grid_area": null,
            "grid_auto_columns": null,
            "grid_auto_flow": null,
            "grid_auto_rows": null,
            "grid_column": null,
            "grid_gap": null,
            "grid_row": null,
            "grid_template_areas": null,
            "grid_template_columns": null,
            "grid_template_rows": null,
            "height": null,
            "justify_content": null,
            "justify_items": null,
            "left": null,
            "margin": null,
            "max_height": null,
            "max_width": null,
            "min_height": null,
            "min_width": null,
            "object_fit": null,
            "object_position": null,
            "order": null,
            "overflow": null,
            "overflow_x": null,
            "overflow_y": null,
            "padding": null,
            "right": null,
            "top": null,
            "visibility": null,
            "width": null
          }
        },
        "174ff09afb9249d294124c78d4db838f": {
          "model_module": "@jupyter-widgets/controls",
          "model_name": "DescriptionStyleModel",
          "model_module_version": "1.5.0",
          "state": {
            "_model_module": "@jupyter-widgets/controls",
            "_model_module_version": "1.5.0",
            "_model_name": "DescriptionStyleModel",
            "_view_count": null,
            "_view_module": "@jupyter-widgets/base",
            "_view_module_version": "1.2.0",
            "_view_name": "StyleView",
            "description_width": ""
          }
        },
        "1168600902e24af5b2a45bc9c8592dee": {
          "model_module": "@jupyter-widgets/base",
          "model_name": "LayoutModel",
          "model_module_version": "1.2.0",
          "state": {
            "_model_module": "@jupyter-widgets/base",
            "_model_module_version": "1.2.0",
            "_model_name": "LayoutModel",
            "_view_count": null,
            "_view_module": "@jupyter-widgets/base",
            "_view_module_version": "1.2.0",
            "_view_name": "LayoutView",
            "align_content": null,
            "align_items": null,
            "align_self": null,
            "border": null,
            "bottom": null,
            "display": null,
            "flex": null,
            "flex_flow": null,
            "grid_area": null,
            "grid_auto_columns": null,
            "grid_auto_flow": null,
            "grid_auto_rows": null,
            "grid_column": null,
            "grid_gap": null,
            "grid_row": null,
            "grid_template_areas": null,
            "grid_template_columns": null,
            "grid_template_rows": null,
            "height": null,
            "justify_content": null,
            "justify_items": null,
            "left": null,
            "margin": null,
            "max_height": null,
            "max_width": null,
            "min_height": null,
            "min_width": null,
            "object_fit": null,
            "object_position": null,
            "order": null,
            "overflow": null,
            "overflow_x": null,
            "overflow_y": null,
            "padding": null,
            "right": null,
            "top": null,
            "visibility": null,
            "width": null
          }
        },
        "10823a44b3de4e189cab76821c6580c0": {
          "model_module": "@jupyter-widgets/controls",
          "model_name": "ProgressStyleModel",
          "model_module_version": "1.5.0",
          "state": {
            "_model_module": "@jupyter-widgets/controls",
            "_model_module_version": "1.5.0",
            "_model_name": "ProgressStyleModel",
            "_view_count": null,
            "_view_module": "@jupyter-widgets/base",
            "_view_module_version": "1.2.0",
            "_view_name": "StyleView",
            "bar_color": null,
            "description_width": ""
          }
        },
        "81ca8d300b274d1e8e37fb7b30f07c9d": {
          "model_module": "@jupyter-widgets/base",
          "model_name": "LayoutModel",
          "model_module_version": "1.2.0",
          "state": {
            "_model_module": "@jupyter-widgets/base",
            "_model_module_version": "1.2.0",
            "_model_name": "LayoutModel",
            "_view_count": null,
            "_view_module": "@jupyter-widgets/base",
            "_view_module_version": "1.2.0",
            "_view_name": "LayoutView",
            "align_content": null,
            "align_items": null,
            "align_self": null,
            "border": null,
            "bottom": null,
            "display": null,
            "flex": null,
            "flex_flow": null,
            "grid_area": null,
            "grid_auto_columns": null,
            "grid_auto_flow": null,
            "grid_auto_rows": null,
            "grid_column": null,
            "grid_gap": null,
            "grid_row": null,
            "grid_template_areas": null,
            "grid_template_columns": null,
            "grid_template_rows": null,
            "height": null,
            "justify_content": null,
            "justify_items": null,
            "left": null,
            "margin": null,
            "max_height": null,
            "max_width": null,
            "min_height": null,
            "min_width": null,
            "object_fit": null,
            "object_position": null,
            "order": null,
            "overflow": null,
            "overflow_x": null,
            "overflow_y": null,
            "padding": null,
            "right": null,
            "top": null,
            "visibility": null,
            "width": null
          }
        },
        "770de6ce5af440b59cb89e911f5b8c84": {
          "model_module": "@jupyter-widgets/controls",
          "model_name": "DescriptionStyleModel",
          "model_module_version": "1.5.0",
          "state": {
            "_model_module": "@jupyter-widgets/controls",
            "_model_module_version": "1.5.0",
            "_model_name": "DescriptionStyleModel",
            "_view_count": null,
            "_view_module": "@jupyter-widgets/base",
            "_view_module_version": "1.2.0",
            "_view_name": "StyleView",
            "description_width": ""
          }
        },
        "bbd807786b9141ea8c9abed753e3e3ea": {
          "model_module": "@jupyter-widgets/controls",
          "model_name": "HBoxModel",
          "model_module_version": "1.5.0",
          "state": {
            "_dom_classes": [],
            "_model_module": "@jupyter-widgets/controls",
            "_model_module_version": "1.5.0",
            "_model_name": "HBoxModel",
            "_view_count": null,
            "_view_module": "@jupyter-widgets/controls",
            "_view_module_version": "1.5.0",
            "_view_name": "HBoxView",
            "box_style": "",
            "children": [
              "IPY_MODEL_221afd1be6d045b99197669aba48a00b",
              "IPY_MODEL_b32043acf32e438c8395acab99994407",
              "IPY_MODEL_3d96ffab7f654cae99297b440017d1e7"
            ],
            "layout": "IPY_MODEL_9721bf5f03a54dbc94d63747e69da293"
          }
        },
        "221afd1be6d045b99197669aba48a00b": {
          "model_module": "@jupyter-widgets/controls",
          "model_name": "HTMLModel",
          "model_module_version": "1.5.0",
          "state": {
            "_dom_classes": [],
            "_model_module": "@jupyter-widgets/controls",
            "_model_module_version": "1.5.0",
            "_model_name": "HTMLModel",
            "_view_count": null,
            "_view_module": "@jupyter-widgets/controls",
            "_view_module_version": "1.5.0",
            "_view_name": "HTMLView",
            "description": "",
            "description_tooltip": null,
            "layout": "IPY_MODEL_84051eb119cc4438abcc1dee29239cfa",
            "placeholder": "​",
            "style": "IPY_MODEL_6f99a4459a7e48b99eca812d4820e763",
            "value": "model.safetensors: 100%"
          }
        },
        "b32043acf32e438c8395acab99994407": {
          "model_module": "@jupyter-widgets/controls",
          "model_name": "FloatProgressModel",
          "model_module_version": "1.5.0",
          "state": {
            "_dom_classes": [],
            "_model_module": "@jupyter-widgets/controls",
            "_model_module_version": "1.5.0",
            "_model_name": "FloatProgressModel",
            "_view_count": null,
            "_view_module": "@jupyter-widgets/controls",
            "_view_module_version": "1.5.0",
            "_view_name": "ProgressView",
            "bar_style": "success",
            "description": "",
            "description_tooltip": null,
            "layout": "IPY_MODEL_e263e6bdb9ad48429631433ae3ff802c",
            "max": 440449768,
            "min": 0,
            "orientation": "horizontal",
            "style": "IPY_MODEL_f4f3d86b287448ec84ffdfd15ac2b8ab",
            "value": 440449768
          }
        },
        "3d96ffab7f654cae99297b440017d1e7": {
          "model_module": "@jupyter-widgets/controls",
          "model_name": "HTMLModel",
          "model_module_version": "1.5.0",
          "state": {
            "_dom_classes": [],
            "_model_module": "@jupyter-widgets/controls",
            "_model_module_version": "1.5.0",
            "_model_name": "HTMLModel",
            "_view_count": null,
            "_view_module": "@jupyter-widgets/controls",
            "_view_module_version": "1.5.0",
            "_view_name": "HTMLView",
            "description": "",
            "description_tooltip": null,
            "layout": "IPY_MODEL_d7bbfcf52f304ef991684b2efcf84e79",
            "placeholder": "​",
            "style": "IPY_MODEL_cc24f1b9904b48ec88015081198b29d3",
            "value": " 440M/440M [00:03&lt;00:00, 124MB/s]"
          }
        },
        "9721bf5f03a54dbc94d63747e69da293": {
          "model_module": "@jupyter-widgets/base",
          "model_name": "LayoutModel",
          "model_module_version": "1.2.0",
          "state": {
            "_model_module": "@jupyter-widgets/base",
            "_model_module_version": "1.2.0",
            "_model_name": "LayoutModel",
            "_view_count": null,
            "_view_module": "@jupyter-widgets/base",
            "_view_module_version": "1.2.0",
            "_view_name": "LayoutView",
            "align_content": null,
            "align_items": null,
            "align_self": null,
            "border": null,
            "bottom": null,
            "display": null,
            "flex": null,
            "flex_flow": null,
            "grid_area": null,
            "grid_auto_columns": null,
            "grid_auto_flow": null,
            "grid_auto_rows": null,
            "grid_column": null,
            "grid_gap": null,
            "grid_row": null,
            "grid_template_areas": null,
            "grid_template_columns": null,
            "grid_template_rows": null,
            "height": null,
            "justify_content": null,
            "justify_items": null,
            "left": null,
            "margin": null,
            "max_height": null,
            "max_width": null,
            "min_height": null,
            "min_width": null,
            "object_fit": null,
            "object_position": null,
            "order": null,
            "overflow": null,
            "overflow_x": null,
            "overflow_y": null,
            "padding": null,
            "right": null,
            "top": null,
            "visibility": null,
            "width": null
          }
        },
        "84051eb119cc4438abcc1dee29239cfa": {
          "model_module": "@jupyter-widgets/base",
          "model_name": "LayoutModel",
          "model_module_version": "1.2.0",
          "state": {
            "_model_module": "@jupyter-widgets/base",
            "_model_module_version": "1.2.0",
            "_model_name": "LayoutModel",
            "_view_count": null,
            "_view_module": "@jupyter-widgets/base",
            "_view_module_version": "1.2.0",
            "_view_name": "LayoutView",
            "align_content": null,
            "align_items": null,
            "align_self": null,
            "border": null,
            "bottom": null,
            "display": null,
            "flex": null,
            "flex_flow": null,
            "grid_area": null,
            "grid_auto_columns": null,
            "grid_auto_flow": null,
            "grid_auto_rows": null,
            "grid_column": null,
            "grid_gap": null,
            "grid_row": null,
            "grid_template_areas": null,
            "grid_template_columns": null,
            "grid_template_rows": null,
            "height": null,
            "justify_content": null,
            "justify_items": null,
            "left": null,
            "margin": null,
            "max_height": null,
            "max_width": null,
            "min_height": null,
            "min_width": null,
            "object_fit": null,
            "object_position": null,
            "order": null,
            "overflow": null,
            "overflow_x": null,
            "overflow_y": null,
            "padding": null,
            "right": null,
            "top": null,
            "visibility": null,
            "width": null
          }
        },
        "6f99a4459a7e48b99eca812d4820e763": {
          "model_module": "@jupyter-widgets/controls",
          "model_name": "DescriptionStyleModel",
          "model_module_version": "1.5.0",
          "state": {
            "_model_module": "@jupyter-widgets/controls",
            "_model_module_version": "1.5.0",
            "_model_name": "DescriptionStyleModel",
            "_view_count": null,
            "_view_module": "@jupyter-widgets/base",
            "_view_module_version": "1.2.0",
            "_view_name": "StyleView",
            "description_width": ""
          }
        },
        "e263e6bdb9ad48429631433ae3ff802c": {
          "model_module": "@jupyter-widgets/base",
          "model_name": "LayoutModel",
          "model_module_version": "1.2.0",
          "state": {
            "_model_module": "@jupyter-widgets/base",
            "_model_module_version": "1.2.0",
            "_model_name": "LayoutModel",
            "_view_count": null,
            "_view_module": "@jupyter-widgets/base",
            "_view_module_version": "1.2.0",
            "_view_name": "LayoutView",
            "align_content": null,
            "align_items": null,
            "align_self": null,
            "border": null,
            "bottom": null,
            "display": null,
            "flex": null,
            "flex_flow": null,
            "grid_area": null,
            "grid_auto_columns": null,
            "grid_auto_flow": null,
            "grid_auto_rows": null,
            "grid_column": null,
            "grid_gap": null,
            "grid_row": null,
            "grid_template_areas": null,
            "grid_template_columns": null,
            "grid_template_rows": null,
            "height": null,
            "justify_content": null,
            "justify_items": null,
            "left": null,
            "margin": null,
            "max_height": null,
            "max_width": null,
            "min_height": null,
            "min_width": null,
            "object_fit": null,
            "object_position": null,
            "order": null,
            "overflow": null,
            "overflow_x": null,
            "overflow_y": null,
            "padding": null,
            "right": null,
            "top": null,
            "visibility": null,
            "width": null
          }
        },
        "f4f3d86b287448ec84ffdfd15ac2b8ab": {
          "model_module": "@jupyter-widgets/controls",
          "model_name": "ProgressStyleModel",
          "model_module_version": "1.5.0",
          "state": {
            "_model_module": "@jupyter-widgets/controls",
            "_model_module_version": "1.5.0",
            "_model_name": "ProgressStyleModel",
            "_view_count": null,
            "_view_module": "@jupyter-widgets/base",
            "_view_module_version": "1.2.0",
            "_view_name": "StyleView",
            "bar_color": null,
            "description_width": ""
          }
        },
        "d7bbfcf52f304ef991684b2efcf84e79": {
          "model_module": "@jupyter-widgets/base",
          "model_name": "LayoutModel",
          "model_module_version": "1.2.0",
          "state": {
            "_model_module": "@jupyter-widgets/base",
            "_model_module_version": "1.2.0",
            "_model_name": "LayoutModel",
            "_view_count": null,
            "_view_module": "@jupyter-widgets/base",
            "_view_module_version": "1.2.0",
            "_view_name": "LayoutView",
            "align_content": null,
            "align_items": null,
            "align_self": null,
            "border": null,
            "bottom": null,
            "display": null,
            "flex": null,
            "flex_flow": null,
            "grid_area": null,
            "grid_auto_columns": null,
            "grid_auto_flow": null,
            "grid_auto_rows": null,
            "grid_column": null,
            "grid_gap": null,
            "grid_row": null,
            "grid_template_areas": null,
            "grid_template_columns": null,
            "grid_template_rows": null,
            "height": null,
            "justify_content": null,
            "justify_items": null,
            "left": null,
            "margin": null,
            "max_height": null,
            "max_width": null,
            "min_height": null,
            "min_width": null,
            "object_fit": null,
            "object_position": null,
            "order": null,
            "overflow": null,
            "overflow_x": null,
            "overflow_y": null,
            "padding": null,
            "right": null,
            "top": null,
            "visibility": null,
            "width": null
          }
        },
        "cc24f1b9904b48ec88015081198b29d3": {
          "model_module": "@jupyter-widgets/controls",
          "model_name": "DescriptionStyleModel",
          "model_module_version": "1.5.0",
          "state": {
            "_model_module": "@jupyter-widgets/controls",
            "_model_module_version": "1.5.0",
            "_model_name": "DescriptionStyleModel",
            "_view_count": null,
            "_view_module": "@jupyter-widgets/base",
            "_view_module_version": "1.2.0",
            "_view_name": "StyleView",
            "description_width": ""
          }
        }
      }
    }
  },
  "nbformat": 4,
  "nbformat_minor": 5
}