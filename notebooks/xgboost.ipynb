{
 "cells": [
  {
   "cell_type": "markdown",
   "id": "2eb5cbec-0e77-442f-b023-38e16b666b0c",
   "metadata": {},
   "source": [
    "# XGBoost stock prediction"
   ]
  },
  {
   "cell_type": "code",
   "execution_count": 1,
   "id": "a73b0d1b-95fe-4671-bc21-557132c642c5",
   "metadata": {},
   "outputs": [],
   "source": [
    "import torch\n",
    "import numpy as np\n",
    "import pandas as pd\n",
    "import torch.nn as nn\n",
    "from torch.utils.data import TensorDataset, DataLoader\n",
    "import math\n",
    "from xgboost import XGBRegressor\n",
    "from sklearn.metrics import mean_squared_error, mean_absolute_error, explained_variance_score, r2_score \n"
   ]
  },
  {
   "cell_type": "code",
   "execution_count": 2,
   "id": "2e4b17a5-48b2-427e-b395-6fc94c8a7d55",
   "metadata": {},
   "outputs": [
    {
     "name": "stdout",
     "output_type": "stream",
     "text": [
      "(1592, 1) (397, 1)\n"
     ]
    }
   ],
   "source": [
    "df = pd.read_csv('../data/upload_DJIA_table.csv', parse_dates=['Date'], index_col='Date')\n",
    "df = df[['Close']]\n",
    "df = df.sort_index()\n",
    "\n",
    "training_data_len = math.ceil(len(df) * .8)\n",
    "\n",
    "train_data = df[:training_data_len].iloc[:,:1]\n",
    "test_data = df[training_data_len:].iloc[:,:1]\n",
    "print(train_data.shape, test_data.shape)"
   ]
  },
  {
   "cell_type": "code",
   "execution_count": 3,
   "id": "fb61befb-a42c-4544-a891-262e1e14f478",
   "metadata": {},
   "outputs": [
    {
     "name": "stdout",
     "output_type": "stream",
     "text": [
      "(1592, 1, 768) (397, 1, 768)\n"
     ]
    }
   ],
   "source": [
    "bert_embeddings = np.load('../bert_embeddings.npy')\n",
    "\n",
    "bert_train = bert_embeddings[:training_data_len]\n",
    "bert_test = bert_embeddings[training_data_len:]\n",
    "print(bert_train.shape, bert_test.shape)"
   ]
  },
  {
   "cell_type": "code",
   "execution_count": 4,
   "id": "44b0d41a-b7ef-4472-acc3-3d403e1e2e17",
   "metadata": {},
   "outputs": [
    {
     "name": "stdout",
     "output_type": "stream",
     "text": [
      "(1592, 1) (397, 1)\n"
     ]
    }
   ],
   "source": [
    "fingpt_sentiments = np.load('../fingpt_sentiment.npy').astype('float32') \n",
    "\n",
    "fingpt_sentiments = fingpt_sentiments.reshape(-1, 1)\n",
    "sentiments_train = fingpt_sentiments[:training_data_len]\n",
    "sentiments_test = fingpt_sentiments[training_data_len:]\n",
    "\n",
    "print(sentiments_train.shape, sentiments_test.shape)"
   ]
  },
  {
   "cell_type": "code",
   "execution_count": 5,
   "id": "2688ba72-42de-4f9d-ad8b-e5f0111a67ba",
   "metadata": {},
   "outputs": [
    {
     "data": {
      "text/plain": [
       "((397, 1), (1592, 1))"
      ]
     },
     "execution_count": 5,
     "metadata": {},
     "output_type": "execute_result"
    }
   ],
   "source": [
    "dataset_train = train_data.values\n",
    "dataset_train = np.reshape(dataset_train, (-1,1))\n",
    "\n",
    "dataset_test = test_data.values\n",
    "dataset_test = np.reshape(dataset_test, (-1,1))\n",
    "\n",
    "dataset_test.shape, dataset_train.shape"
   ]
  },
  {
   "cell_type": "code",
   "execution_count": 6,
   "id": "efd84802-1c64-42a2-a77e-766bde30fbb7",
   "metadata": {},
   "outputs": [
    {
     "name": "stdout",
     "output_type": "stream",
     "text": [
      "[[0.45640217]\n",
      " [0.46062803]\n",
      " [0.44832069]\n",
      " [0.43868547]\n",
      " [0.44598557]]\n",
      "[0.84454818] [0.86667668] [0.82659367] [0.80725839] [0.70619221]\n"
     ]
    }
   ],
   "source": [
    "from sklearn.preprocessing import MinMaxScaler\n",
    "scaler = MinMaxScaler(feature_range=(0,1))\n",
    "\n",
    "scaled_train = scaler.fit_transform(dataset_train)\n",
    "print(scaled_train[:5])\n",
    "\n",
    "scaled_test = scaler.fit_transform(dataset_test)\n",
    "print(*scaled_test[:5])"
   ]
  },
  {
   "cell_type": "code",
   "execution_count": 7,
   "id": "1e95a7fc-9882-412f-b735-a1439478e0b5",
   "metadata": {},
   "outputs": [
    {
     "data": {
      "text/plain": [
       "(1592, 1)"
      ]
     },
     "execution_count": 7,
     "metadata": {},
     "output_type": "execute_result"
    }
   ],
   "source": [
    "scaled_train.shape"
   ]
  },
  {
   "cell_type": "code",
   "execution_count": 8,
   "id": "a2510c9f-6838-47f4-bf95-4525813c9444",
   "metadata": {},
   "outputs": [
    {
     "data": {
      "text/plain": [
       "(1592, 1)"
      ]
     },
     "execution_count": 8,
     "metadata": {},
     "output_type": "execute_result"
    }
   ],
   "source": [
    "sentiments_train.shape"
   ]
  },
  {
   "cell_type": "code",
   "execution_count": 9,
   "id": "1ed3744b-4b22-4a3d-82cd-5db990ec5dfc",
   "metadata": {},
   "outputs": [
    {
     "data": {
      "text/plain": [
       "(torch.Size([1592, 769]), torch.Size([1592, 1]))"
      ]
     },
     "execution_count": 9,
     "metadata": {},
     "output_type": "execute_result"
    }
   ],
   "source": [
    "y_p = torch.tensor(scaled_train, dtype=torch.float32).float()\n",
    "X_e = torch.tensor(bert_train, dtype=torch.float32).float()\n",
    "X_s = torch.tensor(sentiments_train, dtype=torch.float32).float()\n",
    "\n",
    "X_train = torch.cat((X_e.squeeze(), X_s), axis=1)\n",
    "y_train = y_p\n",
    "\n",
    "X_train.shape, y_train.shape"
   ]
  },
  {
   "cell_type": "code",
   "execution_count": 10,
   "id": "dceab678-d1a5-4b2c-9a1b-842abeb940d8",
   "metadata": {},
   "outputs": [
    {
     "data": {
      "text/plain": [
       "(torch.Size([397, 769]), torch.Size([397, 1]))"
      ]
     },
     "execution_count": 10,
     "metadata": {},
     "output_type": "execute_result"
    }
   ],
   "source": [
    "X_p = torch.tensor(scaled_test, dtype=torch.float32).float()\n",
    "X_e = torch.tensor(bert_test, dtype=torch.float32).float()\n",
    "X_s = torch.tensor(sentiments_test, dtype=torch.float32).float()\n",
    "\n",
    "X_test = torch.cat(( X_e.squeeze(), X_s), axis=1)\n",
    "y_test = X_p\n",
    "X_test.shape, y_test.shape"
   ]
  },
  {
   "cell_type": "markdown",
   "id": "21ff504e-be41-4142-b312-bd166566ecac",
   "metadata": {},
   "source": [
    "## Modelling"
   ]
  },
  {
   "cell_type": "code",
   "execution_count": 11,
   "id": "400228f8-fdfa-40e7-a418-02e8955bb596",
   "metadata": {},
   "outputs": [
    {
     "name": "stderr",
     "output_type": "stream",
     "text": [
      "/Users/baga_nuhkadiev/opt/anaconda3/lib/python3.8/site-packages/xgboost/core.py:160: UserWarning: [04:40:17] WARNING: /Users/runner/work/xgboost/xgboost/src/learner.cc:742: \n",
      "Parameters: { \"n_estimators\" } are not used.\n",
      "\n",
      "  warnings.warn(smsg, UserWarning)\n"
     ]
    },
    {
     "name": "stdout",
     "output_type": "stream",
     "text": [
      "[0]\ttrain-rmse:0.20353\teval-rmse:0.28641\n",
      "[1]\ttrain-rmse:0.17959\teval-rmse:0.28428\n",
      "[2]\ttrain-rmse:0.16272\teval-rmse:0.28463\n",
      "[3]\ttrain-rmse:0.14451\teval-rmse:0.28123\n",
      "[4]\ttrain-rmse:0.12860\teval-rmse:0.28097\n",
      "[5]\ttrain-rmse:0.11757\teval-rmse:0.27997\n",
      "[6]\ttrain-rmse:0.10629\teval-rmse:0.27910\n",
      "[7]\ttrain-rmse:0.09833\teval-rmse:0.27797\n",
      "[8]\ttrain-rmse:0.08996\teval-rmse:0.27876\n",
      "[9]\ttrain-rmse:0.08315\teval-rmse:0.27998\n",
      "[10]\ttrain-rmse:0.07678\teval-rmse:0.27996\n",
      "[11]\ttrain-rmse:0.06881\teval-rmse:0.27900\n",
      "[12]\ttrain-rmse:0.06555\teval-rmse:0.27912\n",
      "[13]\ttrain-rmse:0.06201\teval-rmse:0.27866\n",
      "[14]\ttrain-rmse:0.05924\teval-rmse:0.27751\n",
      "[15]\ttrain-rmse:0.05453\teval-rmse:0.27730\n",
      "[16]\ttrain-rmse:0.05077\teval-rmse:0.27646\n",
      "[17]\ttrain-rmse:0.04859\teval-rmse:0.27649\n",
      "[18]\ttrain-rmse:0.04601\teval-rmse:0.27701\n",
      "[19]\ttrain-rmse:0.04378\teval-rmse:0.27657\n",
      "[20]\ttrain-rmse:0.04126\teval-rmse:0.27647\n",
      "[21]\ttrain-rmse:0.03992\teval-rmse:0.27650\n",
      "[22]\ttrain-rmse:0.03626\teval-rmse:0.27670\n",
      "[23]\ttrain-rmse:0.03413\teval-rmse:0.27660\n",
      "[24]\ttrain-rmse:0.03272\teval-rmse:0.27634\n",
      "[25]\ttrain-rmse:0.03014\teval-rmse:0.27681\n",
      "[26]\ttrain-rmse:0.02768\teval-rmse:0.27637\n",
      "[27]\ttrain-rmse:0.02542\teval-rmse:0.27632\n",
      "[28]\ttrain-rmse:0.02426\teval-rmse:0.27628\n",
      "[29]\ttrain-rmse:0.02253\teval-rmse:0.27596\n",
      "[30]\ttrain-rmse:0.02092\teval-rmse:0.27594\n",
      "[31]\ttrain-rmse:0.01950\teval-rmse:0.27637\n",
      "[32]\ttrain-rmse:0.01797\teval-rmse:0.27670\n",
      "[33]\ttrain-rmse:0.01660\teval-rmse:0.27664\n",
      "[34]\ttrain-rmse:0.01583\teval-rmse:0.27676\n",
      "[35]\ttrain-rmse:0.01529\teval-rmse:0.27669\n",
      "[36]\ttrain-rmse:0.01451\teval-rmse:0.27679\n",
      "[37]\ttrain-rmse:0.01391\teval-rmse:0.27685\n",
      "[38]\ttrain-rmse:0.01275\teval-rmse:0.27688\n",
      "[39]\ttrain-rmse:0.01242\teval-rmse:0.27687\n",
      "[40]\ttrain-rmse:0.01208\teval-rmse:0.27684\n",
      "[41]\ttrain-rmse:0.01139\teval-rmse:0.27691\n",
      "[42]\ttrain-rmse:0.01070\teval-rmse:0.27689\n",
      "[43]\ttrain-rmse:0.01008\teval-rmse:0.27702\n",
      "[44]\ttrain-rmse:0.00965\teval-rmse:0.27705\n",
      "[45]\ttrain-rmse:0.00934\teval-rmse:0.27710\n",
      "[46]\ttrain-rmse:0.00897\teval-rmse:0.27718\n",
      "[47]\ttrain-rmse:0.00828\teval-rmse:0.27718\n",
      "[48]\ttrain-rmse:0.00789\teval-rmse:0.27728\n",
      "[49]\ttrain-rmse:0.00754\teval-rmse:0.27735\n",
      "[50]\ttrain-rmse:0.00704\teval-rmse:0.27724\n",
      "[51]\ttrain-rmse:0.00674\teval-rmse:0.27722\n",
      "[52]\ttrain-rmse:0.00635\teval-rmse:0.27718\n",
      "[53]\ttrain-rmse:0.00581\teval-rmse:0.27710\n",
      "[54]\ttrain-rmse:0.00551\teval-rmse:0.27713\n",
      "[55]\ttrain-rmse:0.00521\teval-rmse:0.27713\n",
      "[56]\ttrain-rmse:0.00489\teval-rmse:0.27710\n",
      "[57]\ttrain-rmse:0.00449\teval-rmse:0.27706\n",
      "[58]\ttrain-rmse:0.00432\teval-rmse:0.27705\n",
      "[59]\ttrain-rmse:0.00407\teval-rmse:0.27704\n",
      "[60]\ttrain-rmse:0.00372\teval-rmse:0.27705\n",
      "[61]\ttrain-rmse:0.00350\teval-rmse:0.27705\n",
      "[62]\ttrain-rmse:0.00334\teval-rmse:0.27703\n",
      "[63]\ttrain-rmse:0.00311\teval-rmse:0.27703\n",
      "[64]\ttrain-rmse:0.00300\teval-rmse:0.27703\n",
      "[65]\ttrain-rmse:0.00276\teval-rmse:0.27701\n",
      "[66]\ttrain-rmse:0.00260\teval-rmse:0.27700\n",
      "[67]\ttrain-rmse:0.00244\teval-rmse:0.27697\n",
      "[68]\ttrain-rmse:0.00229\teval-rmse:0.27698\n",
      "[69]\ttrain-rmse:0.00222\teval-rmse:0.27699\n",
      "[70]\ttrain-rmse:0.00203\teval-rmse:0.27697\n",
      "[71]\ttrain-rmse:0.00191\teval-rmse:0.27698\n",
      "[72]\ttrain-rmse:0.00181\teval-rmse:0.27694\n",
      "[73]\ttrain-rmse:0.00169\teval-rmse:0.27693\n",
      "[74]\ttrain-rmse:0.00161\teval-rmse:0.27692\n",
      "[75]\ttrain-rmse:0.00150\teval-rmse:0.27694\n",
      "[76]\ttrain-rmse:0.00138\teval-rmse:0.27693\n",
      "[77]\ttrain-rmse:0.00132\teval-rmse:0.27693\n",
      "[78]\ttrain-rmse:0.00128\teval-rmse:0.27693\n",
      "[79]\ttrain-rmse:0.00120\teval-rmse:0.27694\n",
      "[80]\ttrain-rmse:0.00113\teval-rmse:0.27695\n",
      "[81]\ttrain-rmse:0.00107\teval-rmse:0.27693\n",
      "[82]\ttrain-rmse:0.00101\teval-rmse:0.27693\n",
      "[83]\ttrain-rmse:0.00093\teval-rmse:0.27693\n",
      "[84]\ttrain-rmse:0.00088\teval-rmse:0.27693\n",
      "[85]\ttrain-rmse:0.00080\teval-rmse:0.27694\n",
      "[86]\ttrain-rmse:0.00076\teval-rmse:0.27694\n",
      "[87]\ttrain-rmse:0.00069\teval-rmse:0.27693\n",
      "[88]\ttrain-rmse:0.00064\teval-rmse:0.27694\n",
      "[89]\ttrain-rmse:0.00061\teval-rmse:0.27694\n",
      "[90]\ttrain-rmse:0.00057\teval-rmse:0.27693\n",
      "[91]\ttrain-rmse:0.00054\teval-rmse:0.27693\n",
      "[92]\ttrain-rmse:0.00052\teval-rmse:0.27693\n",
      "[93]\ttrain-rmse:0.00050\teval-rmse:0.27694\n",
      "[94]\ttrain-rmse:0.00048\teval-rmse:0.27694\n",
      "[95]\ttrain-rmse:0.00046\teval-rmse:0.27694\n",
      "[96]\ttrain-rmse:0.00045\teval-rmse:0.27694\n",
      "[97]\ttrain-rmse:0.00044\teval-rmse:0.27694\n",
      "[98]\ttrain-rmse:0.00041\teval-rmse:0.27693\n",
      "[99]\ttrain-rmse:0.00038\teval-rmse:0.27694\n"
     ]
    },
    {
     "data": {
      "image/png": "[encoded data removed]",
      "text/plain": [
       "<Figure size 720x432 with 1 Axes>"
      ]
     },
     "metadata": {
      "needs_background": "light"
     },
     "output_type": "display_data"
    },
    {
     "name": "stdout",
     "output_type": "stream",
     "text": [
      "[0.54340434 0.594894   0.62442863 0.59386903 0.48984146 0.4181215\n",
      " 0.33431286 0.38381886 0.55740875 0.64865977]\n",
      "RMSE: 0.2769392728805542\n"
     ]
    }
   ],
   "source": [
    "import xgboost as xgb\n",
    "import matplotlib.pyplot as plt\n",
    "from sklearn.datasets import make_regression\n",
    "from sklearn.model_selection import train_test_split\n",
    "from sklearn.metrics import mean_squared_error\n",
    "import numpy as np\n",
    "\n",
    "\n",
    "# Create DMatrix for XGBoost\n",
    "dtrain = xgb.DMatrix(X_train, label=y_train)\n",
    "dtest = xgb.DMatrix(X_test, label=y_test)\n",
    "\n",
    "# Parameters for XGBoost\n",
    "params = {\n",
    "    'n_estimators': 1000\n",
    "}\n",
    "\n",
    "# Train the model and capture evaluation results\n",
    "evals_result = {}\n",
    "model = xgb.train(params, dtrain, num_boost_round=100, evals=[(dtrain, 'train'), (dtest, 'eval')],\n",
    "                  evals_result=evals_result, verbose_eval=True)\n",
    "\n",
    "# Plot the training and evaluation loss\n",
    "epochs = len(evals_result['train']['rmse'])\n",
    "x_axis = range(0, epochs)\n",
    "\n",
    "plt.figure(figsize=(10, 6))\n",
    "plt.plot(x_axis, evals_result['train']['rmse'], label='Train')\n",
    "plt.plot(x_axis, evals_result['eval']['rmse'], label='Test')\n",
    "plt.legend()\n",
    "plt.xlabel('Number of Boosting Rounds')\n",
    "plt.ylabel('RMSE')\n",
    "plt.title('XGBoost RMSE Over Epochs')\n",
    "plt.show()\n",
    "\n",
    "# Make predictions on the test set\n",
    "predictions = model.predict(dtest)\n",
    "\n",
    "# Print out a few predictions\n",
    "print(predictions[:10])\n",
    "\n",
    "# Calculate RMSE\n",
    "rmse = np.sqrt(mean_squared_error(y_test, predictions))\n",
    "print(f\"RMSE: {rmse}\")\n"
   ]
  },
  {
   "cell_type": "code",
   "execution_count": 12,
   "id": "4b408f36-7699-4818-b5c8-f456abb515ca",
   "metadata": {},
   "outputs": [
    {
     "data": {
      "text/plain": [
       "734.5014170705749"
      ]
     },
     "execution_count": 12,
     "metadata": {},
     "output_type": "execute_result"
    }
   ],
   "source": [
    "predictions = model.predict(dtest)\n",
    "with torch.no_grad():\n",
    "    t = scaler.inverse_transform(y_test)\n",
    "    tp = scaler.inverse_transform(predictions.reshape(-1, 1))\n",
    "math.sqrt(mean_squared_error(t, tp))    "
   ]
  },
  {
   "cell_type": "code",
   "execution_count": 15,
   "id": "7318b4c3-57b2-427c-a4e7-0a0ece4f4522",
   "metadata": {},
   "outputs": [
    {
     "name": "stdout",
     "output_type": "stream",
     "text": [
      "1.0064742102825228\n"
     ]
    }
   ],
   "source": [
    "with torch.no_grad():\n",
    "    tpreds = model.predict(dtrain)\n",
    "    tr = scaler.inverse_transform(y_train)\n",
    "    trp = scaler.inverse_transform(tpreds.reshape(-1, 1))\n",
    "    print(math.sqrt(mean_squared_error(tr, trp)))\n"
   ]
  },
  {
   "cell_type": "code",
   "execution_count": 16,
   "id": "44bc8497-002b-4ad1-8b6a-6c83b4bafd33",
   "metadata": {},
   "outputs": [
    {
     "data": {
      "text/plain": [
       "[<matplotlib.lines.Line2D at 0x7f87b7b2beb0>]"
      ]
     },
     "execution_count": 16,
     "metadata": {},
     "output_type": "execute_result"
    },
    {
     "data": {
      "image/png": "[encoded data removed]",
      "text/plain": [
       "<Figure size 432x288 with 1 Axes>"
      ]
     },
     "metadata": {
      "needs_background": "light"
     },
     "output_type": "display_data"
    }
   ],
   "source": [
    "import matplotlib.pyplot as plt\n",
    "\n",
    "plt.plot(tr)\n",
    "plt.plot(trp)"
   ]
  },
  {
   "cell_type": "code",
   "execution_count": 17,
   "id": "23000f67-06de-4fe1-b336-2267c337d9dc",
   "metadata": {},
   "outputs": [
    {
     "data": {
      "text/plain": [
       "[<matplotlib.lines.Line2D at 0x7f87b7cd3730>]"
      ]
     },
     "execution_count": 17,
     "metadata": {},
     "output_type": "execute_result"
    },
    {
     "data": {
      "image/png": "[encoded data removed]",
      "text/plain": [
       "<Figure size 432x288 with 1 Axes>"
      ]
     },
     "metadata": {
      "needs_background": "light"
     },
     "output_type": "display_data"
    }
   ],
   "source": [
    "plt.plot(t)\n",
    "plt.plot(tp)\n"
   ]
  },
  {
   "cell_type": "code",
   "execution_count": null,
   "id": "cff35686-e076-4114-b922-42b5234b63b1",
   "metadata": {},
   "outputs": [],
   "source": []
  }
 ],
 "metadata": {
  "kernelspec": {
   "display_name": "Python 3 (ipykernel)",
   "language": "python",
   "name": "python3"
  },
  "language_info": {
   "codemirror_mode": {
    "name": "ipython",
    "version": 3
   },
   "file_extension": ".py",
   "mimetype": "text/x-python",
   "name": "python",
   "nbconvert_exporter": "python",
   "pygments_lexer": "ipython3",
   "version": "3.8.3"
  }
 },
 "nbformat": 4,
 "nbformat_minor": 5
}
