{
 "cells": [
  {
   "cell_type": "code",
   "execution_count": 1,
   "id": "f0e28297-3700-4e8e-8ada-019c71e8e4f6",
   "metadata": {
    "scrolled": true
   },
   "outputs": [
    {
     "name": "stdout",
     "output_type": "stream",
     "text": [
      "Collecting openai\n",
      "  Downloading openai-1.33.0-py3-none-any.whl.metadata (21 kB)\n",
      "Collecting anyio<5,>=3.5.0 (from openai)\n",
      "  Downloading anyio-4.4.0-py3-none-any.whl.metadata (4.6 kB)\n",
      "Collecting distro<2,>=1.7.0 (from openai)\n",
      "  Downloading distro-1.9.0-py3-none-any.whl.metadata (6.8 kB)\n",
      "Collecting httpx<1,>=0.23.0 (from openai)\n",
      "  Downloading httpx-0.27.0-py3-none-any.whl.metadata (7.2 kB)\n",
      "Collecting pydantic<3,>=1.9.0 (from openai)\n",
      "  Downloading pydantic-2.7.3-py3-none-any.whl.metadata (108 kB)\n",
      "\u001b[2K     \u001b[90m━━━━━━━━━━━━━━━━━━━━━━━━━━━━━━━━━━━━━━━\u001b[0m \u001b[32m109.0/109.0 kB\u001b[0m \u001b[31m4.8 MB/s\u001b[0m eta \u001b[36m0:00:00\u001b[0m\n",
      "\u001b[?25hRequirement already satisfied: sniffio in /Users/ignatiocalvin/anaconda3/envs/dowJones/lib/python3.9/site-packages (from openai) (1.3.1)\n",
      "Requirement already satisfied: tqdm>4 in /Users/ignatiocalvin/anaconda3/envs/dowJones/lib/python3.9/site-packages (from openai) (4.66.4)\n",
      "Requirement already satisfied: typing-extensions<5,>=4.7 in /Users/ignatiocalvin/anaconda3/envs/dowJones/lib/python3.9/site-packages (from openai) (4.10.0)\n",
      "Requirement already satisfied: idna>=2.8 in /Users/ignatiocalvin/anaconda3/envs/dowJones/lib/python3.9/site-packages (from anyio<5,>=3.5.0->openai) (3.6)\n",
      "Requirement already satisfied: exceptiongroup>=1.0.2 in /Users/ignatiocalvin/anaconda3/envs/dowJones/lib/python3.9/site-packages (from anyio<5,>=3.5.0->openai) (1.2.0)\n",
      "Requirement already satisfied: certifi in /Users/ignatiocalvin/anaconda3/envs/dowJones/lib/python3.9/site-packages (from httpx<1,>=0.23.0->openai) (2024.2.2)\n",
      "Collecting httpcore==1.* (from httpx<1,>=0.23.0->openai)\n",
      "  Downloading httpcore-1.0.5-py3-none-any.whl.metadata (20 kB)\n",
      "Requirement already satisfied: h11<0.15,>=0.13 in /Users/ignatiocalvin/anaconda3/envs/dowJones/lib/python3.9/site-packages (from httpcore==1.*->httpx<1,>=0.23.0->openai) (0.14.0)\n",
      "Collecting annotated-types>=0.4.0 (from pydantic<3,>=1.9.0->openai)\n",
      "  Downloading annotated_types-0.7.0-py3-none-any.whl.metadata (15 kB)\n",
      "Collecting pydantic-core==2.18.4 (from pydantic<3,>=1.9.0->openai)\n",
      "  Downloading pydantic_core-2.18.4-cp39-cp39-macosx_11_0_arm64.whl.metadata (6.5 kB)\n",
      "Downloading openai-1.33.0-py3-none-any.whl (325 kB)\n",
      "\u001b[2K   \u001b[90m━━━━━━━━━━━━━━━━━━━━━━━━━━━━━━━━━━━━━━━━\u001b[0m \u001b[32m325.5/325.5 kB\u001b[0m \u001b[31m11.1 MB/s\u001b[0m eta \u001b[36m0:00:00\u001b[0m\n",
      "\u001b[?25hDownloading anyio-4.4.0-py3-none-any.whl (86 kB)\n",
      "\u001b[2K   \u001b[90m━━━━━━━━━━━━━━━━━━━━━━━━━━━━━━━━━━━━━━━━\u001b[0m \u001b[32m86.8/86.8 kB\u001b[0m \u001b[31m10.1 MB/s\u001b[0m eta \u001b[36m0:00:00\u001b[0m\n",
      "\u001b[?25hDownloading distro-1.9.0-py3-none-any.whl (20 kB)\n",
      "Downloading httpx-0.27.0-py3-none-any.whl (75 kB)\n",
      "\u001b[2K   \u001b[90m━━━━━━━━━━━━━━━━━━━━━━━━━━━━━━━━━━━━━━━━\u001b[0m \u001b[32m75.6/75.6 kB\u001b[0m \u001b[31m11.8 MB/s\u001b[0m eta \u001b[36m0:00:00\u001b[0m\n",
      "\u001b[?25hDownloading httpcore-1.0.5-py3-none-any.whl (77 kB)\n",
      "\u001b[2K   \u001b[90m━━━━━━━━━━━━━━━━━━━━━━━━━━━━━━━━━━━━━━━━\u001b[0m \u001b[32m77.9/77.9 kB\u001b[0m \u001b[31m12.0 MB/s\u001b[0m eta \u001b[36m0:00:00\u001b[0m\n",
      "\u001b[?25hDownloading pydantic-2.7.3-py3-none-any.whl (409 kB)\n",
      "\u001b[2K   \u001b[90m━━━━━━━━━━━━━━━━━━━━━━━━━━━━━━━━━━━━━━━━\u001b[0m \u001b[32m409.6/409.6 kB\u001b[0m \u001b[31m19.7 MB/s\u001b[0m eta \u001b[36m0:00:00\u001b[0m\n",
      "\u001b[?25hDownloading pydantic_core-2.18.4-cp39-cp39-macosx_11_0_arm64.whl (1.7 MB)\n",
      "\u001b[2K   \u001b[90m━━━━━━━━━━━━━━━━━━━━━━━━━━━━━━━━━━━━━━━━\u001b[0m \u001b[32m1.7/1.7 MB\u001b[0m \u001b[31m27.3 MB/s\u001b[0m eta \u001b[36m0:00:00\u001b[0ma \u001b[36m0:00:01\u001b[0m\n",
      "\u001b[?25hDownloading annotated_types-0.7.0-py3-none-any.whl (13 kB)\n",
      "Installing collected packages: pydantic-core, httpcore, distro, anyio, annotated-types, pydantic, httpx, openai\n",
      "Successfully installed annotated-types-0.7.0 anyio-4.4.0 distro-1.9.0 httpcore-1.0.5 httpx-0.27.0 openai-1.33.0 pydantic-2.7.3 pydantic-core-2.18.4\n",
      "Collecting langchain\n",
      "  Downloading langchain-0.2.3-py3-none-any.whl.metadata (6.9 kB)\n",
      "Requirement already satisfied: PyYAML>=5.3 in /Users/ignatiocalvin/anaconda3/envs/dowJones/lib/python3.9/site-packages (from langchain) (6.0.1)\n",
      "Collecting SQLAlchemy<3,>=1.4 (from langchain)\n",
      "  Downloading SQLAlchemy-2.0.30-cp39-cp39-macosx_11_0_arm64.whl.metadata (9.6 kB)\n",
      "Collecting aiohttp<4.0.0,>=3.8.3 (from langchain)\n",
      "  Using cached aiohttp-3.9.5-cp39-cp39-macosx_11_0_arm64.whl.metadata (7.5 kB)\n",
      "Collecting async-timeout<5.0.0,>=4.0.0 (from langchain)\n",
      "  Using cached async_timeout-4.0.3-py3-none-any.whl.metadata (4.2 kB)\n",
      "Collecting langchain-core<0.3.0,>=0.2.0 (from langchain)\n",
      "  Downloading langchain_core-0.2.5-py3-none-any.whl.metadata (5.8 kB)\n",
      "Collecting langchain-text-splitters<0.3.0,>=0.2.0 (from langchain)\n",
      "  Downloading langchain_text_splitters-0.2.1-py3-none-any.whl.metadata (2.2 kB)\n",
      "Collecting langsmith<0.2.0,>=0.1.17 (from langchain)\n",
      "  Downloading langsmith-0.1.75-py3-none-any.whl.metadata (13 kB)\n",
      "Requirement already satisfied: numpy<2,>=1 in /Users/ignatiocalvin/anaconda3/envs/dowJones/lib/python3.9/site-packages (from langchain) (1.26.4)\n",
      "Requirement already satisfied: pydantic<3,>=1 in /Users/ignatiocalvin/anaconda3/envs/dowJones/lib/python3.9/site-packages (from langchain) (2.7.3)\n",
      "Requirement already satisfied: requests<3,>=2 in /Users/ignatiocalvin/anaconda3/envs/dowJones/lib/python3.9/site-packages (from langchain) (2.31.0)\n",
      "Requirement already satisfied: tenacity<9.0.0,>=8.1.0 in /Users/ignatiocalvin/anaconda3/envs/dowJones/lib/python3.9/site-packages (from langchain) (8.2.3)\n",
      "Collecting aiosignal>=1.1.2 (from aiohttp<4.0.0,>=3.8.3->langchain)\n",
      "  Using cached aiosignal-1.3.1-py3-none-any.whl.metadata (4.0 kB)\n",
      "Requirement already satisfied: attrs>=17.3.0 in /Users/ignatiocalvin/anaconda3/envs/dowJones/lib/python3.9/site-packages (from aiohttp<4.0.0,>=3.8.3->langchain) (23.2.0)\n",
      "Collecting frozenlist>=1.1.1 (from aiohttp<4.0.0,>=3.8.3->langchain)\n",
      "  Using cached frozenlist-1.4.1-cp39-cp39-macosx_11_0_arm64.whl.metadata (12 kB)\n",
      "Collecting multidict<7.0,>=4.5 (from aiohttp<4.0.0,>=3.8.3->langchain)\n",
      "  Using cached multidict-6.0.5-cp39-cp39-macosx_11_0_arm64.whl.metadata (4.2 kB)\n",
      "Collecting yarl<2.0,>=1.0 (from aiohttp<4.0.0,>=3.8.3->langchain)\n",
      "  Using cached yarl-1.9.4-cp39-cp39-macosx_11_0_arm64.whl.metadata (31 kB)\n",
      "Collecting jsonpatch<2.0,>=1.33 (from langchain-core<0.3.0,>=0.2.0->langchain)\n",
      "  Using cached jsonpatch-1.33-py2.py3-none-any.whl.metadata (3.0 kB)\n",
      "Requirement already satisfied: packaging<24.0,>=23.2 in /Users/ignatiocalvin/anaconda3/envs/dowJones/lib/python3.9/site-packages (from langchain-core<0.3.0,>=0.2.0->langchain) (23.2)\n",
      "Collecting orjson<4.0.0,>=3.9.14 (from langsmith<0.2.0,>=0.1.17->langchain)\n",
      "  Downloading orjson-3.10.4-cp39-cp39-macosx_10_15_x86_64.macosx_11_0_arm64.macosx_10_15_universal2.whl.metadata (49 kB)\n",
      "\u001b[2K     \u001b[90m━━━━━━━━━━━━━━━━━━━━━━━━━━━━━━━━━━━━━━━━\u001b[0m \u001b[32m49.7/49.7 kB\u001b[0m \u001b[31m1.9 MB/s\u001b[0m eta \u001b[36m0:00:00\u001b[0m\n",
      "\u001b[?25hRequirement already satisfied: annotated-types>=0.4.0 in /Users/ignatiocalvin/anaconda3/envs/dowJones/lib/python3.9/site-packages (from pydantic<3,>=1->langchain) (0.7.0)\n",
      "Requirement already satisfied: pydantic-core==2.18.4 in /Users/ignatiocalvin/anaconda3/envs/dowJones/lib/python3.9/site-packages (from pydantic<3,>=1->langchain) (2.18.4)\n",
      "Requirement already satisfied: typing-extensions>=4.6.1 in /Users/ignatiocalvin/anaconda3/envs/dowJones/lib/python3.9/site-packages (from pydantic<3,>=1->langchain) (4.10.0)\n",
      "Requirement already satisfied: charset-normalizer<4,>=2 in /Users/ignatiocalvin/anaconda3/envs/dowJones/lib/python3.9/site-packages (from requests<3,>=2->langchain) (3.3.2)\n",
      "Requirement already satisfied: idna<4,>=2.5 in /Users/ignatiocalvin/anaconda3/envs/dowJones/lib/python3.9/site-packages (from requests<3,>=2->langchain) (3.6)\n",
      "Requirement already satisfied: urllib3<3,>=1.21.1 in /Users/ignatiocalvin/anaconda3/envs/dowJones/lib/python3.9/site-packages (from requests<3,>=2->langchain) (2.2.1)\n",
      "Requirement already satisfied: certifi>=2017.4.17 in /Users/ignatiocalvin/anaconda3/envs/dowJones/lib/python3.9/site-packages (from requests<3,>=2->langchain) (2024.2.2)\n",
      "Collecting jsonpointer>=1.9 (from jsonpatch<2.0,>=1.33->langchain-core<0.3.0,>=0.2.0->langchain)\n",
      "  Downloading jsonpointer-3.0.0-py2.py3-none-any.whl.metadata (2.3 kB)\n",
      "Downloading langchain-0.2.3-py3-none-any.whl (974 kB)\n",
      "\u001b[2K   \u001b[90m━━━━━━━━━━━━━━━━━━━━━━━━━━━━━━━━━━━━━━━━\u001b[0m \u001b[32m974.0/974.0 kB\u001b[0m \u001b[31m14.3 MB/s\u001b[0m eta \u001b[36m0:00:00\u001b[0ma \u001b[36m0:00:01\u001b[0m\n",
      "\u001b[?25hUsing cached aiohttp-3.9.5-cp39-cp39-macosx_11_0_arm64.whl (390 kB)\n",
      "Using cached async_timeout-4.0.3-py3-none-any.whl (5.7 kB)\n",
      "Downloading langchain_core-0.2.5-py3-none-any.whl (314 kB)\n",
      "\u001b[2K   \u001b[90m━━━━━━━━━━━━━━━━━━━━━━━━━━━━━━━━━━━━━━━━\u001b[0m \u001b[32m314.7/314.7 kB\u001b[0m \u001b[31m18.7 MB/s\u001b[0m eta \u001b[36m0:00:00\u001b[0m\n",
      "\u001b[?25hDownloading langchain_text_splitters-0.2.1-py3-none-any.whl (23 kB)\n",
      "Downloading langsmith-0.1.75-py3-none-any.whl (124 kB)\n",
      "\u001b[2K   \u001b[90m━━━━━━━━━━━━━━━━━━━━━━━━━━━━━━━━━━━━━━━━\u001b[0m \u001b[32m124.9/124.9 kB\u001b[0m \u001b[31m12.2 MB/s\u001b[0m eta \u001b[36m0:00:00\u001b[0m\n",
      "\u001b[?25hDownloading SQLAlchemy-2.0.30-cp39-cp39-macosx_11_0_arm64.whl (2.1 MB)\n",
      "\u001b[2K   \u001b[90m━━━━━━━━━━━━━━━━━━━━━━━━━━━━━━━━━━━━━━━━\u001b[0m \u001b[32m2.1/2.1 MB\u001b[0m \u001b[31m30.1 MB/s\u001b[0m eta \u001b[36m0:00:00\u001b[0ma \u001b[36m0:00:01\u001b[0m\n",
      "\u001b[?25hUsing cached aiosignal-1.3.1-py3-none-any.whl (7.6 kB)\n",
      "Using cached frozenlist-1.4.1-cp39-cp39-macosx_11_0_arm64.whl (53 kB)\n",
      "Using cached jsonpatch-1.33-py2.py3-none-any.whl (12 kB)\n",
      "Using cached multidict-6.0.5-cp39-cp39-macosx_11_0_arm64.whl (30 kB)\n",
      "Downloading orjson-3.10.4-cp39-cp39-macosx_10_15_x86_64.macosx_11_0_arm64.macosx_10_15_universal2.whl (253 kB)\n",
      "\u001b[2K   \u001b[90m━━━━━━━━━━━━━━━━━━━━━━━━━━━━━━━━━━━━━━━━\u001b[0m \u001b[32m253.7/253.7 kB\u001b[0m \u001b[31m21.1 MB/s\u001b[0m eta \u001b[36m0:00:00\u001b[0m\n",
      "\u001b[?25hUsing cached yarl-1.9.4-cp39-cp39-macosx_11_0_arm64.whl (81 kB)\n",
      "Downloading jsonpointer-3.0.0-py2.py3-none-any.whl (7.6 kB)\n",
      "Installing collected packages: SQLAlchemy, orjson, multidict, jsonpointer, frozenlist, async-timeout, yarl, jsonpatch, aiosignal, langsmith, aiohttp, langchain-core, langchain-text-splitters, langchain\n",
      "Successfully installed SQLAlchemy-2.0.30 aiohttp-3.9.5 aiosignal-1.3.1 async-timeout-4.0.3 frozenlist-1.4.1 jsonpatch-1.33 jsonpointer-3.0.0 langchain-0.2.3 langchain-core-0.2.5 langchain-text-splitters-0.2.1 langsmith-0.1.75 multidict-6.0.5 orjson-3.10.4 yarl-1.9.4\n",
      "Collecting eodhd\n",
      "  Downloading eodhd-1.0.30-py3-none-any.whl.metadata (1.6 kB)\n",
      "Collecting websockets>=11.0.3 (from eodhd)\n",
      "  Downloading websockets-12.0-cp39-cp39-macosx_11_0_arm64.whl.metadata (6.6 kB)\n",
      "Collecting websocket-client>=1.6.3 (from eodhd)\n",
      "  Downloading websocket_client-1.8.0-py3-none-any.whl.metadata (8.0 kB)\n",
      "Requirement already satisfied: requests>=2.31.0 in /Users/ignatiocalvin/anaconda3/envs/dowJones/lib/python3.9/site-packages (from eodhd) (2.31.0)\n",
      "Requirement already satisfied: rich>=13.5.2 in /Users/ignatiocalvin/anaconda3/envs/dowJones/lib/python3.9/site-packages (from eodhd) (13.7.1)\n",
      "Requirement already satisfied: pandas>=2.1.0 in /Users/ignatiocalvin/anaconda3/envs/dowJones/lib/python3.9/site-packages (from eodhd) (2.2.1)\n",
      "Requirement already satisfied: numpy>=1.25.2 in /Users/ignatiocalvin/anaconda3/envs/dowJones/lib/python3.9/site-packages (from eodhd) (1.26.4)\n",
      "Requirement already satisfied: matplotlib>=3.7.2 in /Users/ignatiocalvin/anaconda3/envs/dowJones/lib/python3.9/site-packages (from eodhd) (3.8.4)\n",
      "Requirement already satisfied: contourpy>=1.0.1 in /Users/ignatiocalvin/anaconda3/envs/dowJones/lib/python3.9/site-packages (from matplotlib>=3.7.2->eodhd) (1.2.1)\n",
      "Requirement already satisfied: cycler>=0.10 in /Users/ignatiocalvin/anaconda3/envs/dowJones/lib/python3.9/site-packages (from matplotlib>=3.7.2->eodhd) (0.12.1)\n",
      "Requirement already satisfied: fonttools>=4.22.0 in /Users/ignatiocalvin/anaconda3/envs/dowJones/lib/python3.9/site-packages (from matplotlib>=3.7.2->eodhd) (4.51.0)\n",
      "Requirement already satisfied: kiwisolver>=1.3.1 in /Users/ignatiocalvin/anaconda3/envs/dowJones/lib/python3.9/site-packages (from matplotlib>=3.7.2->eodhd) (1.4.5)\n",
      "Requirement already satisfied: packaging>=20.0 in /Users/ignatiocalvin/anaconda3/envs/dowJones/lib/python3.9/site-packages (from matplotlib>=3.7.2->eodhd) (23.2)\n",
      "Requirement already satisfied: pillow>=8 in /Users/ignatiocalvin/anaconda3/envs/dowJones/lib/python3.9/site-packages (from matplotlib>=3.7.2->eodhd) (10.3.0)\n",
      "Requirement already satisfied: pyparsing>=2.3.1 in /Users/ignatiocalvin/anaconda3/envs/dowJones/lib/python3.9/site-packages (from matplotlib>=3.7.2->eodhd) (3.1.2)\n",
      "Requirement already satisfied: python-dateutil>=2.7 in /Users/ignatiocalvin/anaconda3/envs/dowJones/lib/python3.9/site-packages (from matplotlib>=3.7.2->eodhd) (2.9.0)\n",
      "Requirement already satisfied: importlib-resources>=3.2.0 in /Users/ignatiocalvin/anaconda3/envs/dowJones/lib/python3.9/site-packages (from matplotlib>=3.7.2->eodhd) (6.4.0)\n",
      "Requirement already satisfied: pytz>=2020.1 in /Users/ignatiocalvin/anaconda3/envs/dowJones/lib/python3.9/site-packages (from pandas>=2.1.0->eodhd) (2024.1)\n",
      "Requirement already satisfied: tzdata>=2022.7 in /Users/ignatiocalvin/anaconda3/envs/dowJones/lib/python3.9/site-packages (from pandas>=2.1.0->eodhd) (2024.1)\n",
      "Requirement already satisfied: charset-normalizer<4,>=2 in /Users/ignatiocalvin/anaconda3/envs/dowJones/lib/python3.9/site-packages (from requests>=2.31.0->eodhd) (3.3.2)\n",
      "Requirement already satisfied: idna<4,>=2.5 in /Users/ignatiocalvin/anaconda3/envs/dowJones/lib/python3.9/site-packages (from requests>=2.31.0->eodhd) (3.6)\n",
      "Requirement already satisfied: urllib3<3,>=1.21.1 in /Users/ignatiocalvin/anaconda3/envs/dowJones/lib/python3.9/site-packages (from requests>=2.31.0->eodhd) (2.2.1)\n",
      "Requirement already satisfied: certifi>=2017.4.17 in /Users/ignatiocalvin/anaconda3/envs/dowJones/lib/python3.9/site-packages (from requests>=2.31.0->eodhd) (2024.2.2)\n",
      "Requirement already satisfied: markdown-it-py>=2.2.0 in /Users/ignatiocalvin/anaconda3/envs/dowJones/lib/python3.9/site-packages (from rich>=13.5.2->eodhd) (3.0.0)\n",
      "Requirement already satisfied: pygments<3.0.0,>=2.13.0 in /Users/ignatiocalvin/anaconda3/envs/dowJones/lib/python3.9/site-packages (from rich>=13.5.2->eodhd) (2.17.2)\n",
      "Requirement already satisfied: zipp>=3.1.0 in /Users/ignatiocalvin/anaconda3/envs/dowJones/lib/python3.9/site-packages (from importlib-resources>=3.2.0->matplotlib>=3.7.2->eodhd) (3.17.0)\n",
      "Requirement already satisfied: mdurl~=0.1 in /Users/ignatiocalvin/anaconda3/envs/dowJones/lib/python3.9/site-packages (from markdown-it-py>=2.2.0->rich>=13.5.2->eodhd) (0.1.2)\n",
      "Requirement already satisfied: six>=1.5 in /Users/ignatiocalvin/anaconda3/envs/dowJones/lib/python3.9/site-packages (from python-dateutil>=2.7->matplotlib>=3.7.2->eodhd) (1.16.0)\n",
      "Downloading eodhd-1.0.30-py3-none-any.whl (29 kB)\n",
      "Downloading websocket_client-1.8.0-py3-none-any.whl (58 kB)\n",
      "\u001b[2K   \u001b[90m━━━━━━━━━━━━━━━━━━━━━━━━━━━━━━━━━━━━━━━━\u001b[0m \u001b[32m58.8/58.8 kB\u001b[0m \u001b[31m4.0 MB/s\u001b[0m eta \u001b[36m0:00:00\u001b[0m\n",
      "\u001b[?25hDownloading websockets-12.0-cp39-cp39-macosx_11_0_arm64.whl (121 kB)\n",
      "\u001b[2K   \u001b[90m━━━━━━━━━━━━━━━━━━━━━━━━━━━━━━━━━━━━━━━━\u001b[0m \u001b[32m121.3/121.3 kB\u001b[0m \u001b[31m8.7 MB/s\u001b[0m eta \u001b[36m0:00:00\u001b[0m\n",
      "\u001b[?25hInstalling collected packages: websockets, websocket-client, eodhd\n",
      "Successfully installed eodhd-1.0.30 websocket-client-1.8.0 websockets-12.0\n",
      "Collecting config\n",
      "  Downloading config-0.5.1-py2.py3-none-any.whl.metadata (1.4 kB)\n",
      "Downloading config-0.5.1-py2.py3-none-any.whl (20 kB)\n",
      "Installing collected packages: config\n",
      "Successfully installed config-0.5.1\n"
     ]
    }
   ],
   "source": [
    "!pip install openai\n",
    "!pip install langchain\n",
    "!pip install eodhd\n",
    "!pip install config"
   ]
  },
  {
   "cell_type": "code",
   "execution_count": 3,
   "id": "ae31e51e-d165-4739-8ec7-775b5918a298",
   "metadata": {
    "scrolled": true
   },
   "outputs": [
    {
     "name": "stdout",
     "output_type": "stream",
     "text": [
      "Collecting langchain-community\n",
      "  Downloading langchain_community-0.2.4-py3-none-any.whl.metadata (2.4 kB)\n",
      "Requirement already satisfied: langchain-core in /Users/ignatiocalvin/anaconda3/envs/dowJones/lib/python3.9/site-packages (0.2.5)\n",
      "Requirement already satisfied: PyYAML>=5.3 in /Users/ignatiocalvin/anaconda3/envs/dowJones/lib/python3.9/site-packages (from langchain-community) (6.0.1)\n",
      "Requirement already satisfied: SQLAlchemy<3,>=1.4 in /Users/ignatiocalvin/anaconda3/envs/dowJones/lib/python3.9/site-packages (from langchain-community) (2.0.30)\n",
      "Requirement already satisfied: aiohttp<4.0.0,>=3.8.3 in /Users/ignatiocalvin/anaconda3/envs/dowJones/lib/python3.9/site-packages (from langchain-community) (3.9.5)\n",
      "Collecting dataclasses-json<0.7,>=0.5.7 (from langchain-community)\n",
      "  Downloading dataclasses_json-0.6.7-py3-none-any.whl.metadata (25 kB)\n",
      "Requirement already satisfied: langchain<0.3.0,>=0.2.0 in /Users/ignatiocalvin/anaconda3/envs/dowJones/lib/python3.9/site-packages (from langchain-community) (0.2.3)\n",
      "Requirement already satisfied: langsmith<0.2.0,>=0.1.0 in /Users/ignatiocalvin/anaconda3/envs/dowJones/lib/python3.9/site-packages (from langchain-community) (0.1.75)\n",
      "Requirement already satisfied: numpy<2,>=1 in /Users/ignatiocalvin/anaconda3/envs/dowJones/lib/python3.9/site-packages (from langchain-community) (1.26.4)\n",
      "Requirement already satisfied: requests<3,>=2 in /Users/ignatiocalvin/anaconda3/envs/dowJones/lib/python3.9/site-packages (from langchain-community) (2.31.0)\n",
      "Requirement already satisfied: tenacity<9.0.0,>=8.1.0 in /Users/ignatiocalvin/anaconda3/envs/dowJones/lib/python3.9/site-packages (from langchain-community) (8.2.3)\n",
      "Requirement already satisfied: jsonpatch<2.0,>=1.33 in /Users/ignatiocalvin/anaconda3/envs/dowJones/lib/python3.9/site-packages (from langchain-core) (1.33)\n",
      "Requirement already satisfied: packaging<24.0,>=23.2 in /Users/ignatiocalvin/anaconda3/envs/dowJones/lib/python3.9/site-packages (from langchain-core) (23.2)\n",
      "Requirement already satisfied: pydantic<3,>=1 in /Users/ignatiocalvin/anaconda3/envs/dowJones/lib/python3.9/site-packages (from langchain-core) (2.7.3)\n",
      "Requirement already satisfied: aiosignal>=1.1.2 in /Users/ignatiocalvin/anaconda3/envs/dowJones/lib/python3.9/site-packages (from aiohttp<4.0.0,>=3.8.3->langchain-community) (1.3.1)\n",
      "Requirement already satisfied: attrs>=17.3.0 in /Users/ignatiocalvin/anaconda3/envs/dowJones/lib/python3.9/site-packages (from aiohttp<4.0.0,>=3.8.3->langchain-community) (23.2.0)\n",
      "Requirement already satisfied: frozenlist>=1.1.1 in /Users/ignatiocalvin/anaconda3/envs/dowJones/lib/python3.9/site-packages (from aiohttp<4.0.0,>=3.8.3->langchain-community) (1.4.1)\n",
      "Requirement already satisfied: multidict<7.0,>=4.5 in /Users/ignatiocalvin/anaconda3/envs/dowJones/lib/python3.9/site-packages (from aiohttp<4.0.0,>=3.8.3->langchain-community) (6.0.5)\n",
      "Requirement already satisfied: yarl<2.0,>=1.0 in /Users/ignatiocalvin/anaconda3/envs/dowJones/lib/python3.9/site-packages (from aiohttp<4.0.0,>=3.8.3->langchain-community) (1.9.4)\n",
      "Requirement already satisfied: async-timeout<5.0,>=4.0 in /Users/ignatiocalvin/anaconda3/envs/dowJones/lib/python3.9/site-packages (from aiohttp<4.0.0,>=3.8.3->langchain-community) (4.0.3)\n",
      "Collecting marshmallow<4.0.0,>=3.18.0 (from dataclasses-json<0.7,>=0.5.7->langchain-community)\n",
      "  Downloading marshmallow-3.21.3-py3-none-any.whl.metadata (7.1 kB)\n",
      "Collecting typing-inspect<1,>=0.4.0 (from dataclasses-json<0.7,>=0.5.7->langchain-community)\n",
      "  Downloading typing_inspect-0.9.0-py3-none-any.whl.metadata (1.5 kB)\n",
      "Requirement already satisfied: jsonpointer>=1.9 in /Users/ignatiocalvin/anaconda3/envs/dowJones/lib/python3.9/site-packages (from jsonpatch<2.0,>=1.33->langchain-core) (3.0.0)\n",
      "Requirement already satisfied: langchain-text-splitters<0.3.0,>=0.2.0 in /Users/ignatiocalvin/anaconda3/envs/dowJones/lib/python3.9/site-packages (from langchain<0.3.0,>=0.2.0->langchain-community) (0.2.1)\n",
      "Requirement already satisfied: orjson<4.0.0,>=3.9.14 in /Users/ignatiocalvin/anaconda3/envs/dowJones/lib/python3.9/site-packages (from langsmith<0.2.0,>=0.1.0->langchain-community) (3.10.4)\n",
      "Requirement already satisfied: annotated-types>=0.4.0 in /Users/ignatiocalvin/anaconda3/envs/dowJones/lib/python3.9/site-packages (from pydantic<3,>=1->langchain-core) (0.7.0)\n",
      "Requirement already satisfied: pydantic-core==2.18.4 in /Users/ignatiocalvin/anaconda3/envs/dowJones/lib/python3.9/site-packages (from pydantic<3,>=1->langchain-core) (2.18.4)\n",
      "Requirement already satisfied: typing-extensions>=4.6.1 in /Users/ignatiocalvin/anaconda3/envs/dowJones/lib/python3.9/site-packages (from pydantic<3,>=1->langchain-core) (4.10.0)\n",
      "Requirement already satisfied: charset-normalizer<4,>=2 in /Users/ignatiocalvin/anaconda3/envs/dowJones/lib/python3.9/site-packages (from requests<3,>=2->langchain-community) (3.3.2)\n",
      "Requirement already satisfied: idna<4,>=2.5 in /Users/ignatiocalvin/anaconda3/envs/dowJones/lib/python3.9/site-packages (from requests<3,>=2->langchain-community) (3.6)\n",
      "Requirement already satisfied: urllib3<3,>=1.21.1 in /Users/ignatiocalvin/anaconda3/envs/dowJones/lib/python3.9/site-packages (from requests<3,>=2->langchain-community) (2.2.1)\n",
      "Requirement already satisfied: certifi>=2017.4.17 in /Users/ignatiocalvin/anaconda3/envs/dowJones/lib/python3.9/site-packages (from requests<3,>=2->langchain-community) (2024.2.2)\n",
      "Collecting mypy-extensions>=0.3.0 (from typing-inspect<1,>=0.4.0->dataclasses-json<0.7,>=0.5.7->langchain-community)\n",
      "  Downloading mypy_extensions-1.0.0-py3-none-any.whl.metadata (1.1 kB)\n",
      "Downloading langchain_community-0.2.4-py3-none-any.whl (2.2 MB)\n",
      "\u001b[2K   \u001b[90m━━━━━━━━━━━━━━━━━━━━━━━━━━━━━━━━━━━━━━━━\u001b[0m \u001b[32m2.2/2.2 MB\u001b[0m \u001b[31m20.1 MB/s\u001b[0m eta \u001b[36m0:00:00\u001b[0ma \u001b[36m0:00:01\u001b[0m\n",
      "\u001b[?25hDownloading dataclasses_json-0.6.7-py3-none-any.whl (28 kB)\n",
      "Downloading marshmallow-3.21.3-py3-none-any.whl (49 kB)\n",
      "\u001b[2K   \u001b[90m━━━━━━━━━━━━━━━━━━━━━━━━━━━━━━━━━━━━━━━━\u001b[0m \u001b[32m49.2/49.2 kB\u001b[0m \u001b[31m6.0 MB/s\u001b[0m eta \u001b[36m0:00:00\u001b[0m\n",
      "\u001b[?25hDownloading typing_inspect-0.9.0-py3-none-any.whl (8.8 kB)\n",
      "Downloading mypy_extensions-1.0.0-py3-none-any.whl (4.7 kB)\n",
      "Installing collected packages: mypy-extensions, marshmallow, typing-inspect, dataclasses-json, langchain-community\n",
      "Successfully installed dataclasses-json-0.6.7 langchain-community-0.2.4 marshmallow-3.21.3 mypy-extensions-1.0.0 typing-inspect-0.9.0\n"
     ]
    }
   ],
   "source": [
    "!pip install langchain-community langchain-core"
   ]
  },
  {
   "cell_type": "code",
   "execution_count": 4,
   "id": "1bcf41ae-9e70-4648-9388-160fda9f082a",
   "metadata": {
    "scrolled": true
   },
   "outputs": [],
   "source": [
    "import re\n",
    "import requests\n",
    "import pandas as pd\n",
    "import config as cfg\n",
    "from eodhd import APIClient\n",
    "from langchain.chains import LLMChain\n",
    "from langchain.prompts import PromptTemplate\n",
    "from langchain.chat_models import ChatOpenAI"
   ]
  },
  {
   "cell_type": "code",
   "execution_count": 8,
   "id": "be26e76e-f13f-4fa6-ab4e-32d6c4335856",
   "metadata": {},
   "outputs": [
    {
     "name": "stderr",
     "output_type": "stream",
     "text": [
      "[nltk_data] Downloading package stopwords to\n",
      "[nltk_data]     /Users/ignatiocalvin/nltk_data...\n",
      "[nltk_data]   Package stopwords is already up-to-date!\n"
     ]
    },
    {
     "data": {
      "text/html": [
       "<div>\n",
       "<style scoped>\n",
       "    .dataframe tbody tr th:only-of-type {\n",
       "        vertical-align: middle;\n",
       "    }\n",
       "\n",
       "    .dataframe tbody tr th {\n",
       "        vertical-align: top;\n",
       "    }\n",
       "\n",
       "    .dataframe thead th {\n",
       "        text-align: right;\n",
       "    }\n",
       "</style>\n",
       "<table border=\"1\" class=\"dataframe\">\n",
       "  <thead>\n",
       "    <tr style=\"text-align: right;\">\n",
       "      <th></th>\n",
       "      <th>Text</th>\n",
       "    </tr>\n",
       "    <tr>\n",
       "      <th>Date</th>\n",
       "      <th></th>\n",
       "    </tr>\n",
       "  </thead>\n",
       "  <tbody>\n",
       "    <tr>\n",
       "      <th>2008-08-08</th>\n",
       "      <td>b \" georgia ' downs two russian warplanes ' co...</td>\n",
       "    </tr>\n",
       "    <tr>\n",
       "      <th>2008-08-11</th>\n",
       "      <td>b ' wont america nato help us ? wont help us ,...</td>\n",
       "    </tr>\n",
       "    <tr>\n",
       "      <th>2008-08-12</th>\n",
       "      <td>b ' remember adorable 9 - year - old sang open...</td>\n",
       "    </tr>\n",
       "    <tr>\n",
       "      <th>2008-08-13</th>\n",
       "      <td>b ' u . . refuses israel weapons attack iran :...</td>\n",
       "    </tr>\n",
       "    <tr>\n",
       "      <th>2008-08-14</th>\n",
       "      <td>b ' experts admit legalise drugs ' b ' experts...</td>\n",
       "    </tr>\n",
       "    <tr>\n",
       "      <th>...</th>\n",
       "      <td>...</td>\n",
       "    </tr>\n",
       "    <tr>\n",
       "      <th>2016-06-27</th>\n",
       "      <td>barclays rbs shares suspended trading tanking ...</td>\n",
       "    </tr>\n",
       "    <tr>\n",
       "      <th>2016-06-28</th>\n",
       "      <td>2 , 500 scientists australia : want save great...</td>\n",
       "    </tr>\n",
       "    <tr>\n",
       "      <th>2016-06-29</th>\n",
       "      <td>explosion airport istanbul explosion airport i...</td>\n",
       "    </tr>\n",
       "    <tr>\n",
       "      <th>2016-06-30</th>\n",
       "      <td>jamaica proposes marijuana dispensers tourists...</td>\n",
       "    </tr>\n",
       "    <tr>\n",
       "      <th>2016-07-01</th>\n",
       "      <td>117 - year - old woman mexico city finally rec...</td>\n",
       "    </tr>\n",
       "  </tbody>\n",
       "</table>\n",
       "<p>1989 rows × 1 columns</p>\n",
       "</div>"
      ],
      "text/plain": [
       "                                                         Text\n",
       "Date                                                         \n",
       "2008-08-08  b \" georgia ' downs two russian warplanes ' co...\n",
       "2008-08-11  b ' wont america nato help us ? wont help us ,...\n",
       "2008-08-12  b ' remember adorable 9 - year - old sang open...\n",
       "2008-08-13  b ' u . . refuses israel weapons attack iran :...\n",
       "2008-08-14  b ' experts admit legalise drugs ' b ' experts...\n",
       "...                                                       ...\n",
       "2016-06-27  barclays rbs shares suspended trading tanking ...\n",
       "2016-06-28  2 , 500 scientists australia : want save great...\n",
       "2016-06-29  explosion airport istanbul explosion airport i...\n",
       "2016-06-30  jamaica proposes marijuana dispensers tourists...\n",
       "2016-07-01  117 - year - old woman mexico city finally rec...\n",
       "\n",
       "[1989 rows x 1 columns]"
      ]
     },
     "execution_count": 8,
     "metadata": {},
     "output_type": "execute_result"
    }
   ],
   "source": [
    "import pandas as pd\n",
    "import numpy as np\n",
    "import nltk\n",
    "from nltk import WordPunctTokenizer\n",
    "from nltk.corpus import stopwords\n",
    "\n",
    "combined_news_djia = pd.read_csv('../data/Combined_News_DJIA.csv')\n",
    "for i in range(1, 25):\n",
    "    combined_news_djia[f'Top{i}'] = combined_news_djia[f'Top{i}'].apply(str)\n",
    "    combined_news_djia[f'Top{i}'].apply(lambda x: x[2:-1] if x[0]=='b' else x)\n",
    "    \n",
    "\n",
    "data = pd.DataFrame(columns=['Date', 'Text'])\n",
    "\n",
    "data['Date'] = combined_news_djia['Date']\n",
    "data['Text'] = combined_news_djia['Top1']\n",
    "\n",
    "for i in range(1, 25):\n",
    "    data['Text'] = data['Text'] + \" \" + combined_news_djia[f'Top{i}']\n",
    "\n",
    "\n",
    "data = data.set_index('Date')\n",
    "\n",
    "nltk.download('stopwords')\n",
    "tokenizer = WordPunctTokenizer()\n",
    "stop_words = set(stopwords.words('english'))\n",
    "\n",
    "def process_headline(x):\n",
    "    x = str(x)\n",
    "    return \" \".join([w.lower() for w in tokenizer.tokenize(x) if not w.lower() in stop_words])\n",
    "\n",
    "data['Text'] = data['Text'].apply(process_headline)\n",
    "data"
   ]
  },
  {
   "cell_type": "code",
   "execution_count": 12,
   "id": "a799de79-a5c9-4603-b4d0-fe6ecacb0daa",
   "metadata": {},
   "outputs": [],
   "source": [
    "llm = ChatOpenAI(model = \"gpt-3.5-turbo\",\n",
    "                 openai_api_key = '', \n",
    "                 temperature = 0)"
   ]
  },
  {
   "cell_type": "code",
   "execution_count": 13,
   "id": "744873da-aabd-48ea-a1ed-e2994216a5ec",
   "metadata": {},
   "outputs": [],
   "source": [
    "template = \"\"\"\n",
    "Identify the sentiment towards the Dow Jones (DJIA) stocks from the news article , where the sentiment score should be from -10 to +10 where -10 being the most negative and +10 being the most positve , and 0 being neutral\n",
    "\n",
    "Also give the proper explanation for your answers and how would it effect the prices of different stocks\n",
    "\n",
    "Article : {statement}\n",
    "\"\"\"\n",
    "\n",
    "# forming prompt using Langchain PromptTemplate functionality\n",
    "prompt = PromptTemplate(template = template, input_variables = [\"statement\"])\n",
    "llm_chain = LLMChain(prompt = prompt, llm = llm)"
   ]
  },
  {
   "cell_type": "code",
   "execution_count": 14,
   "id": "90a5b52c-0ba9-4225-b4ae-d7101a38dc32",
   "metadata": {},
   "outputs": [
    {
     "name": "stderr",
     "output_type": "stream",
     "text": [
      "/var/folders/nv/9r2j07yj4w7gpdqz5zp13j3m0000gn/T/ipykernel_62216/2885198212.py:1: FutureWarning: Series.__getitem__ treating keys as positions is deprecated. In a future version, integer keys will always be treated as labels (consistent with DataFrame behavior). To access a value by position, use `ser.iloc[pos]`\n",
      "  print(llm_chain.run(data['Text'][13]))\n"
     ]
    },
    {
     "name": "stdout",
     "output_type": "stream",
     "text": [
      "The sentiment towards the Dow Jones (DJIA) stocks from this news article is likely to be negative. The article contains a lot of negative and concerning news stories such as suicide bombings, political unrest, military conflicts, and natural disasters. These types of events can create uncertainty and instability in the global markets, leading to a decrease in investor confidence and potentially causing stock prices to decline.\n",
      "\n",
      "Investors may react to this negative sentiment by selling off their stocks, leading to a decrease in the overall value of the Dow Jones (DJIA) stocks. It is important for investors to closely monitor the news and global events that could impact the stock market and make informed decisions based on the current sentiment and market conditions.\n"
     ]
    }
   ],
   "source": [
    "print(llm_chain.run(data['Text'][13]))"
   ]
  },
  {
   "cell_type": "code",
   "execution_count": 15,
   "id": "e34090f9-7bf7-4289-a582-92bf47dc1d90",
   "metadata": {},
   "outputs": [],
   "source": [
    "# A function to count the number of tokens\n",
    "def count_tokens(text):\n",
    "    tokens = text.split()  \n",
    "    return len(tokens)"
   ]
  },
  {
   "cell_type": "code",
   "execution_count": 18,
   "id": "c6f0a04a-2f06-47c3-832a-52f97b16e45d",
   "metadata": {},
   "outputs": [
    {
     "data": {
      "text/html": [
       "<div>\n",
       "<style scoped>\n",
       "    .dataframe tbody tr th:only-of-type {\n",
       "        vertical-align: middle;\n",
       "    }\n",
       "\n",
       "    .dataframe tbody tr th {\n",
       "        vertical-align: top;\n",
       "    }\n",
       "\n",
       "    .dataframe thead th {\n",
       "        text-align: right;\n",
       "    }\n",
       "</style>\n",
       "<table border=\"1\" class=\"dataframe\">\n",
       "  <thead>\n",
       "    <tr style=\"text-align: right;\">\n",
       "      <th></th>\n",
       "      <th>Text</th>\n",
       "      <th>TokenCount</th>\n",
       "    </tr>\n",
       "    <tr>\n",
       "      <th>Date</th>\n",
       "      <th></th>\n",
       "      <th></th>\n",
       "    </tr>\n",
       "  </thead>\n",
       "  <tbody>\n",
       "    <tr>\n",
       "      <th>2008-08-08</th>\n",
       "      <td>b \" georgia ' downs two russian warplanes ' co...</td>\n",
       "      <td>385</td>\n",
       "    </tr>\n",
       "    <tr>\n",
       "      <th>2008-08-11</th>\n",
       "      <td>b ' wont america nato help us ? wont help us ,...</td>\n",
       "      <td>283</td>\n",
       "    </tr>\n",
       "    <tr>\n",
       "      <th>2008-08-12</th>\n",
       "      <td>b ' remember adorable 9 - year - old sang open...</td>\n",
       "      <td>348</td>\n",
       "    </tr>\n",
       "    <tr>\n",
       "      <th>2008-08-13</th>\n",
       "      <td>b ' u . . refuses israel weapons attack iran :...</td>\n",
       "      <td>339</td>\n",
       "    </tr>\n",
       "    <tr>\n",
       "      <th>2008-08-14</th>\n",
       "      <td>b ' experts admit legalise drugs ' b ' experts...</td>\n",
       "      <td>297</td>\n",
       "    </tr>\n",
       "    <tr>\n",
       "      <th>...</th>\n",
       "      <td>...</td>\n",
       "      <td>...</td>\n",
       "    </tr>\n",
       "    <tr>\n",
       "      <th>2016-06-27</th>\n",
       "      <td>barclays rbs shares suspended trading tanking ...</td>\n",
       "      <td>328</td>\n",
       "    </tr>\n",
       "    <tr>\n",
       "      <th>2016-06-28</th>\n",
       "      <td>2 , 500 scientists australia : want save great...</td>\n",
       "      <td>381</td>\n",
       "    </tr>\n",
       "    <tr>\n",
       "      <th>2016-06-29</th>\n",
       "      <td>explosion airport istanbul explosion airport i...</td>\n",
       "      <td>320</td>\n",
       "    </tr>\n",
       "    <tr>\n",
       "      <th>2016-06-30</th>\n",
       "      <td>jamaica proposes marijuana dispensers tourists...</td>\n",
       "      <td>378</td>\n",
       "    </tr>\n",
       "    <tr>\n",
       "      <th>2016-07-01</th>\n",
       "      <td>117 - year - old woman mexico city finally rec...</td>\n",
       "      <td>427</td>\n",
       "    </tr>\n",
       "  </tbody>\n",
       "</table>\n",
       "<p>1989 rows × 2 columns</p>\n",
       "</div>"
      ],
      "text/plain": [
       "                                                         Text  TokenCount\n",
       "Date                                                                     \n",
       "2008-08-08  b \" georgia ' downs two russian warplanes ' co...         385\n",
       "2008-08-11  b ' wont america nato help us ? wont help us ,...         283\n",
       "2008-08-12  b ' remember adorable 9 - year - old sang open...         348\n",
       "2008-08-13  b ' u . . refuses israel weapons attack iran :...         339\n",
       "2008-08-14  b ' experts admit legalise drugs ' b ' experts...         297\n",
       "...                                                       ...         ...\n",
       "2016-06-27  barclays rbs shares suspended trading tanking ...         328\n",
       "2016-06-28  2 , 500 scientists australia : want save great...         381\n",
       "2016-06-29  explosion airport istanbul explosion airport i...         320\n",
       "2016-06-30  jamaica proposes marijuana dispensers tourists...         378\n",
       "2016-07-01  117 - year - old woman mexico city finally rec...         427\n",
       "\n",
       "[1989 rows x 2 columns]"
      ]
     },
     "execution_count": 18,
     "metadata": {},
     "output_type": "execute_result"
    }
   ],
   "source": [
    "# Applying the tokenization function to the DataFrame column\n",
    "data['TokenCount'] = data['Text'].apply(count_tokens)\n",
    "data"
   ]
  },
  {
   "cell_type": "code",
   "execution_count": 19,
   "id": "6ce350b0-1b04-4484-b9e9-7315d84f895c",
   "metadata": {},
   "outputs": [],
   "source": [
    "# Define a token count threshold (for example, keep rows with more than 2 tokens)\n",
    "token_count_threshold = 3500\n",
    "\n",
    "# Create a new DataFrame by filtering based on the token count\n",
    "new_df = data[data['TokenCount'] < token_count_threshold]\n",
    "\n",
    "# Drop the 'TokenCount' column from the new DataFrame if you don't need it\n",
    "new_df = new_df.drop('TokenCount', axis = 1)\n",
    "\n",
    "# Resetting the index\n",
    "new_df = new_df.reset_index(drop = True)"
   ]
  },
  {
   "cell_type": "code",
   "execution_count": 20,
   "id": "4a6ded81-cfb1-43ba-9186-20d97043c4de",
   "metadata": {},
   "outputs": [],
   "source": [
    "template_2 = \"\"\"\n",
    "Identify the sentiment towards the Dow Jones (DJIA) stocks of the news article from -10 to +10 where -10 being the most negative and +10 being the most positve , and 0 being neutral\n",
    "\n",
    "GIVE ANSWER IN ONLY ONE WORD AND THAT SHOULD BE THE SCORE\n",
    "\n",
    "Article : {statement}\n",
    "\"\"\"\n",
    "\n",
    "# forming prompt using Langchain PromptTemplate functionality\n",
    "prompt_2 = PromptTemplate(template = template_2, input_variables = [\"statement\"])\n"
   ]
  },
  {
   "cell_type": "code",
   "execution_count": 21,
   "id": "cdccbe7f-8e62-4456-a54a-926b6b6c91f5",
   "metadata": {},
   "outputs": [],
   "source": [
    "llm_chain_2 = LLMChain(prompt = prompt_2, llm = llm)"
   ]
  },
  {
   "cell_type": "code",
   "execution_count": 22,
   "id": "ef72b6a5-0c32-4b5d-a770-bb081e8e07cf",
   "metadata": {},
   "outputs": [
    {
     "name": "stdout",
     "output_type": "stream",
     "text": [
      "b ' remember adorable 9 - year - old sang opening ceremonies ? fake , .' b ' remember adorable 9 - year - old sang opening ceremonies ? fake , .' b \" russia ' ends georgia operation '\" b '\" sexual harassment would children ...\"' b \" al - qa ' eda losing support iraq brutal crackdown activities regards un - islamic - including women buying cucumbers \" b ' ceasefire georgia : putin outmaneuvers west ' b ' microsoft intel tried kill xo $ 100 laptop ' b ' stratfor : russo - georgian war balance power ' b \" ' trying get sense whole georgia - russia war : vote think georgia started , think russia \" b \" us military surprised timing swiftness russian military ' move south ossetia still trying sort happened , us defense official said monday \" b ' u . . beats war drum iran dumps dollar ' b ' gorbachev : \" georgian military attacked south ossetian capital tskhinvali multiple rocket launchers designed devastate large areas \"' b ' cnn use footage tskhinvali ruins cover georgian report [ video ]' b ' beginning war olympics opening violates ancient tradition truce conflict games . ioc could respond taking 2014 games away russia .' b ' 55 pyramids large luxor stacked mega - city pyramid tokyo bay ' b ' 11 top party cities world ' b ' u . . troops still georgia ( know georgia first place ?)' b ' russias response georgia right ' b ' gorbachev accuses u . . making \" serious blunder \" pursuing interest caucasus region ' b ' russia , georgia , nato : cold war two ' b ' remember adorable 62 - year - old led country war based evidence ? fake , .' b ' war georgia : israeli connection ' b ' signs point us encouraging georgia invade south ossetia . goddamnit bush .' b ' christopher king argues us nato behind georgian invasion south ossetia misjudged russian resolve . ' b ' america : new mexico ?'\n",
      "\n",
      "News sentiment:  0\n"
     ]
    }
   ],
   "source": [
    "print(new_df['Text'][2])\n",
    "print('')\n",
    "print('News sentiment: ', llm_chain_2.run(new_df['Text'][2]))"
   ]
  },
  {
   "cell_type": "code",
   "execution_count": 23,
   "id": "f64a1db1-55c8-4ccf-8e2f-a4f46245732a",
   "metadata": {},
   "outputs": [],
   "source": [
    "x = []\n",
    "for i in range(0,new_df.shape[0]):\n",
    "    x.append(llm_chain_2.run(new_df['Text'][i]))"
   ]
  },
  {
   "cell_type": "code",
   "execution_count": 24,
   "id": "6363afc2-0f43-4d06-b205-c668c4059085",
   "metadata": {},
   "outputs": [
    {
     "data": {
      "image/png": "[encoded data removed]",
      "text/plain": [
       "<Figure size 640x480 with 1 Axes>"
      ]
     },
     "metadata": {},
     "output_type": "display_data"
    }
   ],
   "source": [
    "import matplotlib.pyplot as plt\n",
    "\n",
    "dt = pd.DataFrame(x) # Converting into Dataframe\n",
    "column_name = 0 # this is my column name you should change it according to your data\n",
    "value_counts = dt[column_name].value_counts()\n",
    "\n",
    "# Plotting the pie chart\n",
    "plt.pie(value_counts, labels = value_counts.index, autopct = '%1.1f%%', startangle = 140)\n",
    "plt.title(f'Pie Chart')\n",
    "plt.axis('equal')  # Equal aspect ratio ensures that the pie is drawn as a circle.\n",
    "\n",
    "# Show the pie chart\n",
    "plt.show()"
   ]
  },
  {
   "cell_type": "code",
   "execution_count": 25,
   "id": "ea8b8fa0-830c-4f05-a8e0-3477b6844f64",
   "metadata": {},
   "outputs": [],
   "source": [
    "value_to_remove = '0'\n",
    "# Remove all rows where the specified value occurs in the column\n",
    "dt_new = dt[dt[0] != value_to_remove]"
   ]
  },
  {
   "cell_type": "code",
   "execution_count": 26,
   "id": "8a9c5840-97fc-483a-96d9-179cf0caa7b4",
   "metadata": {},
   "outputs": [
    {
     "data": {
      "image/png": "[encoded data removed]",
      "text/plain": [
       "<Figure size 640x480 with 1 Axes>"
      ]
     },
     "metadata": {},
     "output_type": "display_data"
    }
   ],
   "source": [
    "value_counts = dt_new[column_name].value_counts()\n",
    "\n",
    "# Plotting the pie chart\n",
    "plt.pie(value_counts, labels = value_counts.index, autopct = '%1.1f%%', startangle = 140)\n",
    "plt.title(f'Pie Chart')\n",
    "plt.axis('equal')  # Equal aspect ratio ensures that the pie is drawn as a circle.\n",
    "\n",
    "# Show the pie chart\n",
    "plt.show()"
   ]
  },
  {
   "cell_type": "code",
   "execution_count": 27,
   "id": "4c65c6c2-d068-4d5b-956c-7c22393ef68d",
   "metadata": {
    "scrolled": true
   },
   "outputs": [],
   "source": [
    "np.save('../fingpt_sentiment.npy', np.array(x))"
   ]
  }
 ],
 "metadata": {
  "kernelspec": {
   "display_name": "Python 3 (ipykernel)",
   "language": "python",
   "name": "python3"
  },
  "language_info": {
   "codemirror_mode": {
    "name": "ipython",
    "version": 3
   },
   "file_extension": ".py",
   "mimetype": "text/x-python",
   "name": "python",
   "nbconvert_exporter": "python",
   "pygments_lexer": "ipython3",
   "version": "3.9.18"
  }
 },
 "nbformat": 4,
 "nbformat_minor": 5
}
