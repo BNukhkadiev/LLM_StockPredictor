{
 "cells": [
  {
   "cell_type": "code",
   "execution_count": 1,
   "id": "f0e28297-3700-4e8e-8ada-019c71e8e4f6",
   "metadata": {
    "scrolled": true
   },
   "outputs": [
    {
     "name": "stdout",
     "output_type": "stream",
     "text": [
      "Collecting openai\n",
      "  Downloading openai-1.30.4-py3-none-any.whl (320 kB)\n",
      "\u001b[K     |████████████████████████████████| 320 kB 3.7 MB/s eta 0:00:01\n",
      "\u001b[?25hRequirement already satisfied: httpx<1,>=0.23.0 in /Users/baga_nuhkadiev/opt/anaconda3/lib/python3.8/site-packages (from openai) (0.27.0)\n",
      "Collecting pydantic<3,>=1.9.0\n",
      "  Downloading pydantic-2.7.1-py3-none-any.whl (409 kB)\n",
      "\u001b[K     |████████████████████████████████| 409 kB 7.8 MB/s eta 0:00:01\n",
      "\u001b[?25hRequirement already satisfied: tqdm>4 in /Users/baga_nuhkadiev/opt/anaconda3/lib/python3.8/site-packages (from openai) (4.62.3)\n",
      "Requirement already satisfied: anyio<5,>=3.5.0 in /Users/baga_nuhkadiev/opt/anaconda3/lib/python3.8/site-packages (from openai) (3.5.0)\n",
      "Requirement already satisfied: sniffio in /Users/baga_nuhkadiev/opt/anaconda3/lib/python3.8/site-packages (from openai) (1.2.0)\n",
      "Requirement already satisfied: typing-extensions<5,>=4.7 in /Users/baga_nuhkadiev/opt/anaconda3/lib/python3.8/site-packages (from openai) (4.8.0)\n",
      "Collecting distro<2,>=1.7.0\n",
      "  Downloading distro-1.9.0-py3-none-any.whl (20 kB)\n",
      "Requirement already satisfied: idna>=2.8 in /Users/baga_nuhkadiev/opt/anaconda3/lib/python3.8/site-packages (from anyio<5,>=3.5.0->openai) (3.3)\n",
      "Requirement already satisfied: certifi in /Users/baga_nuhkadiev/opt/anaconda3/lib/python3.8/site-packages (from httpx<1,>=0.23.0->openai) (2023.11.17)\n",
      "Requirement already satisfied: httpcore==1.* in /Users/baga_nuhkadiev/opt/anaconda3/lib/python3.8/site-packages (from httpx<1,>=0.23.0->openai) (1.0.5)\n",
      "Requirement already satisfied: h11<0.15,>=0.13 in /Users/baga_nuhkadiev/opt/anaconda3/lib/python3.8/site-packages (from httpcore==1.*->httpx<1,>=0.23.0->openai) (0.14.0)\n",
      "Collecting pydantic-core==2.18.2\n",
      "  Downloading pydantic_core-2.18.2-cp38-cp38-macosx_10_12_x86_64.whl (1.9 MB)\n",
      "\u001b[K     |████████████████████████████████| 1.9 MB 4.9 MB/s eta 0:00:01\n",
      "\u001b[?25hCollecting annotated-types>=0.4.0\n",
      "  Downloading annotated_types-0.7.0-py3-none-any.whl (13 kB)\n",
      "Installing collected packages: pydantic-core, annotated-types, pydantic, distro, openai\n",
      "Successfully installed annotated-types-0.7.0 distro-1.9.0 openai-1.30.4 pydantic-2.7.1 pydantic-core-2.18.2\n",
      "Collecting langchain\n",
      "  Downloading langchain-0.2.1-py3-none-any.whl (973 kB)\n",
      "\u001b[K     |████████████████████████████████| 973 kB 3.9 MB/s eta 0:00:01\n",
      "\u001b[?25hRequirement already satisfied: async-timeout<5.0.0,>=4.0.0 in /Users/baga_nuhkadiev/opt/anaconda3/lib/python3.8/site-packages (from langchain) (4.0.3)\n",
      "Collecting langchain-core<0.3.0,>=0.2.0\n",
      "  Downloading langchain_core-0.2.1-py3-none-any.whl (308 kB)\n",
      "\u001b[K     |████████████████████████████████| 308 kB 3.5 MB/s eta 0:00:01\n",
      "\u001b[?25hRequirement already satisfied: numpy<2,>=1 in /Users/baga_nuhkadiev/opt/anaconda3/lib/python3.8/site-packages (from langchain) (1.22.3)\n",
      "Requirement already satisfied: requests<3,>=2 in /Users/baga_nuhkadiev/opt/anaconda3/lib/python3.8/site-packages (from langchain) (2.31.0)\n",
      "Requirement already satisfied: SQLAlchemy<3,>=1.4 in /Users/baga_nuhkadiev/opt/anaconda3/lib/python3.8/site-packages (from langchain) (1.4.36)\n",
      "Collecting langchain-text-splitters<0.3.0,>=0.2.0\n",
      "  Downloading langchain_text_splitters-0.2.0-py3-none-any.whl (23 kB)\n",
      "Requirement already satisfied: tenacity<9.0.0,>=8.1.0 in /Users/baga_nuhkadiev/opt/anaconda3/lib/python3.8/site-packages (from langchain) (8.1.0)\n",
      "Requirement already satisfied: pydantic<3,>=1 in /Users/baga_nuhkadiev/opt/anaconda3/lib/python3.8/site-packages (from langchain) (2.7.1)\n",
      "Collecting langsmith<0.2.0,>=0.1.17\n",
      "  Downloading langsmith-0.1.63-py3-none-any.whl (122 kB)\n",
      "\u001b[K     |████████████████████████████████| 122 kB 5.4 MB/s eta 0:00:01\n",
      "\u001b[?25hRequirement already satisfied: aiohttp<4.0.0,>=3.8.3 in /Users/baga_nuhkadiev/opt/anaconda3/lib/python3.8/site-packages (from langchain) (3.9.3)\n",
      "Requirement already satisfied: PyYAML>=5.3 in /Users/baga_nuhkadiev/opt/anaconda3/lib/python3.8/site-packages (from langchain) (6.0)\n",
      "Requirement already satisfied: multidict<7.0,>=4.5 in /Users/baga_nuhkadiev/opt/anaconda3/lib/python3.8/site-packages (from aiohttp<4.0.0,>=3.8.3->langchain) (6.0.5)\n",
      "Requirement already satisfied: attrs>=17.3.0 in /Users/baga_nuhkadiev/opt/anaconda3/lib/python3.8/site-packages (from aiohttp<4.0.0,>=3.8.3->langchain) (23.1.0)\n",
      "Requirement already satisfied: frozenlist>=1.1.1 in /Users/baga_nuhkadiev/opt/anaconda3/lib/python3.8/site-packages (from aiohttp<4.0.0,>=3.8.3->langchain) (1.4.1)\n",
      "Requirement already satisfied: aiosignal>=1.1.2 in /Users/baga_nuhkadiev/opt/anaconda3/lib/python3.8/site-packages (from aiohttp<4.0.0,>=3.8.3->langchain) (1.3.1)\n",
      "Requirement already satisfied: yarl<2.0,>=1.0 in /Users/baga_nuhkadiev/opt/anaconda3/lib/python3.8/site-packages (from aiohttp<4.0.0,>=3.8.3->langchain) (1.9.4)\n",
      "Collecting jsonpatch<2.0,>=1.33\n",
      "  Downloading jsonpatch-1.33-py2.py3-none-any.whl (12 kB)\n",
      "Collecting packaging<24.0,>=23.2\n",
      "  Downloading packaging-23.2-py3-none-any.whl (53 kB)\n",
      "\u001b[K     |████████████████████████████████| 53 kB 2.5 MB/s eta 0:00:011\n",
      "\u001b[?25hRequirement already satisfied: jsonpointer>=1.9 in /Users/baga_nuhkadiev/opt/anaconda3/lib/python3.8/site-packages (from jsonpatch<2.0,>=1.33->langchain-core<0.3.0,>=0.2.0->langchain) (2.4)\n",
      "Collecting orjson<4.0.0,>=3.9.14\n",
      "  Downloading orjson-3.10.3-cp38-cp38-macosx_10_15_x86_64.macosx_11_0_arm64.macosx_10_15_universal2.whl (253 kB)\n",
      "\u001b[K     |████████████████████████████████| 253 kB 7.0 MB/s eta 0:00:01\n",
      "\u001b[?25hRequirement already satisfied: pydantic-core==2.18.2 in /Users/baga_nuhkadiev/opt/anaconda3/lib/python3.8/site-packages (from pydantic<3,>=1->langchain) (2.18.2)\n",
      "Requirement already satisfied: annotated-types>=0.4.0 in /Users/baga_nuhkadiev/opt/anaconda3/lib/python3.8/site-packages (from pydantic<3,>=1->langchain) (0.7.0)\n",
      "Requirement already satisfied: typing-extensions>=4.6.1 in /Users/baga_nuhkadiev/opt/anaconda3/lib/python3.8/site-packages (from pydantic<3,>=1->langchain) (4.8.0)\n",
      "Requirement already satisfied: urllib3<3,>=1.21.1 in /Users/baga_nuhkadiev/opt/anaconda3/lib/python3.8/site-packages (from requests<3,>=2->langchain) (1.26.8)\n",
      "Requirement already satisfied: certifi>=2017.4.17 in /Users/baga_nuhkadiev/opt/anaconda3/lib/python3.8/site-packages (from requests<3,>=2->langchain) (2023.11.17)\n",
      "Requirement already satisfied: idna<4,>=2.5 in /Users/baga_nuhkadiev/opt/anaconda3/lib/python3.8/site-packages (from requests<3,>=2->langchain) (3.3)\n",
      "Requirement already satisfied: charset-normalizer<4,>=2 in /Users/baga_nuhkadiev/opt/anaconda3/lib/python3.8/site-packages (from requests<3,>=2->langchain) (2.0.4)\n",
      "Requirement already satisfied: greenlet!=0.4.17 in /Users/baga_nuhkadiev/opt/anaconda3/lib/python3.8/site-packages (from SQLAlchemy<3,>=1.4->langchain) (1.1.2)\n",
      "Installing collected packages: orjson, packaging, langsmith, jsonpatch, langchain-core, langchain-text-splitters, langchain\n",
      "  Attempting uninstall: packaging\n",
      "    Found existing installation: packaging 21.3\n",
      "    Uninstalling packaging-21.3:\n",
      "      Successfully uninstalled packaging-21.3\n",
      "Successfully installed jsonpatch-1.33 langchain-0.2.1 langchain-core-0.2.1 langchain-text-splitters-0.2.0 langsmith-0.1.63 orjson-3.10.3 packaging-23.2\n",
      "Collecting eodhd\n",
      "  Downloading eodhd-1.0.30-py3-none-any.whl (29 kB)\n",
      "  Downloading eodhd-1.0.29-py3-none-any.whl (29 kB)\n",
      "  Downloading eodhd-1.0.28-py3-none-any.whl (29 kB)\n",
      "  Downloading eodhd-1.0.27-py3-none-any.whl (28 kB)\n",
      "  Downloading eodhd-1.0.26-py3-none-any.whl (28 kB)\n",
      "  Downloading eodhd-1.0.25-py3-none-any.whl (28 kB)\n",
      "  Downloading eodhd-1.0.24-py3-none-any.whl (27 kB)\n",
      "  Downloading eodhd-1.0.23-py3-none-any.whl (25 kB)\n",
      "  Downloading eodhd-1.0.22-py3-none-any.whl (24 kB)\n",
      "  Downloading eodhd-1.0.21-py3-none-any.whl (24 kB)\n",
      "Collecting websockets==10.3\n",
      "  Downloading websockets-10.3-cp38-cp38-macosx_10_9_x86_64.whl (97 kB)\n",
      "\u001b[K     |████████████████████████████████| 97 kB 4.6 MB/s eta 0:00:011\n",
      "\u001b[?25hCollecting rich==12.5.1\n",
      "  Downloading rich-12.5.1-py3-none-any.whl (235 kB)\n",
      "\u001b[K     |████████████████████████████████| 235 kB 3.2 MB/s eta 0:00:01\n",
      "\u001b[?25hCollecting pandas==2.0.3\n",
      "  Downloading pandas-2.0.3-cp38-cp38-macosx_10_9_x86_64.whl (11.7 MB)\n",
      "\u001b[K     |████████████████████████████████| 11.7 MB 1.7 MB/s eta 0:00:01\n",
      "\u001b[?25hCollecting numpy==1.21.6\n",
      "  Downloading numpy-1.21.6-cp38-cp38-macosx_10_9_x86_64.whl (16.9 MB)\n",
      "\u001b[K     |████████████████████████████████| 16.9 MB 14.0 MB/s eta 0:00:01\n",
      "\u001b[?25hCollecting requests==2.28.1\n",
      "  Using cached requests-2.28.1-py3-none-any.whl (62 kB)\n",
      "Collecting matplotlib==3.3.3\n",
      "  Downloading matplotlib-3.3.3-cp38-cp38-macosx_10_9_x86_64.whl (8.5 MB)\n",
      "\u001b[K     |████████████████████████████████| 8.5 MB 4.8 MB/s eta 0:00:01\n",
      "\u001b[?25hCollecting websocket-client==1.3.3\n",
      "  Downloading websocket_client-1.3.3-py3-none-any.whl (54 kB)\n",
      "\u001b[K     |████████████████████████████████| 54 kB 3.1 MB/s eta 0:00:01\n",
      "\u001b[?25hRequirement already satisfied: cycler>=0.10 in /Users/baga_nuhkadiev/opt/anaconda3/lib/python3.8/site-packages (from matplotlib==3.3.3->eodhd) (0.12.1)\n",
      "Requirement already satisfied: kiwisolver>=1.0.1 in /Users/baga_nuhkadiev/opt/anaconda3/lib/python3.8/site-packages (from matplotlib==3.3.3->eodhd) (1.4.5)\n",
      "Requirement already satisfied: pyparsing!=2.0.4,!=2.1.2,!=2.1.6,>=2.0.3 in /Users/baga_nuhkadiev/opt/anaconda3/lib/python3.8/site-packages (from matplotlib==3.3.3->eodhd) (3.0.4)\n",
      "Requirement already satisfied: python-dateutil>=2.1 in /Users/baga_nuhkadiev/opt/anaconda3/lib/python3.8/site-packages (from matplotlib==3.3.3->eodhd) (2.8.2)\n",
      "Requirement already satisfied: pillow>=6.2.0 in /Users/baga_nuhkadiev/opt/anaconda3/lib/python3.8/site-packages (from matplotlib==3.3.3->eodhd) (8.4.0)\n",
      "Collecting tzdata>=2022.1\n",
      "  Downloading tzdata-2024.1-py2.py3-none-any.whl (345 kB)\n",
      "\u001b[K     |████████████████████████████████| 345 kB 5.3 MB/s eta 0:00:01\n",
      "\u001b[?25hRequirement already satisfied: pytz>=2020.1 in /Users/baga_nuhkadiev/opt/anaconda3/lib/python3.8/site-packages (from pandas==2.0.3->eodhd) (2024.1)\n",
      "Requirement already satisfied: urllib3<1.27,>=1.21.1 in /Users/baga_nuhkadiev/opt/anaconda3/lib/python3.8/site-packages (from requests==2.28.1->eodhd) (1.26.8)\n",
      "Requirement already satisfied: idna<4,>=2.5 in /Users/baga_nuhkadiev/opt/anaconda3/lib/python3.8/site-packages (from requests==2.28.1->eodhd) (3.3)\n",
      "Requirement already satisfied: certifi>=2017.4.17 in /Users/baga_nuhkadiev/opt/anaconda3/lib/python3.8/site-packages (from requests==2.28.1->eodhd) (2023.11.17)\n",
      "Requirement already satisfied: charset-normalizer<3,>=2 in /Users/baga_nuhkadiev/opt/anaconda3/lib/python3.8/site-packages (from requests==2.28.1->eodhd) (2.0.4)\n",
      "Collecting commonmark<0.10.0,>=0.9.0\n",
      "  Downloading commonmark-0.9.1-py2.py3-none-any.whl (51 kB)\n",
      "\u001b[K     |████████████████████████████████| 51 kB 6.8 MB/s eta 0:00:011\n",
      "\u001b[?25hRequirement already satisfied: pygments<3.0.0,>=2.6.0 in /Users/baga_nuhkadiev/opt/anaconda3/lib/python3.8/site-packages (from rich==12.5.1->eodhd) (2.11.2)\n",
      "Requirement already satisfied: typing-extensions<5.0,>=4.0.0 in /Users/baga_nuhkadiev/opt/anaconda3/lib/python3.8/site-packages (from rich==12.5.1->eodhd) (4.8.0)\n",
      "Requirement already satisfied: six>=1.5 in /Users/baga_nuhkadiev/opt/anaconda3/lib/python3.8/site-packages (from python-dateutil>=2.1->matplotlib==3.3.3->eodhd) (1.16.0)\n",
      "Installing collected packages: tzdata, numpy, commonmark, websockets, websocket-client, rich, requests, pandas, matplotlib, eodhd\n",
      "  Attempting uninstall: numpy\n",
      "    Found existing installation: numpy 1.22.3\n",
      "    Uninstalling numpy-1.22.3:\n",
      "      Successfully uninstalled numpy-1.22.3\n",
      "  Attempting uninstall: websocket-client\n",
      "    Found existing installation: websocket-client 0.58.0\n",
      "    Uninstalling websocket-client-0.58.0:\n",
      "      Successfully uninstalled websocket-client-0.58.0\n",
      "  Attempting uninstall: requests\n",
      "    Found existing installation: requests 2.31.0\n",
      "    Uninstalling requests-2.31.0:\n",
      "      Successfully uninstalled requests-2.31.0\n",
      "  Attempting uninstall: pandas\n",
      "    Found existing installation: pandas 1.4.1\n",
      "    Uninstalling pandas-1.4.1:\n",
      "      Successfully uninstalled pandas-1.4.1\n",
      "  Attempting uninstall: matplotlib\n",
      "    Found existing installation: matplotlib 3.5.3\n",
      "    Uninstalling matplotlib-3.5.3:\n",
      "      Successfully uninstalled matplotlib-3.5.3\n",
      "\u001b[31mERROR: pip's dependency resolver does not currently take into account all the packages that are installed. This behaviour is the source of the following dependency conflicts.\n",
      "yfinance 0.2.37 requires requests>=2.31, but you have requests 2.28.1 which is incompatible.\n",
      "jupyterlab-server 2.27.2 requires requests>=2.31, but you have requests 2.28.1 which is incompatible.\n",
      "ipympl 0.9.3 requires matplotlib<4,>=3.4.0, but you have matplotlib 3.3.3 which is incompatible.\n",
      "gdelt 0.1.14 requires requests>=2.31.0, but you have requests 2.28.1 which is incompatible.\n",
      "fairscale 0.4.12 requires numpy>=1.22.0, but you have numpy 1.21.6 which is incompatible.\u001b[0m\n",
      "Successfully installed commonmark-0.9.1 eodhd-1.0.21 matplotlib-3.5.1 numpy-1.21.6 pandas-2.0.3 requests-2.28.1 rich-12.5.1 tzdata-2024.1 websocket-client-1.3.3 websockets-10.3\n",
      "Collecting config\n",
      "  Downloading config-0.5.1-py2.py3-none-any.whl (20 kB)\n",
      "Installing collected packages: config\n",
      "Successfully installed config-0.5.1\n"
     ]
    }
   ],
   "source": [
    "!pip install openai\n",
    "!pip install langchain\n",
    "!pip install eodhd\n",
    "!pip install config"
   ]
  },
  {
   "cell_type": "code",
   "execution_count": 1,
   "id": "ae31e51e-d165-4739-8ec7-775b5918a298",
   "metadata": {
    "scrolled": true
   },
   "outputs": [
    {
     "name": "stdout",
     "output_type": "stream",
     "text": [
      "Collecting langchain-community\n",
      "  Downloading langchain_community-0.2.1-py3-none-any.whl (2.1 MB)\n",
      "\u001b[K     |████████████████████████████████| 2.1 MB 92 kB/s eta 0:00:014\n",
      "\u001b[?25hRequirement already satisfied: langchain-core in /Users/baga_nuhkadiev/opt/anaconda3/lib/python3.8/site-packages (0.2.1)\n",
      "Requirement already satisfied: aiohttp<4.0.0,>=3.8.3 in /Users/baga_nuhkadiev/opt/anaconda3/lib/python3.8/site-packages (from langchain-community) (3.9.3)\n",
      "Requirement already satisfied: numpy<2,>=1 in /Users/baga_nuhkadiev/opt/anaconda3/lib/python3.8/site-packages (from langchain-community) (1.21.6)\n",
      "Requirement already satisfied: requests<3,>=2 in /Users/baga_nuhkadiev/opt/anaconda3/lib/python3.8/site-packages (from langchain-community) (2.28.1)\n",
      "Requirement already satisfied: langchain<0.3.0,>=0.2.0 in /Users/baga_nuhkadiev/opt/anaconda3/lib/python3.8/site-packages (from langchain-community) (0.2.1)\n",
      "Requirement already satisfied: SQLAlchemy<3,>=1.4 in /Users/baga_nuhkadiev/opt/anaconda3/lib/python3.8/site-packages (from langchain-community) (1.4.36)\n",
      "Requirement already satisfied: langsmith<0.2.0,>=0.1.0 in /Users/baga_nuhkadiev/opt/anaconda3/lib/python3.8/site-packages (from langchain-community) (0.1.63)\n",
      "Requirement already satisfied: tenacity<9.0.0,>=8.1.0 in /Users/baga_nuhkadiev/opt/anaconda3/lib/python3.8/site-packages (from langchain-community) (8.1.0)\n",
      "Requirement already satisfied: PyYAML>=5.3 in /Users/baga_nuhkadiev/opt/anaconda3/lib/python3.8/site-packages (from langchain-community) (6.0)\n",
      "Collecting dataclasses-json<0.7,>=0.5.7\n",
      "  Downloading dataclasses_json-0.6.6-py3-none-any.whl (28 kB)\n",
      "Requirement already satisfied: packaging<24.0,>=23.2 in /Users/baga_nuhkadiev/opt/anaconda3/lib/python3.8/site-packages (from langchain-core) (23.2)\n",
      "Requirement already satisfied: jsonpatch<2.0,>=1.33 in /Users/baga_nuhkadiev/opt/anaconda3/lib/python3.8/site-packages (from langchain-core) (1.33)\n",
      "Requirement already satisfied: pydantic<3,>=1 in /Users/baga_nuhkadiev/opt/anaconda3/lib/python3.8/site-packages (from langchain-core) (2.7.1)\n",
      "Requirement already satisfied: multidict<7.0,>=4.5 in /Users/baga_nuhkadiev/opt/anaconda3/lib/python3.8/site-packages (from aiohttp<4.0.0,>=3.8.3->langchain-community) (6.0.5)\n",
      "Requirement already satisfied: async-timeout<5.0,>=4.0 in /Users/baga_nuhkadiev/opt/anaconda3/lib/python3.8/site-packages (from aiohttp<4.0.0,>=3.8.3->langchain-community) (4.0.3)\n",
      "Requirement already satisfied: aiosignal>=1.1.2 in /Users/baga_nuhkadiev/opt/anaconda3/lib/python3.8/site-packages (from aiohttp<4.0.0,>=3.8.3->langchain-community) (1.3.1)\n",
      "Requirement already satisfied: attrs>=17.3.0 in /Users/baga_nuhkadiev/opt/anaconda3/lib/python3.8/site-packages (from aiohttp<4.0.0,>=3.8.3->langchain-community) (23.1.0)\n",
      "Requirement already satisfied: frozenlist>=1.1.1 in /Users/baga_nuhkadiev/opt/anaconda3/lib/python3.8/site-packages (from aiohttp<4.0.0,>=3.8.3->langchain-community) (1.4.1)\n",
      "Requirement already satisfied: yarl<2.0,>=1.0 in /Users/baga_nuhkadiev/opt/anaconda3/lib/python3.8/site-packages (from aiohttp<4.0.0,>=3.8.3->langchain-community) (1.9.4)\n",
      "Requirement already satisfied: marshmallow<4.0.0,>=3.18.0 in /Users/baga_nuhkadiev/opt/anaconda3/lib/python3.8/site-packages (from dataclasses-json<0.7,>=0.5.7->langchain-community) (3.20.2)\n",
      "Collecting typing-inspect<1,>=0.4.0\n",
      "  Downloading typing_inspect-0.9.0-py3-none-any.whl (8.8 kB)\n",
      "Requirement already satisfied: jsonpointer>=1.9 in /Users/baga_nuhkadiev/opt/anaconda3/lib/python3.8/site-packages (from jsonpatch<2.0,>=1.33->langchain-core) (2.4)\n",
      "Requirement already satisfied: langchain-text-splitters<0.3.0,>=0.2.0 in /Users/baga_nuhkadiev/opt/anaconda3/lib/python3.8/site-packages (from langchain<0.3.0,>=0.2.0->langchain-community) (0.2.0)\n",
      "Requirement already satisfied: orjson<4.0.0,>=3.9.14 in /Users/baga_nuhkadiev/opt/anaconda3/lib/python3.8/site-packages (from langsmith<0.2.0,>=0.1.0->langchain-community) (3.10.3)\n",
      "Requirement already satisfied: pydantic-core==2.18.2 in /Users/baga_nuhkadiev/opt/anaconda3/lib/python3.8/site-packages (from pydantic<3,>=1->langchain-core) (2.18.2)\n",
      "Requirement already satisfied: annotated-types>=0.4.0 in /Users/baga_nuhkadiev/opt/anaconda3/lib/python3.8/site-packages (from pydantic<3,>=1->langchain-core) (0.7.0)\n",
      "Requirement already satisfied: typing-extensions>=4.6.1 in /Users/baga_nuhkadiev/opt/anaconda3/lib/python3.8/site-packages (from pydantic<3,>=1->langchain-core) (4.8.0)\n",
      "Requirement already satisfied: urllib3<1.27,>=1.21.1 in /Users/baga_nuhkadiev/opt/anaconda3/lib/python3.8/site-packages (from requests<3,>=2->langchain-community) (1.26.8)\n",
      "Requirement already satisfied: idna<4,>=2.5 in /Users/baga_nuhkadiev/opt/anaconda3/lib/python3.8/site-packages (from requests<3,>=2->langchain-community) (3.3)\n",
      "Requirement already satisfied: certifi>=2017.4.17 in /Users/baga_nuhkadiev/opt/anaconda3/lib/python3.8/site-packages (from requests<3,>=2->langchain-community) (2023.11.17)\n",
      "Requirement already satisfied: charset-normalizer<3,>=2 in /Users/baga_nuhkadiev/opt/anaconda3/lib/python3.8/site-packages (from requests<3,>=2->langchain-community) (2.0.4)\n",
      "Requirement already satisfied: greenlet!=0.4.17 in /Users/baga_nuhkadiev/opt/anaconda3/lib/python3.8/site-packages (from SQLAlchemy<3,>=1.4->langchain-community) (1.1.2)\n",
      "Requirement already satisfied: mypy-extensions>=0.3.0 in /Users/baga_nuhkadiev/opt/anaconda3/lib/python3.8/site-packages (from typing-inspect<1,>=0.4.0->dataclasses-json<0.7,>=0.5.7->langchain-community) (0.4.3)\n",
      "Installing collected packages: typing-inspect, dataclasses-json, langchain-community\n",
      "Successfully installed dataclasses-json-0.6.6 langchain-community-0.2.1 typing-inspect-0.9.0\n"
     ]
    }
   ],
   "source": [
    "!pip install langchain-community langchain-core"
   ]
  },
  {
   "cell_type": "code",
   "execution_count": 38,
   "id": "1bcf41ae-9e70-4648-9388-160fda9f082a",
   "metadata": {
    "scrolled": true
   },
   "outputs": [],
   "source": [
    "import re\n",
    "import requests\n",
    "import pandas as pd\n",
    "import config as cfg\n",
    "from eodhd import APIClient\n",
    "from langchain.chains import LLMChain\n",
    "from langchain.prompts import PromptTemplate\n",
    "from langchain.chat_models import ChatOpenAI\n"
   ]
  },
  {
   "cell_type": "code",
   "execution_count": 4,
   "id": "b63f125b-28f3-4396-8ba4-b9a316344185",
   "metadata": {},
   "outputs": [],
   "source": [
    "api_key = ''\n",
    "api = APIClient(api_key)"
   ]
  },
  {
   "cell_type": "code",
   "execution_count": 7,
   "id": "699c64b6-ed70-43d8-8694-c797318503d5",
   "metadata": {},
   "outputs": [
    {
     "data": {
      "text/html": [
       "<div>\n",
       "<style scoped>\n",
       "    .dataframe tbody tr th:only-of-type {\n",
       "        vertical-align: middle;\n",
       "    }\n",
       "\n",
       "    .dataframe tbody tr th {\n",
       "        vertical-align: top;\n",
       "    }\n",
       "\n",
       "    .dataframe thead th {\n",
       "        text-align: right;\n",
       "    }\n",
       "</style>\n",
       "<table border=\"1\" class=\"dataframe\">\n",
       "  <thead>\n",
       "    <tr style=\"text-align: right;\">\n",
       "      <th></th>\n",
       "      <th>date</th>\n",
       "      <th>title</th>\n",
       "      <th>content</th>\n",
       "      <th>link</th>\n",
       "      <th>symbols</th>\n",
       "      <th>tags</th>\n",
       "      <th>sentiment</th>\n",
       "    </tr>\n",
       "  </thead>\n",
       "  <tbody>\n",
       "    <tr>\n",
       "      <th>95</th>\n",
       "      <td>2024-01-26T15:05:00+00:00</td>\n",
       "      <td>Apple Lags as Microsoft Sales Hit Highs: US Ea...</td>\n",
       "      <td>(Bloomberg) -- Five of the so-called Magnifice...</td>\n",
       "      <td>https://finance.yahoo.com/news/apple-lags-micr...</td>\n",
       "      <td>[A1MD34.SA, AAPL.MX, AAPL.US, AAPL34.SA, ABEA....</td>\n",
       "      <td>[]</td>\n",
       "      <td>{'polarity': 0.997, 'neg': 0.06, 'neu': 0.814,...</td>\n",
       "    </tr>\n",
       "    <tr>\n",
       "      <th>96</th>\n",
       "      <td>2024-01-26T15:02:46+00:00</td>\n",
       "      <td>WR Berkley Corp Leads as Scott Black's Top Por...</td>\n",
       "      <td>Delphi Management's President Scott Black (Tra...</td>\n",
       "      <td>https://finance.yahoo.com/news/wr-berkley-corp...</td>\n",
       "      <td>[0HMZ.LSE, 1NBA.BE, 1NBA.F, 1NBA.MU, 1NBA.STU,...</td>\n",
       "      <td>[]</td>\n",
       "      <td>{'polarity': 0.995, 'neg': 0.013, 'neu': 0.87,...</td>\n",
       "    </tr>\n",
       "    <tr>\n",
       "      <th>97</th>\n",
       "      <td>2024-01-26T15:00:00+00:00</td>\n",
       "      <td>Intuitive Surgical (ISRG) Seeks FDA Nod for Ne...</td>\n",
       "      <td>Intuitive Surgical ISRG announced that it has ...</td>\n",
       "      <td>https://finance.yahoo.com/news/intuitive-surgi...</td>\n",
       "      <td>[0R29.LSE, AAPL.MX, AAPL.US, AAPL34.SA, APC.F,...</td>\n",
       "      <td>[]</td>\n",
       "      <td>{'polarity': 0.99, 'neg': 0.04, 'neu': 0.845, ...</td>\n",
       "    </tr>\n",
       "    <tr>\n",
       "      <th>98</th>\n",
       "      <td>2024-01-26T14:46:00+00:00</td>\n",
       "      <td>Electronic Arts (EA) to Report Q3 Earnings: Wh...</td>\n",
       "      <td>Electronic Arts EA is set to report third-quar...</td>\n",
       "      <td>https://finance.yahoo.com/news/electronic-arts...</td>\n",
       "      <td>[0IFX.LSE, AAPL.MX, AAPL.US, AAPL34.SA, ABEA.F...</td>\n",
       "      <td>[]</td>\n",
       "      <td>{'polarity': 0.998, 'neg': 0.013, 'neu': 0.871...</td>\n",
       "    </tr>\n",
       "    <tr>\n",
       "      <th>99</th>\n",
       "      <td>2024-01-26T14:10:00+00:00</td>\n",
       "      <td>Microsoft Is the World’s Most Valuable Company...</td>\n",
       "      <td>The company is in the early stages of infusing...</td>\n",
       "      <td>https://finance.yahoo.com/m/606b182c-5a22-3978...</td>\n",
       "      <td>[AAPL.MX, AAPL.US, AAPL34.SA, ABEA.F, ABEA.XET...</td>\n",
       "      <td>[]</td>\n",
       "      <td>{'polarity': 0, 'neg': 0, 'neu': 1, 'pos': 0}</td>\n",
       "    </tr>\n",
       "  </tbody>\n",
       "</table>\n",
       "</div>"
      ],
      "text/plain": [
       "                         date  \\\n",
       "95  2024-01-26T15:05:00+00:00   \n",
       "96  2024-01-26T15:02:46+00:00   \n",
       "97  2024-01-26T15:00:00+00:00   \n",
       "98  2024-01-26T14:46:00+00:00   \n",
       "99  2024-01-26T14:10:00+00:00   \n",
       "\n",
       "                                                title  \\\n",
       "95  Apple Lags as Microsoft Sales Hit Highs: US Ea...   \n",
       "96  WR Berkley Corp Leads as Scott Black's Top Por...   \n",
       "97  Intuitive Surgical (ISRG) Seeks FDA Nod for Ne...   \n",
       "98  Electronic Arts (EA) to Report Q3 Earnings: Wh...   \n",
       "99  Microsoft Is the World’s Most Valuable Company...   \n",
       "\n",
       "                                              content  \\\n",
       "95  (Bloomberg) -- Five of the so-called Magnifice...   \n",
       "96  Delphi Management's President Scott Black (Tra...   \n",
       "97  Intuitive Surgical ISRG announced that it has ...   \n",
       "98  Electronic Arts EA is set to report third-quar...   \n",
       "99  The company is in the early stages of infusing...   \n",
       "\n",
       "                                                 link  \\\n",
       "95  https://finance.yahoo.com/news/apple-lags-micr...   \n",
       "96  https://finance.yahoo.com/news/wr-berkley-corp...   \n",
       "97  https://finance.yahoo.com/news/intuitive-surgi...   \n",
       "98  https://finance.yahoo.com/news/electronic-arts...   \n",
       "99  https://finance.yahoo.com/m/606b182c-5a22-3978...   \n",
       "\n",
       "                                              symbols tags  \\\n",
       "95  [A1MD34.SA, AAPL.MX, AAPL.US, AAPL34.SA, ABEA....   []   \n",
       "96  [0HMZ.LSE, 1NBA.BE, 1NBA.F, 1NBA.MU, 1NBA.STU,...   []   \n",
       "97  [0R29.LSE, AAPL.MX, AAPL.US, AAPL34.SA, APC.F,...   []   \n",
       "98  [0IFX.LSE, AAPL.MX, AAPL.US, AAPL34.SA, ABEA.F...   []   \n",
       "99  [AAPL.MX, AAPL.US, AAPL34.SA, ABEA.F, ABEA.XET...   []   \n",
       "\n",
       "                                            sentiment  \n",
       "95  {'polarity': 0.997, 'neg': 0.06, 'neu': 0.814,...  \n",
       "96  {'polarity': 0.995, 'neg': 0.013, 'neu': 0.87,...  \n",
       "97  {'polarity': 0.99, 'neg': 0.04, 'neu': 0.845, ...  \n",
       "98  {'polarity': 0.998, 'neg': 0.013, 'neu': 0.871...  \n",
       "99      {'polarity': 0, 'neg': 0, 'neu': 1, 'pos': 0}  "
      ]
     },
     "execution_count": 7,
     "metadata": {},
     "output_type": "execute_result"
    }
   ],
   "source": [
    "resp = api.financial_news(s = \"AAPL.US\", from_date = '2024-01-01', to_date = '2024-01-30', limit = 100)\n",
    "df = pd.DataFrame(resp) # converting the json output into datframe\n",
    "df.tail()"
   ]
  },
  {
   "cell_type": "code",
   "execution_count": 9,
   "id": "698f8efa-142c-4885-96ae-8405387534cd",
   "metadata": {},
   "outputs": [],
   "source": [
    "# funtion to clean the textual data\n",
    "def clean_text(text):\n",
    "    cleaned_text = re.sub(r'\\s+', ' ', text)\n",
    "    return cleaned_text.strip()\n",
    "\n",
    "# Apply the replacement function to the entire column\n",
    "df['content'] = df['content'].apply(clean_text)"
   ]
  },
  {
   "cell_type": "code",
   "execution_count": 27,
   "id": "5c502b60-b637-46b0-8a42-d2c4024f99c2",
   "metadata": {
    "scrolled": true
   },
   "outputs": [
    {
     "data": {
      "text/plain": [
       "\"Tuesday, January 30, 2024 The Zacks Research Daily presents the best research output of our analyst team. Today's Research Daily features new research reports on 16 major stocks, including Apple Inc. (AAPL), Visa Inc. (V) and Novo Nordisk A/S (NVO). These research reports have been hand-picked from the roughly 70 reports published by our analyst team today. You can see all of today’s research reports here >>> Apple’s shares have outperformed the Zacks Computer - Mini computers industry over the past year (+33.6% vs. +33.0%). The company is benefiting from strong demand for the iPhone. Apple expects the iPhone’s year-over-year revenues to grow on an absolute basis in first-quarter fiscal 2024. Revenues for Mac are expected to significantly accelerate compared with the fourth-quarter fiscal 2023’s reported figure. It expects the year-over-year revenue growth for both iPad and Wearables, Home and Accessories to decelerate significantly from the September quarter due to a different timing of product launches. For the Services segment, Apple expects average revenues per week to grow at a similar strong double-digit rate as it did during the September quarter. It is benefiting from increasing customer engagement in the services segment. The expanding content portfolio of Apple TV+ aids subscriber growth. (You can read the full research report on Apple here >>>) Shares of Visa have outperformed the Zacks Financial Transaction Services industry over the past year (+19.8% vs. +15.6%). The company’s stock prices are driven by strategic acquisitions and alliances fostering long-term growth. Fueled by increased payments and sustained investments in technology, it is witnessing bottomline growth. The ongoing shift to digital payments is advantageous for Visa, with strong domestic volumes supporting overall performance. A robust cash position enables the company to enhance shareholder value. However, elevated operating expenses pose margin challenges. Increased client incentives may impact the top line. Additionally, it is witnessing a declining cash volume from the Asia Pacific and CEMEA regions. As such, the stock warrants a cautious stance. (You can read the full research report on Visa here >>>) Shares of Novo Nordisk have outperformed the Zacks Large Cap Pharmaceuticals industry over the past year (+58.5% vs. +22.8%). The company has one of the broadest diabetes portfolios in the industry. Ozempic and Rybelsus have been performing well in the diabetes market. Obesity drug Wegovy has been enjoying increasing demand. Label expansions of diabetes and obesity care drugs in cardiovascular and other indications will likely boost sales. Novo Nordisk raised its 2023 view due to higher demand for Ozempic and Wegovy. Its diversifying efforts to develop new treatments are encouraging. To tackle the supply constraints of Wegovy in international markets, Novo recently announced initiating a €2.1 billion project to expand its current manufacturing facility in Chartres, France. Despite intense rivalry in the obesity care market, Novo Nordisk has been maintaining its market share. (You can read the full research report on Novo Nordisk here >>>) Other noteworthy reports we are featuring today include PepsiCo, Inc. (PEP), S&P Global Inc. (SPGI) and CrowdStrike Holdings, Inc. (CRWD). Mark Vickery Senior Editor Note: Sheraz Mian heads the Zacks Equity Research department and is a well-regarded expert of aggregate earnings. He is frequently quoted in the print and electronic media and publishes the weekly Earnings Trends and Earnings Preview reports. If you want an email notification each time Sheraz publishes a new article, please click here>>> Story continues Today's Must Read Robust Portfolio, Services Strength to Benefit Apple (AAPL) Visa (V) Rides on Increasing Payments Volume, Expenses High Strong Wegovy & Ozempic Demands Boost Novo Nordisk (NVO) Featured Reports PepsiCo's (PEP) Business Investments to Bolster Performance Per the Zacks analyst, PepsiCo gains from investments in brands, go-to-market systems, supply chains, & manufacturing and digital capabilities to build competitive advantages, which is aiding results. S&P Global (SPGI) is Gaining From ChartIQ Buyout, Costs High Per the Zacks analyst, S&P Global's market intelligence segment is benefitting from the acquisition of charting provider ChartIQ. High operational cost remain a concern. Focus on Affordable Homes Aids D.R. Horton (DHI), Costs Ail Per the Zacks analyst, D.R. Horton is benefiting from its home affordability initiatives, and limited new and existing homes supply. However, increased cost and expenses are marring prospects. Product Launches Aid Gentex (GNTX) Amid Soaring Expenses The Zacks analyst is optimistic about Gentex's focus on generating meaningful growth driven by product launches. However, huge investments in technological developments remain a concern. DENTSPLY's (XRAY) Dental Imaging Platform Aids Topline Growth Per the Zacks analyst, DENTSPLY's computer-aided CAD/CAM dental imaging platform is likely to drive the prospect of the company as the market is expected to grow at CAGR of 9.3% till 2030. WIX Benefits from Strengthening Momentum Across Segments Per the Zacks analyst, Wix's performance is benefiting from solid momentum in Creative Subscriptions' and Business Solutions' segments. Increasing partner revenues and B2B partnerships bode well. Solid Demand, Pricing Actions Aid Carpenter Technology (CRS) Per the Zacks analyst, Carpenter Technology is gaining from strong demand across its end-use markets. Cost-reduction initiatives and efforts to preserve liquidity are also driving growth. New Upgrades CrowdStrike (CRWD) Rides on Product Strength, Acquisitions Per the Zacks analyst, CrowdStrike is gaining from solid contributions of its growth-oriented products, primarily Falcon platform. Also, strategic buyouts like Bionic and Reposify are positive. Strong Order Growth, Innovations to Benefit Textron (TXT) Per the Zacks analyst, solid orders for its products back by strong demand should boost Textron's future revenues. Also new product launch will enable it to capture more shares in the market. Acquisitions, Robust AUM Balance Aid SEI Investments (SEIC) Per the Zacks analyst, SEI Investments' diversified products and revenue mix, a strong global presence, strategic acquisitions and solid assets under management balance reflect improving prospects. New Downgrades Third-Party Assets Use, Competition Ail CNX Resources (CNX) Per the Zacks analyst, CNX Resources natural gas business can get impacted if facilities owned by third-parties fails to perform as expected. Intensely competitive natural gas business is a headwind. High Contract Costs, Geopolitical Issues Ail AAR Corp. (AIR) Per the Zacks analyst, increased expenses on account of firm contracts may hurt AAR Corp.'s operating results. The Russia-Ukraine conflict and the U.S. exit from Afghanistan might also impact it. Upstream Budget Tightness to Hurt ProPetro (PUMP) The Zacks analyst believes that the tightness in the upstream companies' investment budget is likely to continue through this year, which is expected to weigh on ProPetro's revenues. Want the latest recommendations from Zacks Investment Research? Today, you can download 7 Best Stocks for the Next 30 Days. Click to get this free report Apple Inc. (AAPL) : Free Stock Analysis Report Visa Inc. (V) : Free Stock Analysis Report Novo Nordisk A/S (NVO) : Free Stock Analysis Report PepsiCo, Inc. (PEP) : Free Stock Analysis Report S&P Global Inc. (SPGI) : Free Stock Analysis Report CrowdStrike (CRWD) : Free Stock Analysis Report To read this article on Zacks.com click here. Zacks Investment Research\""
      ]
     },
     "execution_count": 27,
     "metadata": {},
     "output_type": "execute_result"
    }
   ],
   "source": [
    "df['content'][1]"
   ]
  },
  {
   "cell_type": "code",
   "execution_count": 25,
   "id": "49d99961-eed2-4241-9054-7927519849a8",
   "metadata": {},
   "outputs": [
    {
     "data": {
      "text/plain": [
       "Top23\n",
       "<class 'str'>    1989\n",
       "Name: count, dtype: int64"
      ]
     },
     "execution_count": 25,
     "metadata": {},
     "output_type": "execute_result"
    }
   ],
   "source": [
    "combined_news_djia[f'Top{23}'] = combined_news_djia[f'Top{23}'].apply(str)\n",
    "combined_news_djia[f'Top{23}'].apply(type).value_counts()"
   ]
  },
  {
   "cell_type": "code",
   "execution_count": null,
   "id": "3121f58e-f2a7-4340-bc37-254f25d257cf",
   "metadata": {},
   "outputs": [],
   "source": []
  },
  {
   "cell_type": "code",
   "execution_count": 29,
   "id": "5a7a80f4-4c9f-4e12-9f01-06ef0649b28a",
   "metadata": {
    "scrolled": true
   },
   "outputs": [],
   "source": [
    "for i in range(1, 25):\n",
    "    combined_news_djia[f'Top{i}'] = combined_news_djia[f'Top{i}'].apply(str)\n",
    "    combined_news_djia[f'Top{i}'].apply(lambda x: x[2:-1] if x[0]=='b' else x)\n",
    "    \n"
   ]
  },
  {
   "cell_type": "code",
   "execution_count": 39,
   "id": "be26e76e-f13f-4fa6-ab4e-32d6c4335856",
   "metadata": {},
   "outputs": [
    {
     "name": "stderr",
     "output_type": "stream",
     "text": [
      "[nltk_data] Downloading package stopwords to\n",
      "[nltk_data]     /Users/baga_nuhkadiev/nltk_data...\n",
      "[nltk_data]   Package stopwords is already up-to-date!\n"
     ]
    },
    {
     "data": {
      "text/html": [
       "<div>\n",
       "<style scoped>\n",
       "    .dataframe tbody tr th:only-of-type {\n",
       "        vertical-align: middle;\n",
       "    }\n",
       "\n",
       "    .dataframe tbody tr th {\n",
       "        vertical-align: top;\n",
       "    }\n",
       "\n",
       "    .dataframe thead th {\n",
       "        text-align: right;\n",
       "    }\n",
       "</style>\n",
       "<table border=\"1\" class=\"dataframe\">\n",
       "  <thead>\n",
       "    <tr style=\"text-align: right;\">\n",
       "      <th></th>\n",
       "      <th>Text</th>\n",
       "    </tr>\n",
       "    <tr>\n",
       "      <th>Date</th>\n",
       "      <th></th>\n",
       "    </tr>\n",
       "  </thead>\n",
       "  <tbody>\n",
       "    <tr>\n",
       "      <th>2008-08-08</th>\n",
       "      <td>b \" georgia ' downs two russian warplanes ' co...</td>\n",
       "    </tr>\n",
       "    <tr>\n",
       "      <th>2008-08-11</th>\n",
       "      <td>b ' wont america nato help us ? wont help us ,...</td>\n",
       "    </tr>\n",
       "    <tr>\n",
       "      <th>2008-08-12</th>\n",
       "      <td>b ' remember adorable 9 - year - old sang open...</td>\n",
       "    </tr>\n",
       "    <tr>\n",
       "      <th>2008-08-13</th>\n",
       "      <td>b ' u . . refuses israel weapons attack iran :...</td>\n",
       "    </tr>\n",
       "    <tr>\n",
       "      <th>2008-08-14</th>\n",
       "      <td>b ' experts admit legalise drugs ' b ' experts...</td>\n",
       "    </tr>\n",
       "    <tr>\n",
       "      <th>...</th>\n",
       "      <td>...</td>\n",
       "    </tr>\n",
       "    <tr>\n",
       "      <th>2016-06-27</th>\n",
       "      <td>barclays rbs shares suspended trading tanking ...</td>\n",
       "    </tr>\n",
       "    <tr>\n",
       "      <th>2016-06-28</th>\n",
       "      <td>2 , 500 scientists australia : want save great...</td>\n",
       "    </tr>\n",
       "    <tr>\n",
       "      <th>2016-06-29</th>\n",
       "      <td>explosion airport istanbul explosion airport i...</td>\n",
       "    </tr>\n",
       "    <tr>\n",
       "      <th>2016-06-30</th>\n",
       "      <td>jamaica proposes marijuana dispensers tourists...</td>\n",
       "    </tr>\n",
       "    <tr>\n",
       "      <th>2016-07-01</th>\n",
       "      <td>117 - year - old woman mexico city finally rec...</td>\n",
       "    </tr>\n",
       "  </tbody>\n",
       "</table>\n",
       "<p>1989 rows × 1 columns</p>\n",
       "</div>"
      ],
      "text/plain": [
       "                                                         Text\n",
       "Date                                                         \n",
       "2008-08-08  b \" georgia ' downs two russian warplanes ' co...\n",
       "2008-08-11  b ' wont america nato help us ? wont help us ,...\n",
       "2008-08-12  b ' remember adorable 9 - year - old sang open...\n",
       "2008-08-13  b ' u . . refuses israel weapons attack iran :...\n",
       "2008-08-14  b ' experts admit legalise drugs ' b ' experts...\n",
       "...                                                       ...\n",
       "2016-06-27  barclays rbs shares suspended trading tanking ...\n",
       "2016-06-28  2 , 500 scientists australia : want save great...\n",
       "2016-06-29  explosion airport istanbul explosion airport i...\n",
       "2016-06-30  jamaica proposes marijuana dispensers tourists...\n",
       "2016-07-01  117 - year - old woman mexico city finally rec...\n",
       "\n",
       "[1989 rows x 1 columns]"
      ]
     },
     "execution_count": 39,
     "metadata": {},
     "output_type": "execute_result"
    }
   ],
   "source": [
    "import pandas as pd\n",
    "import numpy as np\n",
    "import nltk\n",
    "from nltk import WordPunctTokenizer\n",
    "from nltk.corpus import stopwords\n",
    "\n",
    "combined_news_djia = pd.read_csv('data/Combined_News_DJIA.csv')\n",
    "for i in range(1, 25):\n",
    "    combined_news_djia[f'Top{i}'] = combined_news_djia[f'Top{i}'].apply(str)\n",
    "    combined_news_djia[f'Top{i}'].apply(lambda x: x[2:-1] if x[0]=='b' else x)\n",
    "    \n",
    "\n",
    "data = pd.DataFrame(columns=['Date', 'Text'])\n",
    "\n",
    "data['Date'] = combined_news_djia['Date']\n",
    "data['Text'] = combined_news_djia['Top1']\n",
    "\n",
    "for i in range(1, 25):\n",
    "    data['Text'] = data['Text'] + \" \" + combined_news_djia[f'Top{i}']\n",
    "\n",
    "\n",
    "data = data.set_index('Date')\n",
    "\n",
    "nltk.download('stopwords')\n",
    "tokenizer = WordPunctTokenizer()\n",
    "stop_words = set(stopwords.words('english'))\n",
    "\n",
    "def process_headline(x):\n",
    "    x = str(x)\n",
    "    return \" \".join([w.lower() for w in tokenizer.tokenize(x) if not w.lower() in stop_words])\n",
    "\n",
    "data['Text'] = data['Text'].apply(process_headline)\n",
    "data"
   ]
  },
  {
   "cell_type": "code",
   "execution_count": null,
   "id": "d2d601e4-4f6c-426d-9449-ca9b7b4ae6c3",
   "metadata": {},
   "outputs": [],
   "source": []
  },
  {
   "cell_type": "code",
   "execution_count": null,
   "id": "1de6432a-b826-4336-8e6a-fb2cb874c445",
   "metadata": {},
   "outputs": [],
   "source": []
  },
  {
   "cell_type": "code",
   "execution_count": 40,
   "id": "a799de79-a5c9-4603-b4d0-fe6ecacb0daa",
   "metadata": {},
   "outputs": [
    {
     "name": "stderr",
     "output_type": "stream",
     "text": [
      "/Users/baga_nuhkadiev/opt/anaconda3/lib/python3.8/site-packages/langchain_core/_api/deprecation.py:119: LangChainDeprecationWarning: The class `ChatOpenAI` was deprecated in LangChain 0.0.10 and will be removed in 0.3.0. An updated version of the class exists in the langchain-openai package and should be used instead. To use it run `pip install -U langchain-openai` and import as `from langchain_openai import ChatOpenAI`.\n",
      "  warn_deprecated(\n"
     ]
    }
   ],
   "source": [
    "llm = ChatOpenAI(model = \"gpt-3.5-turbo\",\n",
    "                 openai_api_key = '', \n",
    "                 temperature = 0)"
   ]
  },
  {
   "cell_type": "code",
   "execution_count": 41,
   "id": "744873da-aabd-48ea-a1ed-e2994216a5ec",
   "metadata": {},
   "outputs": [
    {
     "name": "stderr",
     "output_type": "stream",
     "text": [
      "/Users/baga_nuhkadiev/opt/anaconda3/lib/python3.8/site-packages/langchain_core/_api/deprecation.py:119: LangChainDeprecationWarning: The class `LLMChain` was deprecated in LangChain 0.1.17 and will be removed in 0.3.0. Use RunnableSequence, e.g., `prompt | llm` instead.\n",
      "  warn_deprecated(\n"
     ]
    }
   ],
   "source": [
    "template = \"\"\"\n",
    "Identify the sentiment towards the Dow Jones (DJIA) stocks from the news article , where the sentiment score should be from -10 to +10 where -10 being the most negative and +10 being the most positve , and 0 being neutral\n",
    "\n",
    "Also give the proper explanation for your answers and how would it effect the prices of different stocks\n",
    "\n",
    "Article : {statement}\n",
    "\"\"\"\n",
    "\n",
    "# forming prompt using Langchain PromptTemplate functionality\n",
    "prompt = PromptTemplate(template = template, input_variables = [\"statement\"])\n",
    "llm_chain = LLMChain(prompt = prompt, llm = llm)"
   ]
  },
  {
   "cell_type": "code",
   "execution_count": 42,
   "id": "90a5b52c-0ba9-4225-b4ae-d7101a38dc32",
   "metadata": {},
   "outputs": [
    {
     "name": "stderr",
     "output_type": "stream",
     "text": [
      "/Users/baga_nuhkadiev/opt/anaconda3/lib/python3.8/site-packages/langchain_core/_api/deprecation.py:119: LangChainDeprecationWarning: The method `Chain.run` was deprecated in langchain 0.1.0 and will be removed in 0.3.0. Use invoke instead.\n",
      "  warn_deprecated(\n"
     ]
    },
    {
     "name": "stdout",
     "output_type": "stream",
     "text": [
      "The sentiment towards the Dow Jones (DJIA) stocks from this news article is likely to be negative. The article contains a lot of negative and concerning news stories such as suicide bombings, political unrest, violence, and geopolitical tensions. These types of news stories can create uncertainty and instability in the market, leading to a decrease in investor confidence and potentially causing stock prices to fall.\n",
      "\n",
      "Investors may react to this negative sentiment by selling off their stocks, leading to a decrease in the overall value of the Dow Jones (DJIA) stocks. It is important for investors to closely monitor the news and sentiment surrounding the market in order to make informed decisions about their investments.\n"
     ]
    }
   ],
   "source": [
    "print(llm_chain.run(data['Text'][13]))"
   ]
  },
  {
   "cell_type": "code",
   "execution_count": 43,
   "id": "e34090f9-7bf7-4289-a582-92bf47dc1d90",
   "metadata": {},
   "outputs": [],
   "source": [
    "# A function to count the number of tokens\n",
    "def count_tokens(text):\n",
    "    tokens = text.split()  \n",
    "    return len(tokens)"
   ]
  },
  {
   "cell_type": "code",
   "execution_count": 44,
   "id": "c6f0a04a-2f06-47c3-832a-52f97b16e45d",
   "metadata": {},
   "outputs": [],
   "source": [
    "# Applying the tokenization function to the DataFrame column\n",
    "data['TokenCount'] = data['Text'].apply(count_tokens)"
   ]
  },
  {
   "cell_type": "code",
   "execution_count": 45,
   "id": "9ce40bdc-bbd2-48c4-bcda-587b4fe8263b",
   "metadata": {},
   "outputs": [
    {
     "data": {
      "text/html": [
       "<div>\n",
       "<style scoped>\n",
       "    .dataframe tbody tr th:only-of-type {\n",
       "        vertical-align: middle;\n",
       "    }\n",
       "\n",
       "    .dataframe tbody tr th {\n",
       "        vertical-align: top;\n",
       "    }\n",
       "\n",
       "    .dataframe thead th {\n",
       "        text-align: right;\n",
       "    }\n",
       "</style>\n",
       "<table border=\"1\" class=\"dataframe\">\n",
       "  <thead>\n",
       "    <tr style=\"text-align: right;\">\n",
       "      <th></th>\n",
       "      <th>Text</th>\n",
       "      <th>TokenCount</th>\n",
       "    </tr>\n",
       "    <tr>\n",
       "      <th>Date</th>\n",
       "      <th></th>\n",
       "      <th></th>\n",
       "    </tr>\n",
       "  </thead>\n",
       "  <tbody>\n",
       "    <tr>\n",
       "      <th>2008-08-08</th>\n",
       "      <td>b \" georgia ' downs two russian warplanes ' co...</td>\n",
       "      <td>385</td>\n",
       "    </tr>\n",
       "    <tr>\n",
       "      <th>2008-08-11</th>\n",
       "      <td>b ' wont america nato help us ? wont help us ,...</td>\n",
       "      <td>283</td>\n",
       "    </tr>\n",
       "    <tr>\n",
       "      <th>2008-08-12</th>\n",
       "      <td>b ' remember adorable 9 - year - old sang open...</td>\n",
       "      <td>348</td>\n",
       "    </tr>\n",
       "    <tr>\n",
       "      <th>2008-08-13</th>\n",
       "      <td>b ' u . . refuses israel weapons attack iran :...</td>\n",
       "      <td>339</td>\n",
       "    </tr>\n",
       "    <tr>\n",
       "      <th>2008-08-14</th>\n",
       "      <td>b ' experts admit legalise drugs ' b ' experts...</td>\n",
       "      <td>297</td>\n",
       "    </tr>\n",
       "    <tr>\n",
       "      <th>...</th>\n",
       "      <td>...</td>\n",
       "      <td>...</td>\n",
       "    </tr>\n",
       "    <tr>\n",
       "      <th>2016-06-27</th>\n",
       "      <td>barclays rbs shares suspended trading tanking ...</td>\n",
       "      <td>328</td>\n",
       "    </tr>\n",
       "    <tr>\n",
       "      <th>2016-06-28</th>\n",
       "      <td>2 , 500 scientists australia : want save great...</td>\n",
       "      <td>381</td>\n",
       "    </tr>\n",
       "    <tr>\n",
       "      <th>2016-06-29</th>\n",
       "      <td>explosion airport istanbul explosion airport i...</td>\n",
       "      <td>320</td>\n",
       "    </tr>\n",
       "    <tr>\n",
       "      <th>2016-06-30</th>\n",
       "      <td>jamaica proposes marijuana dispensers tourists...</td>\n",
       "      <td>378</td>\n",
       "    </tr>\n",
       "    <tr>\n",
       "      <th>2016-07-01</th>\n",
       "      <td>117 - year - old woman mexico city finally rec...</td>\n",
       "      <td>427</td>\n",
       "    </tr>\n",
       "  </tbody>\n",
       "</table>\n",
       "<p>1989 rows × 2 columns</p>\n",
       "</div>"
      ],
      "text/plain": [
       "                                                         Text  TokenCount\n",
       "Date                                                                     \n",
       "2008-08-08  b \" georgia ' downs two russian warplanes ' co...         385\n",
       "2008-08-11  b ' wont america nato help us ? wont help us ,...         283\n",
       "2008-08-12  b ' remember adorable 9 - year - old sang open...         348\n",
       "2008-08-13  b ' u . . refuses israel weapons attack iran :...         339\n",
       "2008-08-14  b ' experts admit legalise drugs ' b ' experts...         297\n",
       "...                                                       ...         ...\n",
       "2016-06-27  barclays rbs shares suspended trading tanking ...         328\n",
       "2016-06-28  2 , 500 scientists australia : want save great...         381\n",
       "2016-06-29  explosion airport istanbul explosion airport i...         320\n",
       "2016-06-30  jamaica proposes marijuana dispensers tourists...         378\n",
       "2016-07-01  117 - year - old woman mexico city finally rec...         427\n",
       "\n",
       "[1989 rows x 2 columns]"
      ]
     },
     "execution_count": 45,
     "metadata": {},
     "output_type": "execute_result"
    }
   ],
   "source": [
    "data"
   ]
  },
  {
   "cell_type": "code",
   "execution_count": 46,
   "id": "6ce350b0-1b04-4484-b9e9-7315d84f895c",
   "metadata": {},
   "outputs": [],
   "source": [
    "# Define a token count threshold (for example, keep rows with more than 2 tokens)\n",
    "token_count_threshold = 3500\n",
    "\n",
    "# Create a new DataFrame by filtering based on the token count\n",
    "new_df = data[data['TokenCount'] < token_count_threshold]\n",
    "\n",
    "# Drop the 'TokenCount' column from the new DataFrame if you don't need it\n",
    "new_df = new_df.drop('TokenCount', axis = 1)\n",
    "\n",
    "# Resetting the index\n",
    "new_df = new_df.reset_index(drop = True)"
   ]
  },
  {
   "cell_type": "code",
   "execution_count": 47,
   "id": "4a6ded81-cfb1-43ba-9186-20d97043c4de",
   "metadata": {},
   "outputs": [],
   "source": [
    "template_2 = \"\"\"\n",
    "Identify the sentiment towards the Apple(AAPL) stocks of the news article from -10 to +10 where -10 being the most negative and +10 being the most positve , and 0 being neutral\n",
    "\n",
    "GIVE ANSWER IN ONLY ONE WORD AND THAT SHOULD BE THE SCORE\n",
    "\n",
    "Article : {statement}\n",
    "\"\"\"\n",
    "\n",
    "# forming prompt using Langchain PromptTemplate functionality\n",
    "prompt_2 = PromptTemplate(template = template_2, input_variables = [\"statement\"])\n"
   ]
  },
  {
   "cell_type": "code",
   "execution_count": 48,
   "id": "cdccbe7f-8e62-4456-a54a-926b6b6c91f5",
   "metadata": {},
   "outputs": [],
   "source": [
    "llm_chain_2 = LLMChain(prompt = prompt_2, llm = llm)\n"
   ]
  },
  {
   "cell_type": "code",
   "execution_count": 51,
   "id": "ef72b6a5-0c32-4b5d-a770-bb081e8e07cf",
   "metadata": {},
   "outputs": [
    {
     "name": "stdout",
     "output_type": "stream",
     "text": [
      "b ' remember adorable 9 - year - old sang opening ceremonies ? fake , .' b ' remember adorable 9 - year - old sang opening ceremonies ? fake , .' b \" russia ' ends georgia operation '\" b '\" sexual harassment would children ...\"' b \" al - qa ' eda losing support iraq brutal crackdown activities regards un - islamic - including women buying cucumbers \" b ' ceasefire georgia : putin outmaneuvers west ' b ' microsoft intel tried kill xo $ 100 laptop ' b ' stratfor : russo - georgian war balance power ' b \" ' trying get sense whole georgia - russia war : vote think georgia started , think russia \" b \" us military surprised timing swiftness russian military ' move south ossetia still trying sort happened , us defense official said monday \" b ' u . . beats war drum iran dumps dollar ' b ' gorbachev : \" georgian military attacked south ossetian capital tskhinvali multiple rocket launchers designed devastate large areas \"' b ' cnn use footage tskhinvali ruins cover georgian report [ video ]' b ' beginning war olympics opening violates ancient tradition truce conflict games . ioc could respond taking 2014 games away russia .' b ' 55 pyramids large luxor stacked mega - city pyramid tokyo bay ' b ' 11 top party cities world ' b ' u . . troops still georgia ( know georgia first place ?)' b ' russias response georgia right ' b ' gorbachev accuses u . . making \" serious blunder \" pursuing interest caucasus region ' b ' russia , georgia , nato : cold war two ' b ' remember adorable 62 - year - old led country war based evidence ? fake , .' b ' war georgia : israeli connection ' b ' signs point us encouraging georgia invade south ossetia . goddamnit bush .' b ' christopher king argues us nato behind georgian invasion south ossetia misjudged russian resolve . ' b ' america : new mexico ?'\n",
      "\n",
      "News sentiment:  -5\n"
     ]
    }
   ],
   "source": [
    "print(new_df['Text'][2])\n",
    "print('')\n",
    "print('News sentiment: ', llm_chain_2.run(new_df['Text'][2]))\n"
   ]
  },
  {
   "cell_type": "code",
   "execution_count": 52,
   "id": "f64a1db1-55c8-4ccf-8e2f-a4f46245732a",
   "metadata": {},
   "outputs": [],
   "source": [
    "x = []\n",
    "for i in range(0,new_df.shape[0]):\n",
    "    x.append(llm_chain_2.run(new_df['Text'][i]))\n"
   ]
  },
  {
   "cell_type": "code",
   "execution_count": 53,
   "id": "6363afc2-0f43-4d06-b205-c668c4059085",
   "metadata": {},
   "outputs": [
    {
     "data": {
      "image/png": "[encoded data removed]",
      "text/plain": [
       "<Figure size 432x288 with 1 Axes>"
      ]
     },
     "metadata": {},
     "output_type": "display_data"
    }
   ],
   "source": [
    "import matplotlib.pyplot as plt\n",
    "\n",
    "dt = pd.DataFrame(x) # Converting into Dataframe\n",
    "column_name = 0 # this is my column name you should change it according to your data\n",
    "value_counts = dt[column_name].value_counts()\n",
    "\n",
    "# Plotting the pie chart\n",
    "plt.pie(value_counts, labels = value_counts.index, autopct = '%1.1f%%', startangle = 140)\n",
    "plt.title(f'Pie Chart')\n",
    "plt.axis('equal')  # Equal aspect ratio ensures that the pie is drawn as a circle.\n",
    "\n",
    "# Show the pie chart\n",
    "plt.show()"
   ]
  },
  {
   "cell_type": "code",
   "execution_count": 54,
   "id": "ea8b8fa0-830c-4f05-a8e0-3477b6844f64",
   "metadata": {},
   "outputs": [],
   "source": [
    "value_to_remove = '0'\n",
    "# Remove all rows where the specified value occurs in the column\n",
    "dt_new = dt[dt[0] != value_to_remove]\n"
   ]
  },
  {
   "cell_type": "code",
   "execution_count": 55,
   "id": "8a9c5840-97fc-483a-96d9-179cf0caa7b4",
   "metadata": {},
   "outputs": [
    {
     "data": {
      "image/png": "[encoded data removed]",
      "text/plain": [
       "<Figure size 432x288 with 1 Axes>"
      ]
     },
     "metadata": {},
     "output_type": "display_data"
    }
   ],
   "source": [
    "\n",
    "value_counts = dt_new[column_name].value_counts()\n",
    "\n",
    "# Plotting the pie chart\n",
    "plt.pie(value_counts, labels = value_counts.index, autopct = '%1.1f%%', startangle = 140)\n",
    "plt.title(f'Pie Chart')\n",
    "plt.axis('equal')  # Equal aspect ratio ensures that the pie is drawn as a circle.\n",
    "\n",
    "# Show the pie chart\n",
    "plt.show()"
   ]
  },
  {
   "cell_type": "code",
   "execution_count": 60,
   "id": "4c65c6c2-d068-4d5b-956c-7c22393ef68d",
   "metadata": {
    "scrolled": true
   },
   "outputs": [],
   "source": [
    "np.save('fingpt_sentiment.npy', np.array(x))"
   ]
  }
 ],
 "metadata": {
  "kernelspec": {
   "display_name": "Python 3 (ipykernel)",
   "language": "python",
   "name": "python3"
  },
  "language_info": {
   "codemirror_mode": {
    "name": "ipython",
    "version": 3
   },
   "file_extension": ".py",
   "mimetype": "text/x-python",
   "name": "python",
   "nbconvert_exporter": "python",
   "pygments_lexer": "ipython3",
   "version": "3.8.3"
  }
 },
 "nbformat": 4,
 "nbformat_minor": 5
}
